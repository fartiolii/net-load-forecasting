{
 "cells": [
  {
   "cell_type": "code",
   "execution_count": 103,
   "id": "80bfa55b-32e4-417d-b649-9cebd6a8aa56",
   "metadata": {},
   "outputs": [],
   "source": [
    "import numpy as np\n",
    "import pandas as pd\n",
    "import matplotlib.pyplot as plt\n",
    "import seaborn as sns\n",
    "import statsmodels.api as sm\n",
    "from statsmodels.tsa.stattools import pacf, acf\n",
    "import statsmodels.tsa.api as smt\n",
    "from statsmodels.tsa.stattools import adfuller\n",
    "from scipy.optimize import minimize\n",
    "import cvxopt\n",
    "import pyreadr\n",
    "import os\n",
    "import time\n",
    "from datetime import timedelta\n",
    "from scipy.stats import norm\n",
    "import copy\n",
    "import warnings\n",
    "import utils\n",
    "import regression_fit\n",
    "import pickle\n",
    "from importlib import reload\n",
    "reload(utils)\n",
    "reload(regression_fit)\n",
    "from utils import *\n",
    "from regression_fit import *\n",
    "\n",
    "home = os.getcwd()"
   ]
  },
  {
   "cell_type": "markdown",
   "id": "328305dc-44d9-4736-aab2-efcf3153aee6",
   "metadata": {},
   "source": [
    "## Dataset preprocessing\n",
    "Train set: from 2014 to 2018. Test set: from 2019 to 2021"
   ]
  },
  {
   "cell_type": "code",
   "execution_count": 105,
   "id": "a7757262-6ca4-4027-8583-fc0d7cb80ae3",
   "metadata": {},
   "outputs": [],
   "source": [
    "# Import dataset of group H\n",
    "GroupP = pyreadr.read_r(home + '\\\\Other_data\\\\GroupP.rda')\n",
    "GroupP_df = pd.DataFrame(list(GroupP.values())[0])\n",
    "\n",
    "# Add lagged net-load values (columns y0_96, y0_336, diff_96, diff_336)\n",
    "GroupP_df = add_autoregressive_features(GroupP_df)\n",
    "\n",
    "# Split in train and test set \n",
    "train_set = GroupP_df[720:87440] \n",
    "test_set = GroupP_df[87440:]"
   ]
  },
  {
   "cell_type": "markdown",
   "id": "62bcc450-9f2e-461c-8e80-31a64cf7787f",
   "metadata": {},
   "source": [
    "## Persistence benchmark (7 days)"
   ]
  },
  {
   "cell_type": "code",
   "execution_count": 108,
   "id": "25d3bd22-bd36-41a0-9142-16b73b74d7d3",
   "metadata": {},
   "outputs": [],
   "source": [
    "pb_reg = Persistence_Benchmark(GroupP_df)\n",
    "y_pers_benchmark = pb_reg.predict(test_set['targetTime'],delay_days=7)"
   ]
  },
  {
   "cell_type": "code",
   "execution_count": 109,
   "id": "ec216c34-74f9-4ad8-985e-00871d0d9c9f",
   "metadata": {},
   "outputs": [
    {
     "name": "stdout",
     "output_type": "stream",
     "text": [
      "\n",
      "Persistence Benchmark (7 days)\n",
      "\n",
      "RMSE in 2019:  292.55394652390055\n",
      "RMSE in 2020:  259.1673348688048\n",
      "RMSE in 2021:  265.2277872863094\n",
      "\n",
      "MAE in 2019:  231.81921620232933\n",
      "MAE in 2020:  202.5448496702297\n",
      "MAE in 2021:  204.00244913087937\n",
      "\n",
      "MAPE in 2019:  4.407910843840326\n",
      "MAPE in 2020:  5.862696597558205\n",
      "MAPE in 2021:  9.351673913750366\n"
     ]
    }
   ],
   "source": [
    "idx_2020 = 17516\n",
    "idx_2021 = 35104\n",
    "\n",
    "print(\"\\nPersistence Benchmark (7 days)\")\n",
    "\n",
    "print(\"\\nRMSE in 2019: \", RMSE(np.array(test_set['node'][:idx_2020]), y_pers_benchmark[:idx_2020]))\n",
    "print(\"RMSE in 2020: \", RMSE(np.array(test_set['node'][idx_2020:idx_2021]), y_pers_benchmark[idx_2020:idx_2021]))\n",
    "print(\"RMSE in 2021: \", RMSE(np.array(test_set['node'][idx_2021:]), y_pers_benchmark[idx_2021:]))\n",
    "\n",
    "print(\"\\nMAE in 2019: \", MAE(np.array(test_set['node'][:idx_2020]), y_pers_benchmark[:idx_2020]))\n",
    "print(\"MAE in 2020: \", MAE(np.array(test_set['node'][idx_2020:idx_2021]), y_pers_benchmark[idx_2020:idx_2021]))\n",
    "print(\"MAE in 2021: \", MAE(np.array(test_set['node'][idx_2021:]), y_pers_benchmark[idx_2021:]))\n",
    "\n",
    "print(\"\\nMAPE in 2019: \", MAPE(np.array(test_set['node'][:idx_2020]), y_pers_benchmark[:idx_2020]))\n",
    "print(\"MAPE in 2020: \", MAPE(np.array(test_set['node'][idx_2020:idx_2021]), y_pers_benchmark[idx_2020:idx_2021]))\n",
    "print(\"MAPE in 2021: \", MAPE(np.array(test_set['node'][idx_2021:]), y_pers_benchmark[idx_2021:]))"
   ]
  },
  {
   "cell_type": "markdown",
   "id": "634d9645-ec6a-46bc-a6a5-603afefb03e2",
   "metadata": {},
   "source": [
    "## Persistence benchmark (2 days)"
   ]
  },
  {
   "cell_type": "code",
   "execution_count": 111,
   "id": "d78e0c75-6af5-4b96-a363-64ec683d7377",
   "metadata": {},
   "outputs": [],
   "source": [
    "pb_reg = Persistence_Benchmark(GroupP_df)\n",
    "y_pers_benchmark_2 = pb_reg.predict(test_set['targetTime'],delay_days=2)"
   ]
  },
  {
   "cell_type": "code",
   "execution_count": 112,
   "id": "336b6f21-44d1-4c35-9000-902a4bc44ac8",
   "metadata": {},
   "outputs": [
    {
     "name": "stdout",
     "output_type": "stream",
     "text": [
      "\n",
      "Persistence Benchmark (2 days)\n",
      "\n",
      "RMSE in 2019:  262.32441266686504\n",
      "RMSE in 2020:  257.881499528715\n",
      "RMSE in 2021:  223.74165478365265\n",
      "\n",
      "MAE in 2019:  201.99560259191594\n",
      "MAE in 2020:  199.102959631567\n",
      "MAE in 2021:  169.10488190184049\n",
      "\n",
      "MAPE in 2019:  3.8606272937062394\n",
      "MAPE in 2020:  5.02569956312503\n",
      "MAPE in 2021:  9.31237564793908\n"
     ]
    }
   ],
   "source": [
    "print(\"\\nPersistence Benchmark (2 days)\")\n",
    "\n",
    "print(\"\\nRMSE in 2019: \", RMSE(np.array(test_set['node'][:idx_2020]), y_pers_benchmark_2[:idx_2020]))\n",
    "print(\"RMSE in 2020: \", RMSE(np.array(test_set['node'][idx_2020:idx_2021]), y_pers_benchmark_2[idx_2020:idx_2021]))\n",
    "print(\"RMSE in 2021: \", RMSE(np.array(test_set['node'][idx_2021:]), y_pers_benchmark_2[idx_2021:]))\n",
    "\n",
    "print(\"\\nMAE in 2019: \", MAE(np.array(test_set['node'][:idx_2020]), y_pers_benchmark_2[:idx_2020]))\n",
    "print(\"MAE in 2020: \", MAE(np.array(test_set['node'][idx_2020:idx_2021]), y_pers_benchmark_2[idx_2020:idx_2021]))\n",
    "print(\"MAE in 2021: \", MAE(np.array(test_set['node'][idx_2021:]), y_pers_benchmark_2[idx_2021:]))\n",
    "\n",
    "print(\"\\nMAPE in 2019: \", MAPE(np.array(test_set['node'][:idx_2020]), y_pers_benchmark_2[:idx_2020]))\n",
    "print(\"MAPE in 2020: \", MAPE(np.array(test_set['node'][idx_2020:idx_2021]), y_pers_benchmark_2[idx_2020:idx_2021]))\n",
    "print(\"MAPE in 2021: \", MAPE(np.array(test_set['node'][idx_2021:]), y_pers_benchmark_2[idx_2021:]))"
   ]
  },
  {
   "cell_type": "markdown",
   "id": "67485e2e-2720-4d45-ab60-d87eb723aa69",
   "metadata": {},
   "source": [
    "## GAM-Point model \n",
    "Forecasts obtained in R with the bam function of the mgcv package\n",
    "\n",
    "Target variable: Net-Load"
   ]
  },
  {
   "cell_type": "code",
   "execution_count": 114,
   "id": "35b87ea5-6aa5-4d9c-9553-7841899cc965",
   "metadata": {},
   "outputs": [],
   "source": [
    "y_R = pyreadr.read_r(home + '\\\\Other_data\\\\Results R\\\\GroupP_GAM_R_bam.rda')\n",
    "y_R = pd.DataFrame(list(y_R.values())[0])\n",
    "y_R_test_set = np.array(y_R).flatten()"
   ]
  },
  {
   "cell_type": "code",
   "execution_count": 115,
   "id": "f0b971da-28d5-4061-902b-aefc9433de01",
   "metadata": {},
   "outputs": [
    {
     "name": "stdout",
     "output_type": "stream",
     "text": [
      "GAM-Point model\n",
      "\n",
      "RMSE in 2019:  80.00135281297064\n",
      "RMSE in 2020:  82.32824973099942\n",
      "RMSE in 2021:  80.44287751753939\n",
      "\n",
      "MAE in 2019:  61.713971832099666\n",
      "MAE in 2020:  63.304719196287586\n",
      "MAE in 2021:  65.29617055765894\n",
      "\n",
      "MAPE in 2019:  1.5242563857138358\n",
      "MAPE in 2020:  1.6796243694633595\n",
      "MAPE in 2021:  2.7453055043591332\n"
     ]
    }
   ],
   "source": [
    "print(\"GAM-Point model\")\n",
    "print(\"\\nRMSE in 2019: \", RMSE(np.array(test_set['node'][:idx_2020]), y_R_test_set[:idx_2020]))\n",
    "print(\"RMSE in 2020: \", RMSE(np.array(test_set['node'][idx_2020:idx_2021]), y_R_test_set[idx_2020:idx_2021]))\n",
    "print(\"RMSE in 2021: \", RMSE(np.array(test_set['node'][idx_2021:]), y_R_test_set[idx_2021:]))\n",
    "\n",
    "print(\"\\nMAE in 2019: \", MAE(np.array(test_set['node'][:idx_2020]), y_R_test_set[:idx_2020]))\n",
    "print(\"MAE in 2020: \", MAE(np.array(test_set['node'][idx_2020:idx_2021]), y_R_test_set[idx_2020:idx_2021]))\n",
    "print(\"MAE in 2021: \", MAE(np.array(test_set['node'][idx_2021:]), y_R_test_set[idx_2021:]))\n",
    "\n",
    "print(\"\\nMAPE in 2019: \", MAPE(np.array(test_set['node'][:idx_2020]), y_R_test_set[:idx_2020]))\n",
    "print(\"MAPE in 2020: \", MAPE(np.array(test_set['node'][idx_2020:idx_2021]), y_R_test_set[idx_2020:idx_2021]))\n",
    "print(\"MAPE in 2021: \", MAPE(np.array(test_set['node'][idx_2021:]), y_R_test_set[idx_2021:]))"
   ]
  },
  {
   "cell_type": "markdown",
   "id": "2b7e2676-9fc2-4eb4-aa91-ab9b9dca46d6",
   "metadata": {},
   "source": [
    "## Static Kalman GAM\n",
    "Results obtained in R"
   ]
  },
  {
   "cell_type": "code",
   "execution_count": 117,
   "id": "9c8bf008-e3dd-43bd-b0c7-e1300b3f6dfa",
   "metadata": {},
   "outputs": [],
   "source": [
    "GroupP_KF = pyreadr.read_r(home + '\\\\Other_data\\\\KF R\\\\GroupP_KF_static_delay.rda')\n",
    "y_kf_static = pd.DataFrame(list(GroupP_KF.values())[0])\n",
    "y_kf_static_delay_R = np.array(y_kf_static).flatten()"
   ]
  },
  {
   "cell_type": "code",
   "execution_count": 118,
   "id": "7cc2c4dd-505a-4a41-999f-4bf477c512a3",
   "metadata": {},
   "outputs": [
    {
     "name": "stdout",
     "output_type": "stream",
     "text": [
      "Static Kalman GAM\n",
      "\n",
      "RMSE in 2019:  80.30028047354412\n",
      "RMSE in 2020:  81.90940119773698\n",
      "RMSE in 2021:  77.18460197357831\n",
      "\n",
      "MAE in 2019:  62.08315748184486\n",
      "MAE in 2020:  63.47175552025848\n",
      "MAE in 2021:  61.24493518687378\n",
      "\n",
      "MAPE in 2019:  1.5389645183685394\n",
      "MAPE in 2020:  1.8005520654871139\n",
      "MAPE in 2021:  2.5262437575897554\n"
     ]
    }
   ],
   "source": [
    "print(\"Static Kalman GAM\")\n",
    "print(\"\\nRMSE in 2019: \", RMSE(np.array(test_set['node'][:idx_2020]), y_kf_static_delay_R[:idx_2020]))\n",
    "print(\"RMSE in 2020: \", RMSE(np.array(test_set['node'][idx_2020:idx_2021]), y_kf_static_delay_R[idx_2020:idx_2021]))\n",
    "print(\"RMSE in 2021: \", RMSE(np.array(test_set['node'][idx_2021:]), y_kf_static_delay_R[idx_2021:]))\n",
    "\n",
    "print(\"\\nMAE in 2019: \", MAE(np.array(test_set['node'][:idx_2020]), y_kf_static_delay_R[:idx_2020]))\n",
    "print(\"MAE in 2020: \", MAE(np.array(test_set['node'][idx_2020:idx_2021]), y_kf_static_delay_R[idx_2020:idx_2021]))\n",
    "print(\"MAE in 2021: \", MAE(np.array(test_set['node'][idx_2021:]), y_kf_static_delay_R[idx_2021:]))\n",
    "\n",
    "print(\"\\nMAPE in 2019: \", MAPE(np.array(test_set['node'][:idx_2020]), y_kf_static_delay_R[:idx_2020]))\n",
    "print(\"MAPE in 2020: \", MAPE(np.array(test_set['node'][idx_2020:idx_2021]), y_kf_static_delay_R[idx_2020:idx_2021]))\n",
    "print(\"MAPE in 2021: \", MAPE(np.array(test_set['node'][idx_2021:]), y_kf_static_delay_R[idx_2021:]))"
   ]
  },
  {
   "cell_type": "markdown",
   "id": "46f2ab59-fcec-4bd3-97ca-db3c37dec3c7",
   "metadata": {},
   "source": [
    "## Dynamic Kalman GAM \n",
    "Hyperparameters obtained with the Reduced Grid Search (I) method, which uses the Identity Initialization Matrix"
   ]
  },
  {
   "cell_type": "code",
   "execution_count": 120,
   "id": "2c09503f-c75e-4f41-8a4e-6b2fa6b9fb3c",
   "metadata": {},
   "outputs": [],
   "source": [
    "GroupP_KF = pyreadr.read_r(home + '\\\\Other_data\\\\KF R\\\\GroupP_KF_dynamic_delay.rda')\n",
    "y_kf_dynamic = pd.DataFrame(list(GroupP_KF.values())[0])\n",
    "y_kf_dynamic_delay_R = np.array(y_kf_dynamic).flatten()"
   ]
  },
  {
   "cell_type": "code",
   "execution_count": 121,
   "id": "9b71a77f-3ea6-4d2e-82c7-e2cedd87b4fc",
   "metadata": {},
   "outputs": [
    {
     "name": "stdout",
     "output_type": "stream",
     "text": [
      "Dynamic Kalman GAM \n",
      "\n",
      "RMSE in 2019:  79.41636783328305\n",
      "RMSE in 2020:  77.92443077497875\n",
      "RMSE in 2021:  74.1238492177661\n",
      "\n",
      "MAE in 2019:  61.180437472207146\n",
      "MAE in 2020:  60.11536402904546\n",
      "MAE in 2021:  56.16068739562044\n",
      "\n",
      "MAPE in 2019:  1.5247846511908258\n",
      "MAPE in 2020:  1.6776333552220644\n",
      "MAPE in 2021:  2.3146284228930627\n"
     ]
    }
   ],
   "source": [
    "print(\"Dynamic Kalman GAM \")\n",
    "print(\"\\nRMSE in 2019: \", RMSE(np.array(test_set['node'][:idx_2020]), y_kf_dynamic_delay_R[:idx_2020]))\n",
    "print(\"RMSE in 2020: \", RMSE(np.array(test_set['node'][idx_2020:idx_2021]), y_kf_dynamic_delay_R[idx_2020:idx_2021]))\n",
    "print(\"RMSE in 2021: \", RMSE(np.array(test_set['node'][idx_2021:]), y_kf_dynamic_delay_R[idx_2021:]))\n",
    "\n",
    "print(\"\\nMAE in 2019: \", MAE(np.array(test_set['node'][:idx_2020]), y_kf_dynamic_delay_R[:idx_2020]))\n",
    "print(\"MAE in 2020: \", MAE(np.array(test_set['node'][idx_2020:idx_2021]), y_kf_dynamic_delay_R[idx_2020:idx_2021]))\n",
    "print(\"MAE in 2021: \", MAE(np.array(test_set['node'][idx_2021:]), y_kf_dynamic_delay_R[idx_2021:]))\n",
    "\n",
    "print(\"\\nMAPE in 2019: \", MAPE(np.array(test_set['node'][:idx_2020]), y_kf_dynamic_delay_R[:idx_2020]))\n",
    "print(\"MAPE in 2020: \", MAPE(np.array(test_set['node'][idx_2020:idx_2021]), y_kf_dynamic_delay_R[idx_2020:idx_2021]))\n",
    "print(\"MAPE in 2021: \", MAPE(np.array(test_set['node'][idx_2021:]), y_kf_dynamic_delay_R[idx_2021:]))"
   ]
  },
  {
   "cell_type": "markdown",
   "id": "2ee2ece1-bb4d-43dc-a1e4-9ccd4e1c2ab4",
   "metadata": {},
   "source": [
    "# LM-Point model\n",
    "Linear Regression model \n",
    "\n",
    "Response variable: 7-days differenced net-load"
   ]
  },
  {
   "cell_type": "code",
   "execution_count": 123,
   "id": "a2e8c896-9911-4f48-9a15-b62cabdaa87b",
   "metadata": {},
   "outputs": [],
   "source": [
    "St_train = regression_feature_matrix(train_set)\n",
    "\n",
    "# Target variable is the 7-days differenced net-load\n",
    "model = sm.OLS(train_set[\"diff_336\"], St_train)\n",
    "results = model.fit()             \n",
    "params = results.params\n",
    "\n",
    "St_test = regression_feature_matrix(test_set)\n",
    "\n",
    "# The net-load value of 7 days prior is added back to the differenced net-load forecast \n",
    "y_lin = np.array(test_set['y0_336']) + St_test@params"
   ]
  },
  {
   "cell_type": "code",
   "execution_count": 124,
   "id": "92473f36-aa4d-4d8a-a340-2294edcd7200",
   "metadata": {},
   "outputs": [
    {
     "name": "stdout",
     "output_type": "stream",
     "text": [
      "LM-Point model\n",
      "\n",
      "RMSE in 2019 test set:  80.09231986504119\n",
      "RMSE in 2020 test set:  82.97615112523845\n",
      "RMSE in 2021 test set:  75.49898950714623\n",
      "\n",
      "MAE in 2019 test set:  61.89297145521798\n",
      "MAE in 2020 test set:  63.72738997694685\n",
      "MAE in 2021 test set:  58.028492314588036\n",
      "\n",
      "MAPE in 2019 test set:  1.47477360177377\n",
      "MAPE in 2020 test set:  1.497802805167625\n",
      "MAPE in 2021 test set:  2.379081095550772\n"
     ]
    }
   ],
   "source": [
    "idx_2020 = 17516 #Index of the first data point in 2020\n",
    "idx_2021 = 35104 #Index of the first data point in 2021\n",
    "\n",
    "print(\"LM-Point model\")\n",
    "\n",
    "print(\"\\nRMSE in 2019 test set: \", RMSE(np.array(test_set['node'][:idx_2020]), y_lin[:idx_2020]))\n",
    "print(\"RMSE in 2020 test set: \", RMSE(np.array(test_set['node'][idx_2020:idx_2021]), y_lin[idx_2020:idx_2021]))\n",
    "print(\"RMSE in 2021 test set: \", RMSE(np.array(test_set['node'][idx_2021:]), y_lin[idx_2021:]))\n",
    "\n",
    "print(\"\\nMAE in 2019 test set: \", MAE(np.array(test_set['node'][:idx_2020]), y_lin[:idx_2020]))\n",
    "print(\"MAE in 2020 test set: \", MAE(np.array(test_set['node'][idx_2020:idx_2021]), y_lin[idx_2020:idx_2021]))\n",
    "print(\"MAE in 2021 test set: \", MAE(np.array(test_set['node'][idx_2021:]), y_lin[idx_2021:]))\n",
    "\n",
    "print(\"\\nMAPE in 2019 test set: \", MAPE(np.array(test_set['node'][:idx_2020]), y_lin[:idx_2020]))\n",
    "print(\"MAPE in 2020 test set: \", MAPE(np.array(test_set['node'][idx_2020:idx_2021]), y_lin[idx_2020:idx_2021]))\n",
    "print(\"MAPE in 2021 test set: \", MAPE(np.array(test_set['node'][idx_2021:]), y_lin[idx_2021:]))"
   ]
  },
  {
   "cell_type": "markdown",
   "id": "e4f44b5e-2074-4f85-8bd8-85724c117f76",
   "metadata": {},
   "source": [
    "# Static Kalman LM"
   ]
  },
  {
   "cell_type": "code",
   "execution_count": 126,
   "id": "8a2adbf2-8a13-4f2b-8eab-d6172d46594f",
   "metadata": {},
   "outputs": [],
   "source": [
    "kf_static_OLS = Kalman_Filter(GAM=False,params=params)\n",
    "kf_static_OLS.fit(St_train, train_set['diff_336'])\n",
    "# Computation of the standard deviation of the components of the state vector (required for the Reduced Grid Search (II) method)\n",
    "std_static_OLS = np.std(kf_static_OLS.theta_mat[1000:],axis=0)\n",
    "\n",
    "St_test = regression_feature_matrix(test_set)\n",
    "y_static_mean, _ = kf_static_OLS.predict(St_test, test_set[[\"targetTime\", \"diff_336\"]], delay=True) \n",
    "\n",
    "# The net-load value of 7 days prior is added back to the differenced net-load forecast \n",
    "y_static_mean += test_set[\"y0_336\"]"
   ]
  },
  {
   "cell_type": "code",
   "execution_count": 127,
   "id": "fb787b9f-5e5f-4e88-92f2-d4d99b81ef4b",
   "metadata": {},
   "outputs": [
    {
     "name": "stdout",
     "output_type": "stream",
     "text": [
      "Static Kalman GAM\n",
      "\n",
      "RMSE in 2019:  79.38248488518587\n",
      "RMSE in 2020:  81.7540359652131\n",
      "RMSE in 2021:  75.77715099577722\n",
      "\n",
      "MAE in 2019:  61.204017014302316\n",
      "MAE in 2020:  63.020080870085955\n",
      "MAE in 2021:  58.40989492809905\n",
      "\n",
      "MAPE in 2019:  1.4703606091216066\n",
      "MAPE in 2020:  1.5531166440001754\n",
      "MAPE in 2021:  2.3541306327072657\n"
     ]
    }
   ],
   "source": [
    "print(\"Static Kalman GAM\")\n",
    "\n",
    "print(\"\\nRMSE in 2019: \", RMSE(np.array(test_set['node'][:idx_2020]), y_static_mean[:idx_2020]))\n",
    "print(\"RMSE in 2020: \", RMSE(np.array(test_set['node'][idx_2020:idx_2021]), y_static_mean[idx_2020:idx_2021]))\n",
    "print(\"RMSE in 2021: \", RMSE(np.array(test_set['node'][idx_2021:]), y_static_mean[idx_2021:]))\n",
    "\n",
    "print(\"\\nMAE in 2019: \", MAE(np.array(test_set['node'][:idx_2020]), y_static_mean[:idx_2020]))\n",
    "print(\"MAE in 2020: \", MAE(np.array(test_set['node'][idx_2020:idx_2021]), y_static_mean[idx_2020:idx_2021]))\n",
    "print(\"MAE in 2021: \", MAE(np.array(test_set['node'][idx_2021:]), y_static_mean[idx_2021:]))\n",
    "\n",
    "print(\"\\nMAPE in 2019: \", MAPE(np.array(test_set['node'][:idx_2020]), y_static_mean[:idx_2020]))\n",
    "print(\"MAPE in 2020: \", MAPE(np.array(test_set['node'][idx_2020:idx_2021]), y_static_mean[idx_2020:idx_2021]))\n",
    "print(\"MAPE in 2021: \", MAPE(np.array(test_set['node'][idx_2021:]), y_static_mean[idx_2021:]))"
   ]
  },
  {
   "cell_type": "markdown",
   "id": "d8ce695f-3bfd-4524-a7da-560b3bbcca5e",
   "metadata": {},
   "source": [
    "# Dynamic Kalman LM"
   ]
  },
  {
   "cell_type": "markdown",
   "id": "a37101f9-1b16-4e42-8371-e4da2223be85",
   "metadata": {},
   "source": [
    "Hyperparameters optimization with the Reduced Grid Search (II) method, which uses the State Variance Optimization method \n"
   ]
  },
  {
   "cell_type": "code",
   "execution_count": 130,
   "id": "a72e04f6-5b3a-40df-869a-373d2d27896d",
   "metadata": {},
   "outputs": [
    {
     "name": "stdout",
     "output_type": "stream",
     "text": [
      "1e-10\n",
      "-677839.3291876058\n",
      "1e-11\n",
      "-1198532.2196018833\n",
      "1e-12\n",
      "-686188.4993597809\n",
      "1e-13\n",
      "-553302.2452294303\n",
      "1e-14\n",
      "-517469.17891004635\n",
      "1e-15\n",
      "-553565.7927980763\n",
      "1e-16\n",
      "-505393.2736914998\n",
      "1e-17\n",
      "-1445832.3660070014\n",
      "1e-18\n",
      "-1445622.9031761996\n",
      "1e-19\n",
      "-1445542.0915700044\n",
      "Optimal q:  5.945813747741978e-13\n",
      "Optimal sigma:  77.10910288508082\n",
      "Maximum likelihood achieved:  -505393.2736914998\n"
     ]
    }
   ],
   "source": [
    "q_list = [1e-10,1e-11, 1e-12, 1e-13,1e-14,1e-15,1e-16, 1e-17, 1e-18, 1e-19]\n",
    "optim = Q_optimization(St_train, train_set[[\"targetTime\", \"diff_336\"]],GAM=False,params=params)\n",
    "Q, sigma, P, theta1 = optim.grid_search_reduced_likelihood(q_list=q_list, std_static=std_static_OLS) "
   ]
  },
  {
   "cell_type": "code",
   "execution_count": 131,
   "id": "809fce2e-2636-4592-8605-ca5585aa5324",
   "metadata": {
    "tags": []
   },
   "outputs": [],
   "source": [
    "kf_dynamic_OLS = Kalman_Filter(GAM=False, Q=Q, sigma=sigma, P=P, theta1=theta1, params=params)\n",
    "kf_dynamic_OLS.fit(St_train, train_set['diff_336'])\n",
    "\n",
    "St_test = regression_feature_matrix(test_set)\n",
    "\n",
    "y_dynamic_mean, _ = kf_dynamic_OLS.predict(St_test, test_set[[\"targetTime\", \"diff_336\"]], delay=True)\n",
    "\n",
    "# The net-load value of 7 days prior is added back to the differenced net-load forecast \n",
    "y_dynamic_mean += test_set[\"y0_336\"]"
   ]
  },
  {
   "cell_type": "code",
   "execution_count": 132,
   "id": "2b3a434d-3aed-457c-a011-705be02cc6f0",
   "metadata": {},
   "outputs": [
    {
     "name": "stdout",
     "output_type": "stream",
     "text": [
      "Dynamic Kalman LM\n",
      "\n",
      "RMSE in 2019:  77.611503954898\n",
      "RMSE in 2020:  79.33621414420367\n",
      "RMSE in 2021:  74.42184481163841\n",
      "\n",
      "MAE in 2019:  59.786100234258825\n",
      "MAE in 2020:  60.52927144328827\n",
      "MAE in 2021:  54.737758883090294\n",
      "\n",
      "MAPE in 2019:  1.405238161765809\n",
      "MAPE in 2020:  1.6608013646228688\n",
      "MAPE in 2021:  2.1327754618646733\n"
     ]
    }
   ],
   "source": [
    "print(\"Dynamic Kalman LM\")\n",
    "\n",
    "print(\"\\nRMSE in 2019: \", RMSE(np.array(test_set['node'][:idx_2020]), y_dynamic_mean[:idx_2020]))\n",
    "print(\"RMSE in 2020: \", RMSE(np.array(test_set['node'][idx_2020:idx_2021]), y_dynamic_mean[idx_2020:idx_2021]))\n",
    "print(\"RMSE in 2021: \", RMSE(np.array(test_set['node'][idx_2021:]), y_dynamic_mean[idx_2021:]))\n",
    "\n",
    "print(\"\\nMAE in 2019: \", MAE(np.array(test_set['node'][:idx_2020]), y_dynamic_mean[:idx_2020]))\n",
    "print(\"MAE in 2020: \", MAE(np.array(test_set['node'][idx_2020:idx_2021]), y_dynamic_mean[idx_2020:idx_2021]))\n",
    "print(\"MAE in 2021: \", MAE(np.array(test_set['node'][idx_2021:]), y_dynamic_mean[idx_2021:]))\n",
    "\n",
    "print(\"\\nMAPE in 2019: \", MAPE(np.array(test_set['node'][:idx_2020]), y_dynamic_mean[:idx_2020]))\n",
    "print(\"MAPE in 2020: \", MAPE(np.array(test_set['node'][idx_2020:idx_2021]), y_dynamic_mean[idx_2020:idx_2021]))\n",
    "print(\"MAPE in 2021: \", MAPE(np.array(test_set['node'][idx_2021:]), y_dynamic_mean[idx_2021:]))"
   ]
  },
  {
   "cell_type": "code",
   "execution_count": null,
   "id": "08cc8cc2-aabf-4898-b160-0f49dc18049a",
   "metadata": {},
   "outputs": [],
   "source": []
  },
  {
   "cell_type": "code",
   "execution_count": null,
   "id": "3aa4ab62-f2bf-4555-922e-abb912e90848",
   "metadata": {},
   "outputs": [],
   "source": []
  },
  {
   "cell_type": "markdown",
   "id": "82ff08b8-f8ac-4df5-a513-1485c1145895",
   "metadata": {},
   "source": [
    "## Comparison among target variables for Dynamic Kalman GAM by using Iterative Grid Search"
   ]
  },
  {
   "cell_type": "markdown",
   "id": "d29ec325-15b4-48e9-8118-83bc5538cc09",
   "metadata": {},
   "source": [
    "### Target variable: Normalized net-load\n",
    "\n",
    "List: [1, 2^-1, 2^-2, 2^-3, 2^-4, 2^-5, 2^-6, 2^-7, 2^-8, 2^-9, 2^-10, \n",
    "         2^-11, 2^-12, 2^-13, 2^-14, 2^-15, 2^-16, 2^-17, 2^-18, 2^-19,2^-20, \n",
    "         2^-21, 2^-22, 2^-23, 2^-24, 2^-25, 2^-26, 2^-27, 2^-28, 2^-29,2^-30]"
   ]
  },
  {
   "cell_type": "code",
   "execution_count": 135,
   "id": "3ff0bcd2-a777-4a87-a8f5-bde874256fae",
   "metadata": {},
   "outputs": [],
   "source": [
    "GroupP_KF = pyreadr.read_r(home + '\\\\Other_data\\\\KF R\\\\GroupP_KF_dynamic_delay_node_n.rda')\n",
    "y_kf_dynamic = pd.DataFrame(list(GroupP_KF.values())[0])\n",
    "y_kf_dynamic_delay_R_n = np.array(y_kf_dynamic).flatten()"
   ]
  },
  {
   "cell_type": "code",
   "execution_count": 136,
   "id": "afbd2dcc-4659-47db-908c-76c4e766ab61",
   "metadata": {},
   "outputs": [
    {
     "name": "stdout",
     "output_type": "stream",
     "text": [
      "Dynamic Kalman GAM - Normalized net-load\n",
      "\n",
      "RMSE in 2019:  88.70609551080786\n",
      "RMSE in 2020:  89.19539806476557\n",
      "RMSE in 2021:  83.42526588480932\n",
      "\n",
      "MAE in 2019:  68.35596956773071\n",
      "MAE in 2020:  68.46388723329187\n",
      "MAE in 2021:  61.3536277624885\n",
      "\n",
      "MAPE in 2019:  1.6359001791524739\n",
      "MAPE in 2020:  1.623263096337977\n",
      "MAPE in 2021:  1.9418762647767533\n"
     ]
    }
   ],
   "source": [
    "print(\"Dynamic Kalman GAM - Normalized net-load\")\n",
    "print(\"\\nRMSE in 2019: \", RMSE(np.array(test_set['node'][:idx_2020]), y_kf_dynamic_delay_R_n[:idx_2020]))\n",
    "print(\"RMSE in 2020: \", RMSE(np.array(test_set['node'][idx_2020:idx_2021]), y_kf_dynamic_delay_R_n[idx_2020:idx_2021]))\n",
    "print(\"RMSE in 2021: \", RMSE(np.array(test_set['node'][idx_2021:]), y_kf_dynamic_delay_R_n[idx_2021:]))\n",
    "\n",
    "print(\"\\nMAE in 2019: \", MAE(np.array(test_set['node'][:idx_2020]), y_kf_dynamic_delay_R_n[:idx_2020]))\n",
    "print(\"MAE in 2020: \", MAE(np.array(test_set['node'][idx_2020:idx_2021]), y_kf_dynamic_delay_R_n[idx_2020:idx_2021]))\n",
    "print(\"MAE in 2021: \", MAE(np.array(test_set['node'][idx_2021:]), y_kf_dynamic_delay_R_n[idx_2021:]))\n",
    "\n",
    "print(\"\\nMAPE in 2019: \", MAPE(np.array(test_set['node'][:idx_2020]), y_kf_dynamic_delay_R_n[:idx_2020]))\n",
    "print(\"MAPE in 2020: \", MAPE(np.array(test_set['node'][idx_2020:idx_2021]), y_kf_dynamic_delay_R_n[idx_2020:idx_2021]))\n",
    "print(\"MAPE in 2021: \", MAPE(np.array(test_set['node'][idx_2021:]), y_kf_dynamic_delay_R_n[idx_2021:]))"
   ]
  },
  {
   "cell_type": "markdown",
   "id": "ce5ba06f-0c0c-4f35-a27e-df2ff30b9f15",
   "metadata": {},
   "source": [
    "### Target variable: Net-load\n",
    "\n",
    "List: [2^-15,2^-20,2^-25,2^-28,2^-30,2^-32,2^-34,2^-36,2^-38,2^-40,2^-45,2^-50]"
   ]
  },
  {
   "cell_type": "code",
   "execution_count": 138,
   "id": "5701d20e-ce8e-4653-9d7e-90525f1e51b3",
   "metadata": {},
   "outputs": [],
   "source": [
    "GroupP_KF = pyreadr.read_r(home + '\\\\Other_data\\\\KF R\\\\GroupP_KF_dynamic_delay_node.rda')\n",
    "y_kf_dynamic = pd.DataFrame(list(GroupP_KF.values())[0])\n",
    "y_kf_dynamic_delay_R = np.array(y_kf_dynamic).flatten()"
   ]
  },
  {
   "cell_type": "code",
   "execution_count": 139,
   "id": "be10f48c-23c2-4d43-b6a4-ef6ddedc3615",
   "metadata": {},
   "outputs": [
    {
     "name": "stdout",
     "output_type": "stream",
     "text": [
      "Dynamic Kalman GAM - Net-load\n",
      "\n",
      "RMSE in 2019 test set:  79.51694950410396\n",
      "RMSE in 2020 test set:  78.28246975355825\n",
      "RMSE in 2021 test set:  74.16464944425509\n",
      "\n",
      "MAE in 2019 test set:  61.2832267608096\n",
      "MAE in 2020 test set:  60.055578667167204\n",
      "MAE in 2021 test set:  56.25918402952177\n",
      "\n",
      "MAPE in 2019 test set:  1.525506699853394\n",
      "MAPE in 2020 test set:  1.6554444325986326\n",
      "MAPE in 2021 test set:  2.332470784719724\n"
     ]
    }
   ],
   "source": [
    "print(\"Dynamic Kalman GAM - Net-load\")\n",
    "print(\"\\nRMSE in 2019 test set: \", RMSE(np.array(test_set['node'][:idx_2020]), y_kf_dynamic_delay_R[:idx_2020]))\n",
    "print(\"RMSE in 2020 test set: \", RMSE(np.array(test_set['node'][idx_2020:idx_2021]), y_kf_dynamic_delay_R[idx_2020:idx_2021]))\n",
    "print(\"RMSE in 2021 test set: \", RMSE(np.array(test_set['node'][idx_2021:]), y_kf_dynamic_delay_R[idx_2021:]))\n",
    "\n",
    "print(\"\\nMAE in 2019 test set: \", MAE(np.array(test_set['node'][:idx_2020]), y_kf_dynamic_delay_R[:idx_2020]))\n",
    "print(\"MAE in 2020 test set: \", MAE(np.array(test_set['node'][idx_2020:idx_2021]), y_kf_dynamic_delay_R[idx_2020:idx_2021]))\n",
    "print(\"MAE in 2021 test set: \", MAE(np.array(test_set['node'][idx_2021:]), y_kf_dynamic_delay_R[idx_2021:]))\n",
    "\n",
    "print(\"\\nMAPE in 2019 test set: \", MAPE(np.array(test_set['node'][:idx_2020]), y_kf_dynamic_delay_R[:idx_2020]))\n",
    "print(\"MAPE in 2020 test set: \", MAPE(np.array(test_set['node'][idx_2020:idx_2021]), y_kf_dynamic_delay_R[idx_2020:idx_2021]))\n",
    "print(\"MAPE in 2021 test set: \", MAPE(np.array(test_set['node'][idx_2021:]), y_kf_dynamic_delay_R[idx_2021:]))"
   ]
  },
  {
   "cell_type": "code",
   "execution_count": null,
   "id": "b40ec95f-d777-4682-a288-8317ffa91203",
   "metadata": {},
   "outputs": [],
   "source": []
  },
  {
   "cell_type": "code",
   "execution_count": null,
   "id": "54f888f1-119f-4234-bb41-8f020726dd0f",
   "metadata": {},
   "outputs": [],
   "source": []
  },
  {
   "cell_type": "code",
   "execution_count": null,
   "id": "b047ed0c-1ff0-44db-9ab0-542cb29be74c",
   "metadata": {},
   "outputs": [],
   "source": []
  },
  {
   "cell_type": "code",
   "execution_count": null,
   "id": "fd4d2a60-0503-4d0b-9f85-9e248182385c",
   "metadata": {},
   "outputs": [],
   "source": []
  },
  {
   "cell_type": "markdown",
   "id": "cd043675-3bbe-4063-af26-de593f779df3",
   "metadata": {},
   "source": [
    "# Kalman LM Dynamic - Likelihood comparison "
   ]
  },
  {
   "cell_type": "markdown",
   "id": "55612b74-8930-47b0-bb49-f338e32776a9",
   "metadata": {},
   "source": [
    "### Hyperparameter Selection - Reduced Likelihood (I)"
   ]
  },
  {
   "cell_type": "code",
   "execution_count": 143,
   "id": "bb148703-6889-43b8-8dc7-02d3cc2db245",
   "metadata": {},
   "outputs": [
    {
     "name": "stdout",
     "output_type": "stream",
     "text": [
      "1e-10\n",
      "-984232.9429336358\n",
      "1e-11\n",
      "-992795.8081650371\n",
      "1e-12\n",
      "-1093308.6127985553\n",
      "1e-13\n",
      "-1003460.6589296539\n",
      "1e-14\n",
      "-1123611.6700317971\n",
      "1e-15\n",
      "-994150.1703309866\n",
      "1e-16\n",
      "-965308.4518182022\n",
      "1e-17\n",
      "-1158496.923523732\n",
      "1e-18\n",
      "-927613.1330812259\n",
      "1e-19\n",
      "-796365.5855575106\n",
      "Optimal q:  1.4213570948267482e-16\n",
      "Optimal sigma:  37.700889841312076\n",
      "Maximum likelihood achieved:  -796365.5855575106\n"
     ]
    }
   ],
   "source": [
    "q_list = [1e-10,1e-11, 1e-12, 1e-13,1e-14,1e-15,1e-16, 1e-17, 1e-18,1e-19]\n",
    "\n",
    "optim = Q_optimization(St_train, train_set[[\"targetTime\", \"diff_336\"]],GAM=False,params=params)\n",
    "Q, sigma, P, theta1 = optim.grid_search_reduced_likelihood(q_list=q_list) "
   ]
  },
  {
   "cell_type": "markdown",
   "id": "e306fc21-a119-44ed-bb4c-23242113ffdf",
   "metadata": {},
   "source": [
    "### Hyperparameter selection - Reduced Likelihood (II)"
   ]
  },
  {
   "cell_type": "code",
   "execution_count": 145,
   "id": "861e34b6-1eb5-4534-871a-fca6c87acbe2",
   "metadata": {},
   "outputs": [
    {
     "name": "stdout",
     "output_type": "stream",
     "text": [
      "1e-10\n",
      "-677839.3291876058\n",
      "1e-11\n",
      "-1198532.2196018833\n",
      "1e-12\n",
      "-686188.4993597809\n",
      "1e-13\n",
      "-553302.2452294303\n",
      "1e-14\n",
      "-517469.17891004635\n",
      "1e-15\n",
      "-553565.7927980763\n",
      "1e-16\n",
      "-505393.2736914998\n",
      "1e-17\n",
      "-1445832.3660070014\n",
      "1e-18\n",
      "-1445622.9031761996\n",
      "1e-19\n",
      "-1445542.0915700044\n",
      "Optimal q:  5.945813747741978e-13\n",
      "Optimal sigma:  77.10910288508082\n",
      "Maximum likelihood achieved:  -505393.2736914998\n"
     ]
    }
   ],
   "source": [
    "q_list = [1e-10,1e-11, 1e-12, 1e-13,1e-14,1e-15,1e-16, 1e-17, 1e-18,1e-19]\n",
    "\n",
    "optim = Q_optimization(St_train, train_set[[\"targetTime\", \"diff_336\"]],GAM=False,params=params)\n",
    "Q, sigma, P, theta1 = optim.grid_search_reduced_likelihood(q_list=q_list, std_static=std_static_OLS) "
   ]
  },
  {
   "cell_type": "code",
   "execution_count": null,
   "id": "2f4bbf5e-73b5-45c6-9cd5-09066b491fde",
   "metadata": {},
   "outputs": [],
   "source": []
  }
 ],
 "metadata": {
  "kernelspec": {
   "display_name": "Python 3 (ipykernel)",
   "language": "python",
   "name": "python3"
  },
  "language_info": {
   "codemirror_mode": {
    "name": "ipython",
    "version": 3
   },
   "file_extension": ".py",
   "mimetype": "text/x-python",
   "name": "python",
   "nbconvert_exporter": "python",
   "pygments_lexer": "ipython3",
   "version": "3.9.18"
  }
 },
 "nbformat": 4,
 "nbformat_minor": 5
}
