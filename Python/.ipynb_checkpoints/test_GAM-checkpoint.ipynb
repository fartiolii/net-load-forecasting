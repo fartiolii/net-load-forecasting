{
 "cells": [
  {
   "cell_type": "code",
   "execution_count": 1,
   "id": "33bc720c-b7b5-48a9-b6e4-16c8976c0623",
   "metadata": {},
   "outputs": [],
   "source": [
    "import numpy as np\n",
    "import pandas as pd\n",
    "import matplotlib.pyplot as plt\n",
    "import seaborn as sns\n",
    "import statsmodels.api as sm\n",
    "from scipy.optimize import minimize\n",
    "import pyreadr\n",
    "import os\n",
    "import time\n",
    "from scipy.stats import norm\n",
    "import copy\n",
    "import warnings\n",
    "import utils\n",
    "from importlib import reload\n",
    "reload(utils)\n",
    "from utils import *\n",
    "\n",
    "home = os.getcwd()"
   ]
  },
  {
   "cell_type": "markdown",
   "id": "74606fcd-4fd6-434d-98e9-8505cc76b4fd",
   "metadata": {},
   "source": [
    "## Dataset "
   ]
  },
  {
   "cell_type": "code",
   "execution_count": 2,
   "id": "a1a629d6-88b1-4685-8a0f-c25d3bf3892f",
   "metadata": {},
   "outputs": [],
   "source": [
    "GroupA = pyreadr.read_r(home + '\\\\Other_data\\\\GroupA.rda')\n",
    "GroupA_df = pd.DataFrame(list(GroupA.values())[0])"
   ]
  },
  {
   "cell_type": "markdown",
   "id": "cbfdfb46-a496-4371-a941-26b869d14045",
   "metadata": {},
   "source": [
    "## Dataset Preprocessing"
   ]
  },
  {
   "cell_type": "code",
   "execution_count": 14,
   "id": "38b4d1f4-7ec5-4a62-acf5-b4b1f6107d86",
   "metadata": {},
   "outputs": [],
   "source": [
    "features = ['t', 't2', 'doy_s', 'doy_c', 'doy_s2', 'doy_c2', 'node_sm', 'clock_hour', 'dow_Rph', 'School_Hol', \n",
    "           'x2T_weighted.mean_p_max_point', 'x2Tsm_point', 'SSRD_mean_2_Cap', 'WindSpd100_weighted.mean_cell','EMBEDDED_WIND_CAPACITY',\n",
    "           'WindSpd10_weighted.mean_cell', 'TP_weighted.mean_cell']\n",
    "features_to_standardize = ['node_sm','clock_hour','x2T_weighted.mean_p_max_point', 'x2Tsm_point', 'SSRD_mean_2_Cap', 'WindSpd100_weighted.mean_cell','EMBEDDED_WIND_CAPACITY',\n",
    "                          'WindSpd10_weighted.mean_cell', 'TP_weighted.mean_cell']\n",
    "\n",
    "def standardize_dataframe(df):\n",
    "    return (df-df.mean())/df.std()\n",
    "\n",
    "def dataset_preprocessing(df, features, features_to_standardize, mean, std):\n",
    "    df_std = standardize_dataframe(df[features_to_standardize])\n",
    "    for f in list(set(features) - set(features_to_standardize+['t2'])):\n",
    "        df_std[f] = df[f]\n",
    "    df_std['t2'] = df_std['t']**2\n",
    "    df_std['dow_Rph'] = 1*(df_std['dow_Rph']=='Lun')+2*(df_std['dow_Rph']=='Mar')+\\\n",
    "                            3*(df_std['dow_Rph']=='Mer')+4*(df_std['dow_Rph']=='Jeu')+\\\n",
    "                            5*(df_std['dow_Rph']=='Ven')+6*(df_std['dow_Rph']=='Sam')+\\\n",
    "                            7*(df_std['dow_Rph']=='Dim')+8*(df_std['dow_Rph']=='Hol')\n",
    "    df_std['School_Hol'] = 1*(df_std['School_Hol']=='N')+2*(df_std['School_Hol']=='School Holiday')+\\\n",
    "                            3*(df_std['School_Hol']=='Christmas Holiday')\n",
    "    target = (df['node']-mean)/std\n",
    "    return df_std[features], target\n",
    "\n",
    "# Training set: up to 31st Dec 2018 (we skip the first 14 days of 2014 because we need the value for the moving average)\n",
    "train_set = GroupA_df[720:69924]\n",
    "mean = train_set['node'].mean()\n",
    "std = train_set['node'].std()\n",
    "X_train, Y_train = dataset_preprocessing(train_set, features, features_to_standardize, mean, std)\n",
    "\n",
    "# Test set: from 1st Jan 2018 to end 2018\n",
    "test_set = GroupA_df[69924:87440]\n",
    "X_test, Y_test = dataset_preprocessing(test_set, features, features_to_standardize, mean, std)"
   ]
  },
  {
   "cell_type": "code",
   "execution_count": 16,
   "id": "1978247f-fdc0-43f2-b5d7-ff55ec7ae44d",
   "metadata": {},
   "outputs": [
    {
     "data": {
      "text/plain": [
       "LinearGAM(callbacks=[Deviance(), Diffs()], fit_intercept=True, \n",
       "   max_iter=100, scale=None, \n",
       "   terms=l(0) + l(1) + l(2) + l(3) + l(4) + l(5) + l(6) + s(7) + f(8) + f(9) + te(7, 8) + te(7, 9) + s(10) + s(11) + s(12) + te(13, 14) + l(15) + s(16) + te(10, 7) + te(16, 7) + intercept,\n",
       "   tol=0.0001, verbose=False)"
      ]
     },
     "execution_count": 16,
     "metadata": {},
     "output_type": "execute_result"
    }
   ],
   "source": [
    "from pygam import LinearGAM, s, f, l, te\n",
    "\n",
    "features = ['t', 't2', 'doy_s', 'doy_c', 'doy_s2', 'doy_c2', 'node_sm', 'clock_hour', 'dow_Rph', 'School_Hol', \n",
    "           'x2T_weighted.mean_p_max_point', 'x2Tsm_point', 'SSRD_mean_2_Cap', 'WindSpd100_weighted.mean_cell','EMBEDDED_WIND_CAPACITY',\n",
    "           'WindSpd10_weighted.mean_cell', 'TP_weighted.mean_cell']\n",
    "\n",
    "gam_model = LinearGAM(l(0) + l(1) + l(2) + l(3) + l(4) + l(5) + l(6) + s(7,n_splines=35,basis='cp') + f(8) + f(9) + \n",
    "                     te(7,8,n_splines=30,dtype=['numerical','categorical'],basis='cp')+te(7,9,n_splines=20,dtype=['numerical','categorical'],basis='cp')+\n",
    "                     s(10,n_splines=35,basis='cp')+s(11,n_splines=35,basis='cp')+s(12,n_splines=5,basis='cp')+ \n",
    "                     te(13,14,n_splines=20,basis='cp')+l(15)+s(16,n_splines=5,basis='cp')+te(10,7,n_splines=17)+te(16,7,n_splines=17))\n",
    "\n",
    "gam_model.fit(np.array(X_train), np.array(Y_train))"
   ]
  },
  {
   "cell_type": "code",
   "execution_count": 17,
   "id": "57bf8bd1-455c-409e-bfc2-60af497af46e",
   "metadata": {},
   "outputs": [],
   "source": [
    "y_GAM_n = gam_model.predict(np.array(X_test))\n",
    "y_GAM = train_set['node'].mean() + y_GAM_n*train_set['node'].std()"
   ]
  },
  {
   "cell_type": "markdown",
   "id": "a2ba6876-2e90-4cfd-bd74-b1809c75bcb3",
   "metadata": {},
   "source": [
    "## Importing results in R"
   ]
  },
  {
   "cell_type": "code",
   "execution_count": 63,
   "id": "c6ecafbe-38ce-4259-adcf-33a23fc85721",
   "metadata": {},
   "outputs": [
    {
     "name": "stderr",
     "output_type": "stream",
     "text": [
      "C:\\Users\\Utente\\anaconda3\\lib\\site-packages\\pandas\\core\\tools\\datetimes.py:530: RuntimeWarning: invalid value encountered in cast\n",
      "  arr, tz_parsed = tslib.array_with_unit_to_datetime(arg, unit, errors=errors)\n",
      "C:\\Users\\Utente\\anaconda3\\lib\\site-packages\\pandas\\core\\tools\\datetimes.py:530: RuntimeWarning: invalid value encountered in cast\n",
      "  arr, tz_parsed = tslib.array_with_unit_to_datetime(arg, unit, errors=errors)\n",
      "C:\\Users\\Utente\\AppData\\Local\\Temp\\ipykernel_4340\\242191006.py:8: RuntimeWarning: invalid value encountered in multiply\n",
      "  y_GAM_R = train_set['node'].mean() + np.array(yhat_R_2018_n)*train_set['node'].std()\n"
     ]
    }
   ],
   "source": [
    "yhat_R = pyreadr.read_r(home + '\\\\Other_data\\\\A_test_2018.rda')\n",
    "yhat_R_2018_n = pd.DataFrame(list(yhat_R.values())[0])\n",
    "yhat_R_2018_n.reset_index(drop=True, inplace=True)\n",
    "\n",
    "xtest_R = pyreadr.read_r(home + '\\\\Other_data\\\\apparently_xtest.rda')\n",
    "xtest_R_2018_n = pd.DataFrame(list(xtest_R.values())[0])\n",
    "\n",
    "y_GAM_R = train_set['node'].mean() + np.array(yhat_R_2018_n)*train_set['node'].std()"
   ]
  },
  {
   "cell_type": "code",
   "execution_count": 64,
   "id": "060822b0-13d0-47fe-b5c6-d88ed45707ca",
   "metadata": {},
   "outputs": [
    {
     "data": {
      "text/plain": [
       "0       -0.162568\n",
       "1       -0.415456\n",
       "2       -0.694498\n",
       "3       -0.927162\n",
       "4       -0.740066\n",
       "           ...   \n",
       "18615   -0.904042\n",
       "18616   -0.618680\n",
       "18617   -0.804171\n",
       "18618   -0.853385\n",
       "18619   -0.904042\n",
       "Name: node_n, Length: 18620, dtype: float64"
      ]
     },
     "execution_count": 64,
     "metadata": {},
     "output_type": "execute_result"
    }
   ],
   "source": [
    "xtest_R_2018_n['node_n']"
   ]
  },
  {
   "cell_type": "code",
   "execution_count": 75,
   "id": "285e1b56-48fb-47b7-9d57-935abc785253",
   "metadata": {},
   "outputs": [
    {
     "data": {
      "text/plain": [
       "array([[-0.34030197],\n",
       "       [-0.59715439],\n",
       "       [-0.82420386],\n",
       "       ...,\n",
       "       [ 0.40611732],\n",
       "       [ 0.10267951],\n",
       "       [-0.14706322]])"
      ]
     },
     "execution_count": 75,
     "metadata": {},
     "output_type": "execute_result"
    }
   ],
   "source": [
    "np.array(yhat_R_2018_n)"
   ]
  },
  {
   "cell_type": "code",
   "execution_count": 69,
   "id": "6704b34a-7bf1-4a0a-9f09-299f710f4805",
   "metadata": {},
   "outputs": [],
   "source": [
    "yhat_R_2018_n.isna().sum()\n",
    "nan_indices = yhat_R_2018_n[yhat_R_2018_n.isna().any(axis=1)].index.astype(int).values\n",
    "yhat_R_2018_n.dropna(inplace=True)\n",
    "filtered_node_n_R = np.delete(np.array(xtest_R_2018_n['node_n']), np.array(nan_indices))"
   ]
  },
  {
   "cell_type": "code",
   "execution_count": 74,
   "id": "6ac3a9d2-d316-45be-bdaf-cb4e78116014",
   "metadata": {},
   "outputs": [
    {
     "data": {
      "text/plain": [
       "0       -0.162568\n",
       "1       -0.415456\n",
       "2       -0.694498\n",
       "3       -0.927162\n",
       "4       -0.740066\n",
       "           ...   \n",
       "18615   -0.904042\n",
       "18616   -0.618680\n",
       "18617   -0.804171\n",
       "18618   -0.853385\n",
       "18619   -0.904042\n",
       "Name: node_n, Length: 18620, dtype: float64"
      ]
     },
     "execution_count": 74,
     "metadata": {},
     "output_type": "execute_result"
    }
   ],
   "source": [
    "xtest_R_2018_n['node_n']"
   ]
  },
  {
   "cell_type": "code",
   "execution_count": 79,
   "id": "83503cee-f72b-492b-9431-ebf71ade32ca",
   "metadata": {},
   "outputs": [
    {
     "data": {
      "text/plain": [
       "(16684,)"
      ]
     },
     "execution_count": 79,
     "metadata": {},
     "output_type": "execute_result"
    }
   ],
   "source": [
    "filtered_node_n_R.shape"
   ]
  },
  {
   "cell_type": "code",
   "execution_count": 77,
   "id": "46a6e723-8b7a-4f56-adc8-a23bde67cd7a",
   "metadata": {},
   "outputs": [
    {
     "data": {
      "text/plain": [
       "(16684, 16684)"
      ]
     },
     "execution_count": 77,
     "metadata": {},
     "output_type": "execute_result"
    }
   ],
   "source": [
    "(filtered_node_n_R - np.array(yhat_R_2018_n)).shape"
   ]
  },
  {
   "cell_type": "code",
   "execution_count": 80,
   "id": "bfa06a6e-c725-4095-8cb4-23e39b9a7da0",
   "metadata": {},
   "outputs": [
    {
     "name": "stdout",
     "output_type": "stream",
     "text": [
      "RMSE GAM:  0.42676724097996965\n",
      "\n",
      "MAE GAM:  0.3289725691463264\n",
      "\n",
      "MAPE GAM:  4.528484258598434\n",
      "R\n",
      "\n",
      "RMSE GAM:  0.2409978844273847\n",
      "\n",
      "MAE GAM:  0.17718497825544552\n",
      "\n",
      "MAPE GAM:  1.6033873713154156\n"
     ]
    }
   ],
   "source": [
    "print(\"RMSE GAM: \", RMSE(Y_test, y_GAM_n))\n",
    "\n",
    "print(\"\\nMAE GAM: \", MAE(Y_test, y_GAM_n))\n",
    "\n",
    "print(\"\\nMAPE GAM: \", MAPE(Y_test, y_GAM_n))\n",
    "\n",
    "print(\"R\")\n",
    "\n",
    "print(\"\\nRMSE GAM: \", RMSE(filtered_node_n_R, np.array(yhat_R_2018_n).flatten()))\n",
    "\n",
    "print(\"\\nMAE GAM: \", MAE(filtered_node_n_R, np.array(yhat_R_2018_n).flatten()))\n",
    "\n",
    "print(\"\\nMAPE GAM: \", MAPE(filtered_node_n_R, np.array(yhat_R_2018_n).flatten()))"
   ]
  },
  {
   "cell_type": "code",
   "execution_count": 88,
   "id": "8b5830f7-a56b-4620-8b71-93f397948869",
   "metadata": {},
   "outputs": [
    {
     "name": "stderr",
     "output_type": "stream",
     "text": [
      "C:\\Users\\Utente\\anaconda3\\lib\\site-packages\\pandas\\core\\tools\\datetimes.py:530: RuntimeWarning: invalid value encountered in cast\n",
      "  arr, tz_parsed = tslib.array_with_unit_to_datetime(arg, unit, errors=errors)\n",
      "C:\\Users\\Utente\\anaconda3\\lib\\site-packages\\pandas\\core\\tools\\datetimes.py:530: RuntimeWarning: invalid value encountered in cast\n",
      "  arr, tz_parsed = tslib.array_with_unit_to_datetime(arg, unit, errors=errors)\n"
     ]
    }
   ],
   "source": [
    "data_A_R = pyreadr.read_r(home + '\\\\Other_data\\\\NodeData.rda')\n",
    "data_A_R = pd.DataFrame(list(data_A_R.values())[0])\n",
    "data_A_R.dropna(inplace=True)"
   ]
  },
  {
   "cell_type": "code",
   "execution_count": 89,
   "id": "48f11829-26c0-4d01-a76c-803a7e0e7e79",
   "metadata": {},
   "outputs": [],
   "source": [
    "features = ['t', 't2', 'doy_s', 'doy_c', 'doy_s2', 'doy_c2', 'node_sm', 'clock_hour', 'dow_Rph', 'School_Hol', \n",
    "           'x2T_weighted.mean_p_max_point', 'x2Tsm_point', 'SSRD_mean_2_Cap', 'WindSpd100_weighted.mean_cell','EMBEDDED_WIND_CAPACITY',\n",
    "           'WindSpd10_weighted.mean_cell', 'TP_weighted.mean_cell']\n",
    "features_to_standardize = ['node_sm','clock_hour','x2T_weighted.mean_p_max_point', 'x2Tsm_point', 'SSRD_mean_2_Cap', 'WindSpd100_weighted.mean_cell','EMBEDDED_WIND_CAPACITY',\n",
    "                          'WindSpd10_weighted.mean_cell', 'TP_weighted.mean_cell']\n",
    "\n",
    "def standardize_dataframe(df):\n",
    "    return (df-df.mean())/df.std()\n",
    "\n",
    "def dataset_preprocessing(df, features, features_to_standardize, mean, std):\n",
    "    #df_std = standardize_dataframe(df[features_to_standardize])\n",
    "    #for f in list(set(features) - set(features_to_standardize+['t2'])):\n",
    "    #    df_std[f] = df[f]\n",
    "    df_std = df.copy()\n",
    "    df_std['t2'] = df_std['t']**2\n",
    "    df_std['dow_Rph'] = 1*(df_std['dow_Rph']=='Lun')+2*(df_std['dow_Rph']=='Mar')+\\\n",
    "                            3*(df_std['dow_Rph']=='Mer')+4*(df_std['dow_Rph']=='Jeu')+\\\n",
    "                            5*(df_std['dow_Rph']=='Ven')+6*(df_std['dow_Rph']=='Sam')+\\\n",
    "                            7*(df_std['dow_Rph']=='Dim')+8*(df_std['dow_Rph']=='Hol')\n",
    "    df_std['School_Hol'] = 1*(df_std['School_Hol']=='N')+2*(df_std['School_Hol']=='School Holiday')+\\\n",
    "                            3*(df_std['School_Hol']=='Christmas Holiday')\n",
    "    target = (df['node']-mean)/std\n",
    "    return df_std[features], target\n",
    "\n",
    "# Training set: up to 31st Dec 2018 (we skip the first 14 days of 2014 because we need the value for the moving average)\n",
    "train_set = data_A_R[720:69924]\n",
    "mean = train_set['node'].mean()\n",
    "std = train_set['node'].std()\n",
    "X_train, Y_train = dataset_preprocessing(train_set, features, features_to_standardize, mean, std)\n",
    "\n",
    "# Test set: from 1st Jan 2018 to end 2018\n",
    "test_set = data_A_R[69924:87440]\n",
    "X_test, Y_test = dataset_preprocessing(test_set, features, features_to_standardize, mean, std)"
   ]
  },
  {
   "cell_type": "code",
   "execution_count": 90,
   "id": "efc982c2-4c64-4c66-85e8-b7be51e59d5b",
   "metadata": {},
   "outputs": [
    {
     "data": {
      "text/plain": [
       "LinearGAM(callbacks=[Deviance(), Diffs()], fit_intercept=True, \n",
       "   max_iter=100, scale=None, \n",
       "   terms=l(0) + l(1) + l(2) + l(3) + l(4) + l(5) + l(6) + s(7) + f(8) + f(9) + te(7, 8) + te(7, 9) + s(10) + s(11) + s(12) + te(13, 14) + l(15) + s(16) + te(10, 7) + te(16, 7) + intercept,\n",
       "   tol=0.0001, verbose=False)"
      ]
     },
     "execution_count": 90,
     "metadata": {},
     "output_type": "execute_result"
    }
   ],
   "source": [
    "from pygam import LinearGAM, s, f, l, te\n",
    "\n",
    "features = ['t', 't2', 'doy_s', 'doy_c', 'doy_s2', 'doy_c2', 'node_sm', 'clock_hour', 'dow_Rph', 'School_Hol', \n",
    "           'x2T_weighted.mean_p_max_point', 'x2Tsm_point', 'SSRD_mean_2_Cap', 'WindSpd100_weighted.mean_cell','EMBEDDED_WIND_CAPACITY',\n",
    "           'WindSpd10_weighted.mean_cell', 'TP_weighted.mean_cell']\n",
    "\n",
    "gam_model = LinearGAM(l(0) + l(1) + l(2) + l(3) + l(4) + l(5) + l(6) + s(7,n_splines=35,basis='cp') + f(8) + f(9) + \n",
    "                     te(7,8,n_splines=30,dtype=['numerical','categorical'],basis='cp')+te(7,9,n_splines=20,dtype=['numerical','categorical'],basis='cp')+\n",
    "                     s(10,n_splines=35,basis='cp')+s(11,n_splines=35,basis='cp')+s(12,n_splines=5,basis='cp')+ \n",
    "                     te(13,14,n_splines=20,basis='cp')+l(15)+s(16,n_splines=5,basis='cp')+te(10,7,n_splines=17)+te(16,7,n_splines=17))\n",
    "\n",
    "gam_model.fit(np.array(X_train), np.array(Y_train))"
   ]
  },
  {
   "cell_type": "code",
   "execution_count": 91,
   "id": "ab476528-147a-4e24-95b9-a35d2574437f",
   "metadata": {},
   "outputs": [],
   "source": [
    "y_GAM_n = gam_model.predict(np.array(X_test))\n",
    "y_GAM = train_set['node'].mean() + y_GAM_n*train_set['node'].std()"
   ]
  },
  {
   "cell_type": "code",
   "execution_count": 95,
   "id": "b8f20596-77a0-47ec-8283-59336dbf7932",
   "metadata": {},
   "outputs": [
    {
     "name": "stdout",
     "output_type": "stream",
     "text": [
      "RMSE GAM:  0.4261236850362843\n",
      "\n",
      "MAE GAM:  0.3212539805893945\n",
      "\n",
      "MAPE GAM:  2.1938598787304846\n",
      "R\n",
      "\n",
      "RMSE GAM:  0.2409978844273847\n",
      "\n",
      "MAE GAM:  0.17718497825544552\n",
      "\n",
      "MAPE GAM:  1.6033873713154156\n"
     ]
    }
   ],
   "source": [
    "print(\"RMSE GAM: \", RMSE(Y_test, y_GAM_n))\n",
    "\n",
    "print(\"\\nMAE GAM: \", MAE(Y_test, y_GAM_n))\n",
    "\n",
    "print(\"\\nMAPE GAM: \", MAPE(Y_test, y_GAM_n))\n",
    "\n",
    "print(\"R\")\n",
    "\n",
    "print(\"\\nRMSE GAM: \", RMSE(filtered_node_n_R, np.array(yhat_R_2018_n).flatten()))\n",
    "\n",
    "print(\"\\nMAE GAM: \", MAE(filtered_node_n_R, np.array(yhat_R_2018_n).flatten()))\n",
    "\n",
    "print(\"\\nMAPE GAM: \", MAPE(filtered_node_n_R, np.array(yhat_R_2018_n).flatten()))"
   ]
  },
  {
   "cell_type": "markdown",
   "id": "3d19ff6c-dbca-4555-ac72-a6741477305f",
   "metadata": {},
   "source": [
    "## Using original Group A dataset"
   ]
  },
  {
   "cell_type": "code",
   "execution_count": 102,
   "id": "5e6dac5c-5d33-4928-aefd-c84ee33ca344",
   "metadata": {},
   "outputs": [],
   "source": [
    "features = ['t', 't2', 'doy_s', 'doy_c', 'doy_s2', 'doy_c2', 'node_sm', 'clock_hour', 'dow_Rph', 'School_Hol', \n",
    "           'x2T_weighted.mean_p_max_point', 'x2Tsm_point', 'SSRD_mean_2_Cap', 'WindSpd100_weighted.mean_cell','EMBEDDED_WIND_CAPACITY',\n",
    "           'WindSpd10_weighted.mean_cell', 'TP_weighted.mean_cell']\n",
    "features_to_standardize = ['node_sm','clock_hour','x2T_weighted.mean_p_max_point', 'x2Tsm_point', 'SSRD_mean_2_Cap', 'WindSpd100_weighted.mean_cell','EMBEDDED_WIND_CAPACITY',\n",
    "                          'WindSpd10_weighted.mean_cell', 'TP_weighted.mean_cell']\n",
    "\n",
    "def standardize_dataframe(df):\n",
    "    return (df-df.mean())/df.std()\n",
    "\n",
    "def dataset_preprocessing(df, features, features_to_standardize, mean, std):\n",
    "    #df_std = standardize_dataframe(df[features_to_standardize])\n",
    "    #for f in list(set(features) - set(features_to_standardize+['t2'])):\n",
    "    #    df_std[f] = df[f]\n",
    "    df_std = df.copy()\n",
    "    df_std['t2'] = df_std['t']**2\n",
    "    df_std['dow_Rph'] = 1*(df_std['dow_Rph']=='Lun')+2*(df_std['dow_Rph']=='Mar')+\\\n",
    "                            3*(df_std['dow_Rph']=='Mer')+4*(df_std['dow_Rph']=='Jeu')+\\\n",
    "                            5*(df_std['dow_Rph']=='Ven')+6*(df_std['dow_Rph']=='Sam')+\\\n",
    "                            7*(df_std['dow_Rph']=='Dim')+8*(df_std['dow_Rph']=='Hol')\n",
    "    df_std['School_Hol'] = 1*(df_std['School_Hol']=='N')+2*(df_std['School_Hol']=='School Holiday')+\\\n",
    "                            3*(df_std['School_Hol']=='Christmas Holiday')\n",
    "    target = (df['node']-mean)/std\n",
    "    return df_std[features], target\n",
    "\n",
    "# Training set: up to 31st Dec 2018 (we skip the first 14 days of 2014 because we need the value for the moving average)\n",
    "train_set = GroupA_df[720:69924]\n",
    "mean = train_set['node'].mean()\n",
    "std = train_set['node'].std()\n",
    "X_train, Y_train = dataset_preprocessing(train_set, features, features_to_standardize, mean, std)\n",
    "\n",
    "# Test set: from 1st Jan 2018 to end 2018\n",
    "test_set = GroupA_df[69924:87440]\n",
    "X_test, Y_test = dataset_preprocessing(test_set, features, features_to_standardize, mean, std)"
   ]
  },
  {
   "cell_type": "code",
   "execution_count": 126,
   "id": "36241ae4-eaee-4c4b-b21d-ad14e1ef8028",
   "metadata": {},
   "outputs": [
    {
     "data": {
      "text/plain": [
       "LinearGAM(callbacks=[Deviance(), Diffs()], fit_intercept=True, \n",
       "   max_iter=100, scale=None, \n",
       "   terms=l(0) + l(1) + l(2) + l(3) + l(4) + l(5) + l(6) + s(7) + f(8) + f(9) + te(7, 8) + te(7, 9) + s(10) + s(11) + s(12) + te(13, 14) + l(15) + s(16) + te(10, 7) + te(16, 7) + intercept,\n",
       "   tol=0.0001, verbose=False)"
      ]
     },
     "execution_count": 126,
     "metadata": {},
     "output_type": "execute_result"
    }
   ],
   "source": [
    "from pygam import GAM, LinearGAM, s, f, l, te\n",
    "\n",
    "features = ['t', 't2', 'doy_s', 'doy_c', 'doy_s2', 'doy_c2', 'node_sm', 'clock_hour', 'dow_Rph', 'School_Hol', \n",
    "           'x2T_weighted.mean_p_max_point', 'x2Tsm_point', 'SSRD_mean_2_Cap', 'WindSpd100_weighted.mean_cell','EMBEDDED_WIND_CAPACITY',\n",
    "           'WindSpd10_weighted.mean_cell', 'TP_weighted.mean_cell']\n",
    "\n",
    "gam_model_grA = LinearGAM(l(0,lam=0.6) + l(1,lam=0.6) + l(2,lam=0.6) + l(3,lam=0.6) + l(4,lam=0.6) + l(5,lam=0.6) + l(6,lam=0.6) + s(7,n_splines=35,basis='cp',lam=0.6) + f(8,lam=0.6) + f(9,lam=0.6) + \n",
    "                     te(7,8,n_splines=30,dtype=['numerical','categorical'],basis='cp', lam=0.9)+te(7,9,n_splines=20,dtype=['numerical','categorical'],basis='cp', lam=0.9)+\n",
    "                     s(10,n_splines=35,basis='cp',lam=0.6)+s(11,n_splines=35,basis='cp',lam=0.6)+s(12,n_splines=5,basis='cp',lam=0.6)+ \n",
    "                     te(13,14,n_splines=20,basis='cp',lam=0.9)+l(15,lam=0.6)+s(16,n_splines=5,basis='cp',lam=0.6)+te(10,7,n_splines=17,lam=0.9)+te(16,7,n_splines=17,lam=0.9))\n",
    "\n",
    "gam_model_grA.fit(np.array(X_train), np.array(Y_train))"
   ]
  },
  {
   "cell_type": "code",
   "execution_count": 127,
   "id": "27c4555e-4421-489c-938e-a824a6464919",
   "metadata": {},
   "outputs": [
    {
     "name": "stdout",
     "output_type": "stream",
     "text": [
      "LinearGAM                                                                                                 \n",
      "=============================================== ==========================================================\n",
      "Distribution:                        NormalDist Effective DoF:                                    576.4172\n",
      "Link Function:                     IdentityLink Log Likelihood:                                -317755.918\n",
      "Number of Samples:                        69204 AIC:                                           636666.6703\n",
      "                                                AICc:                                           636676.404\n",
      "                                                GCV:                                                0.0812\n",
      "                                                Scale:                                                0.08\n",
      "                                                Pseudo R-Squared:                                   0.9207\n",
      "==========================================================================================================\n",
      "Feature Function                  Lambda               Rank         EDoF         P > x        Sig. Code   \n",
      "================================= ==================== ============ ============ ============ ============\n",
      "l(0)                              [0.9]                1            1.0          1.11e-16     ***         \n",
      "l(1)                              [0.9]                1            1.0          1.11e-16     ***         \n",
      "l(2)                              [0.9]                1            1.0          1.11e-16     ***         \n",
      "l(3)                              [0.9]                1            1.0          1.11e-16     ***         \n",
      "l(4)                              [0.9]                1            1.0          1.11e-16     ***         \n",
      "l(5)                              [0.9]                1            1.0          1.11e-16     ***         \n",
      "l(6)                              [0.9]                1            1.0          1.11e-16     ***         \n",
      "s(7)                              [0.9]                35           34.2         1.11e-16     ***         \n",
      "f(8)                              [0.9]                8            7.0          1.11e-16     ***         \n",
      "f(9)                              [0.9]                3            1.0          1.11e-16     ***         \n",
      "te(7, 8)                          [0.9 0.9]            900          167.0        1.11e-16     ***         \n",
      "te(7, 9)                          [0.9 0.9]            400          17.5         1.11e-16     ***         \n",
      "s(10)                             [0.9]                35           30.7         1.11e-16     ***         \n",
      "s(11)                             [0.9]                35           27.3         1.11e-16     ***         \n",
      "s(12)                             [0.9]                5            3.9          1.11e-16     ***         \n",
      "te(13, 14)                        [0.9 0.9]            400          138.6        1.11e-16     ***         \n",
      "l(15)                             [0.9]                1            0.8          1.95e-05     ***         \n",
      "s(16)                             [0.9]                5            3.8          1.11e-16     ***         \n",
      "te(10, 7)                         [0.9 0.9]            289          89.5         1.11e-16     ***         \n",
      "te(16, 7)                         [0.9 0.9]            289          48.1         1.11e-16     ***         \n",
      "intercept                                              1            0.0          2.79e-05     ***         \n",
      "==========================================================================================================\n",
      "Significance codes:  0 '***' 0.001 '**' 0.01 '*' 0.05 '.' 0.1 ' ' 1\n",
      "\n",
      "WARNING: Fitting splines and a linear function to a feature introduces a model identifiability problem\n",
      "         which can cause p-values to appear significant when they are not.\n",
      "\n",
      "WARNING: p-values calculated in this manner behave correctly for un-penalized models or models with\n",
      "         known smoothing parameters, but when smoothing parameters have been estimated, the p-values\n",
      "         are typically lower than they should be, meaning that the tests reject the null too readily.\n"
     ]
    },
    {
     "name": "stderr",
     "output_type": "stream",
     "text": [
      "C:\\Users\\Utente\\AppData\\Local\\Temp\\ipykernel_4340\\2151997503.py:1: UserWarning: KNOWN BUG: p-values computed in this summary are likely much smaller than they should be. \n",
      " \n",
      "Please do not make inferences based on these values! \n",
      "\n",
      "Collaborate on a solution, and stay up to date at: \n",
      "github.com/dswah/pyGAM/issues/163 \n",
      "\n",
      "  gam_model_grA.summary()\n"
     ]
    }
   ],
   "source": [
    "gam_model_grA.summary()"
   ]
  },
  {
   "cell_type": "code",
   "execution_count": null,
   "id": "c4b37f08-069e-43de-81d7-6fd515faf617",
   "metadata": {},
   "outputs": [],
   "source": [
    "gam_model_grA.fit(np.array(X_train), np.array(Y_train))"
   ]
  },
  {
   "cell_type": "code",
   "execution_count": 129,
   "id": "45811e32-8f92-45e0-9de1-0703edc82f55",
   "metadata": {},
   "outputs": [],
   "source": [
    "y_GAM_n = gam_model_grA.predict(np.array(X_test))\n",
    "y_GAM = train_set['node'].mean() + y_GAM_n*train_set['node'].std()"
   ]
  },
  {
   "cell_type": "code",
   "execution_count": 106,
   "id": "8257f5be-1af7-4aea-9f53-43e03a00d8a7",
   "metadata": {},
   "outputs": [
    {
     "name": "stdout",
     "output_type": "stream",
     "text": [
      "LinearGAM                                                                                                 \n",
      "=============================================== ==========================================================\n",
      "Distribution:                        NormalDist Effective DoF:                                     611.948\n",
      "Link Function:                     IdentityLink Log Likelihood:                               -318576.3315\n",
      "Number of Samples:                        69204 AIC:                                           638378.5591\n",
      "                                                AICc:                                          638389.5321\n",
      "                                                GCV:                                                0.0811\n",
      "                                                Scale:                                              0.0798\n",
      "                                                Pseudo R-Squared:                                   0.9209\n",
      "==========================================================================================================\n",
      "Feature Function                  Lambda               Rank         EDoF         P > x        Sig. Code   \n",
      "================================= ==================== ============ ============ ============ ============\n",
      "l(0)                              [0.6]                1            1.0          1.11e-16     ***         \n",
      "l(1)                              [0.6]                1            1.0          1.11e-16     ***         \n",
      "l(2)                              [0.6]                1            1.0          1.11e-16     ***         \n",
      "l(3)                              [0.6]                1            1.0          1.11e-16     ***         \n",
      "l(4)                              [0.6]                1            1.0          1.11e-16     ***         \n",
      "l(5)                              [0.6]                1            1.0          1.11e-16     ***         \n",
      "l(6)                              [0.6]                1            1.0          1.11e-16     ***         \n",
      "s(7)                              [0.6]                35           34.4         1.11e-16     ***         \n",
      "f(8)                              [0.6]                8            7.0          1.11e-16     ***         \n",
      "f(9)                              [0.6]                3            1.0          1.11e-16     ***         \n",
      "te(7, 8)                          [0.6 0.6]            900          175.7        1.11e-16     ***         \n",
      "te(7, 9)                          [0.6 0.6]            400          18.5         1.11e-16     ***         \n",
      "s(10)                             [0.6]                35           31.2         1.11e-16     ***         \n",
      "s(11)                             [0.6]                35           28.2         1.11e-16     ***         \n",
      "s(12)                             [0.6]                5            3.9          1.11e-16     ***         \n",
      "te(13, 14)                        [0.6 0.6]            400          149.2        1.11e-16     ***         \n",
      "l(15)                             [0.6]                1            0.8          1.17e-04     ***         \n",
      "s(16)                             [0.6]                5            3.8          1.11e-16     ***         \n",
      "te(10, 7)                         [0.6 0.6]            289          97.2         1.11e-16     ***         \n",
      "te(16, 7)                         [0.6 0.6]            289          53.9         1.11e-16     ***         \n",
      "intercept                                              1            0.0          1.66e-04     ***         \n",
      "==========================================================================================================\n",
      "Significance codes:  0 '***' 0.001 '**' 0.01 '*' 0.05 '.' 0.1 ' ' 1\n",
      "\n",
      "WARNING: Fitting splines and a linear function to a feature introduces a model identifiability problem\n",
      "         which can cause p-values to appear significant when they are not.\n",
      "\n",
      "WARNING: p-values calculated in this manner behave correctly for un-penalized models or models with\n",
      "         known smoothing parameters, but when smoothing parameters have been estimated, the p-values\n",
      "         are typically lower than they should be, meaning that the tests reject the null too readily.\n"
     ]
    },
    {
     "name": "stderr",
     "output_type": "stream",
     "text": [
      "C:\\Users\\Utente\\AppData\\Local\\Temp\\ipykernel_4340\\2151997503.py:1: UserWarning: KNOWN BUG: p-values computed in this summary are likely much smaller than they should be. \n",
      " \n",
      "Please do not make inferences based on these values! \n",
      "\n",
      "Collaborate on a solution, and stay up to date at: \n",
      "github.com/dswah/pyGAM/issues/163 \n",
      "\n",
      "  gam_model_grA.summary()\n"
     ]
    }
   ],
   "source": [
    "gam_model_grA.summary()"
   ]
  },
  {
   "cell_type": "code",
   "execution_count": 130,
   "id": "6be30e96-cdf8-4ab7-8f3b-a790418fac19",
   "metadata": {},
   "outputs": [
    {
     "name": "stdout",
     "output_type": "stream",
     "text": [
      "RMSE GAM:  0.38912547999146163\n",
      "\n",
      "MAE GAM:  0.3086640891684876\n",
      "\n",
      "MAPE GAM:  2.863814569086629\n",
      "R\n",
      "\n",
      "RMSE GAM:  0.2409978844273847\n",
      "\n",
      "MAE GAM:  0.17718497825544552\n",
      "\n",
      "MAPE GAM:  1.6033873713154156\n"
     ]
    }
   ],
   "source": [
    "print(\"RMSE GAM: \", RMSE(Y_test, y_GAM_n))\n",
    "\n",
    "print(\"\\nMAE GAM: \", MAE(Y_test, y_GAM_n))\n",
    "\n",
    "print(\"\\nMAPE GAM: \", MAPE(Y_test, y_GAM_n))\n",
    "\n",
    "print(\"R\")\n",
    "\n",
    "print(\"\\nRMSE GAM: \", RMSE(filtered_node_n_R, np.array(yhat_R_2018_n).flatten()))\n",
    "\n",
    "print(\"\\nMAE GAM: \", MAE(filtered_node_n_R, np.array(yhat_R_2018_n).flatten()))\n",
    "\n",
    "print(\"\\nMAPE GAM: \", MAPE(filtered_node_n_R, np.array(yhat_R_2018_n).flatten()))"
   ]
  }
 ],
 "metadata": {
  "kernelspec": {
   "display_name": "Python 3 (ipykernel)",
   "language": "python",
   "name": "python3"
  },
  "language_info": {
   "codemirror_mode": {
    "name": "ipython",
    "version": 3
   },
   "file_extension": ".py",
   "mimetype": "text/x-python",
   "name": "python",
   "nbconvert_exporter": "python",
   "pygments_lexer": "ipython3",
   "version": "3.9.18"
  }
 },
 "nbformat": 4,
 "nbformat_minor": 5
}
