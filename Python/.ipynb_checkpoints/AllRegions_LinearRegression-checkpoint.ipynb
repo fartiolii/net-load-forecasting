{
 "cells": [
  {
   "cell_type": "code",
   "execution_count": 1,
   "id": "add54c31-3691-4c17-b06c-c7a65b4bae15",
   "metadata": {},
   "outputs": [],
   "source": [
    "import numpy as np\n",
    "import pandas as pd\n",
    "import matplotlib.pyplot as plt\n",
    "import seaborn as sns\n",
    "import statsmodels.api as sm\n",
    "from scipy.optimize import minimize\n",
    "import pyreadr\n",
    "import os\n",
    "import time\n",
    "from scipy.stats import norm\n",
    "import copy\n",
    "import warnings\n",
    "import utils\n",
    "import pickle\n",
    "from importlib import reload\n",
    "reload(utils)\n",
    "from utils import *\n",
    "\n",
    "home = os.getcwd()"
   ]
  },
  {
   "cell_type": "markdown",
   "id": "d4e1562b-7647-4f66-bee1-a1c7df9664b9",
   "metadata": {},
   "source": [
    "## Dataset"
   ]
  },
  {
   "cell_type": "code",
   "execution_count": 2,
   "id": "26f3be8c-2764-4d8d-a0fa-2d34cf86427c",
   "metadata": {},
   "outputs": [],
   "source": [
    "GroupA = pyreadr.read_r(home + '\\\\Other_data\\\\GroupA.rda')\n",
    "GroupA_df = pd.DataFrame(list(GroupA.values())[0])\n",
    "\n",
    "GroupB = pyreadr.read_r(home + '\\\\Other_data\\\\GroupB.rda')\n",
    "GroupB_df = pd.DataFrame(list(GroupB.values())[0])\n",
    "\n",
    "GroupC = pyreadr.read_r(home + '\\\\Other_data\\\\GroupC.rda')\n",
    "GroupC_df = pd.DataFrame(list(GroupC.values())[0])\n",
    "\n",
    "GroupD = pyreadr.read_r(home + '\\\\Other_data\\\\GroupD.rda')\n",
    "GroupD_df = pd.DataFrame(list(GroupD.values())[0])\n",
    "\n",
    "GroupE = pyreadr.read_r(home + '\\\\Other_data\\\\GroupE.rda')\n",
    "GroupE_df = pd.DataFrame(list(GroupE.values())[0])\n",
    "\n",
    "GroupF = pyreadr.read_r(home + '\\\\Other_data\\\\GroupF.rda')\n",
    "GroupF_df = pd.DataFrame(list(GroupF.values())[0])\n",
    "\n",
    "GroupG = pyreadr.read_r(home + '\\\\Other_data\\\\GroupG.rda')\n",
    "GroupG_df = pd.DataFrame(list(GroupG.values())[0])\n",
    "\n",
    "GroupH = pyreadr.read_r(home + '\\\\Other_data\\\\GroupH.rda')\n",
    "GroupH_df = pd.DataFrame(list(GroupH.values())[0])\n",
    "\n",
    "GroupJ = pyreadr.read_r(home + '\\\\Other_data\\\\GroupJ.rda')\n",
    "GroupJ_df = pd.DataFrame(list(GroupJ.values())[0])\n",
    "\n",
    "GroupH = pyreadr.read_r(home + '\\\\Other_data\\\\GroupH.rda')\n",
    "GroupH_df = pd.DataFrame(list(GroupH.values())[0])\n",
    "\n",
    "GroupJ = pyreadr.read_r(home + '\\\\Other_data\\\\GroupJ.rda')\n",
    "GroupJ_df = pd.DataFrame(list(GroupJ.values())[0])\n",
    "\n",
    "GroupK = pyreadr.read_r(home + '\\\\Other_data\\\\GroupK.rda')\n",
    "GroupK_df = pd.DataFrame(list(GroupK.values())[0])\n",
    "\n",
    "GroupL = pyreadr.read_r(home + '\\\\Other_data\\\\GroupL.rda')\n",
    "GroupL_df = pd.DataFrame(list(GroupL.values())[0])\n",
    "\n",
    "GroupM = pyreadr.read_r(home + '\\\\Other_data\\\\GroupM.rda')\n",
    "GroupM_df = pd.DataFrame(list(GroupM.values())[0])\n",
    "\n",
    "GroupN = pyreadr.read_r(home + '\\\\Other_data\\\\GroupN.rda')\n",
    "GroupN_df = pd.DataFrame(list(GroupN.values())[0])\n",
    "\n",
    "GroupP = pyreadr.read_r(home + '\\\\Other_data\\\\GroupP.rda')\n",
    "GroupP_df = pd.DataFrame(list(GroupP.values())[0])"
   ]
  },
  {
   "cell_type": "code",
   "execution_count": 3,
   "id": "3f0ea1bb-7d09-4f00-bfc0-8c4017226c0d",
   "metadata": {},
   "outputs": [],
   "source": [
    "regions_df = [GroupA_df, GroupB_df, GroupC_df, GroupD_df, GroupE_df, GroupF_df, GroupG_df, GroupH_df, GroupJ_df, GroupK_df,\n",
    "             GroupL_df, GroupM_df, GroupN_df, GroupP_df]\n",
    "\n",
    "idx_2020 = 17516\n",
    "idx_2021 = 35104"
   ]
  },
  {
   "cell_type": "code",
   "execution_count": 4,
   "id": "2db18906-ffcd-4151-ba1e-2ab26551dbd4",
   "metadata": {},
   "outputs": [],
   "source": [
    "for df in regions_df:\n",
    "    delay = 336\n",
    "    vec = np.zeros(len(df),)*np.nan\n",
    "    vec[delay:] = np.array(df['node'].iloc[:-delay])\n",
    "    df['AR_336'] = vec\n",
    "\n",
    "    delay = 96\n",
    "    vec = np.zeros(len(df),)*np.nan\n",
    "    vec[delay:] = np.array(df['node'].iloc[:-delay])\n",
    "    df['AR_96'] = vec\n",
    "    \n",
    "    # Seasonal Differencing terms (We consider the differences at 7 days and 48h)\n",
    "    y_diff_96 = np.array(df['node'])[96::]-np.array(df['node'])[:-96:]\n",
    "    y_diff_336 = np.array(df['node'])[336::]-np.array(df['node'])[:-336:]\n",
    "\n",
    "    delay = 336\n",
    "    vec = np.zeros(len(df),)*np.nan\n",
    "    vec[delay:] = y_diff_336\n",
    "    df['diff_336'] = vec\n",
    "    vec = np.zeros(len(df),)*np.nan\n",
    "    vec[delay:] = np.array(df['node'])[:-delay]\n",
    "    df['y0_336'] = vec\n",
    "\n",
    "    delay = 96\n",
    "    vec = np.zeros(len(df),)*np.nan\n",
    "    vec[delay:] = y_diff_96\n",
    "    df['diff_96'] = vec\n",
    "    vec = np.zeros(len(df),)*np.nan\n",
    "    vec[delay:] = np.array(df['node'])[:-delay]\n",
    "    df['y0_96'] = vec"
   ]
  },
  {
   "cell_type": "code",
   "execution_count": 5,
   "id": "330fbf6d-2f1d-41df-b717-f1de6e00232d",
   "metadata": {},
   "outputs": [],
   "source": [
    "regions = ['A', 'B', 'C', 'D', 'E', 'F', 'G', 'H', 'J', 'K', 'L', 'M', 'N', 'P']\n",
    "train_set = {}\n",
    "test_set = {}\n",
    "\n",
    "for (reg, df) in zip(regions, regions_df):\n",
    "    # Train set\n",
    "    train_set[reg] = df[720:87440] \n",
    "    #Test set\n",
    "    test_set[reg] = df[87440:]"
   ]
  },
  {
   "cell_type": "code",
   "execution_count": 6,
   "id": "d6bc8e7b-d09c-4158-8c65-43f9bd5f3612",
   "metadata": {},
   "outputs": [],
   "source": [
    "def Seasonality(t, dow, doy, clock_hour, y0_336, y0_96,wind100, wind10,x2t,ssrd,node_sm):\n",
    "    # seasonality on yearly scale\n",
    "    wy = 2*np.pi/365\n",
    "    # seasonality on weekly scale: we look for weekend days\n",
    "    is_saturday = dow == 'Sam'\n",
    "    is_sunday = dow == 'Dim'\n",
    "    is_weekend = 1*(dow=='Sam')+1*(dow=='Dim')\n",
    "    day_of_week = 1*(dow=='Lun')+2*(dow=='Mar')+3*(dow=='Mer')+4*(dow=='Jeu')+5*(dow=='Ven')+6*(dow=='Sam')+7*(dow=='Dim')\n",
    "    ww = 2*np.pi/7\n",
    "    # seasonality on daily scale\n",
    "    wd = 2*np.pi/24\n",
    "\n",
    "    # QUESTO FUNZIONA!!!\n",
    "    St = np.array([np.ones(doy.shape), t, \n",
    "                   np.cos(wy*doy), np.sin(wy*doy), \n",
    "                   np.cos(2*wy*doy), np.sin(2*wy*doy), \n",
    "                   np.cos(12*wy*doy), np.sin(12*wy*doy), \n",
    "                   np.cos(52*wy*doy), np.sin(52*wy*doy), \n",
    "                   np.cos(2*wy*doy)*np.sin(2*wy*doy), \n",
    "                   is_weekend,\n",
    "                   np.cos(ww*day_of_week), np.sin(ww*day_of_week), \n",
    "                   np.cos(wd*clock_hour), np.sin(wd*clock_hour),\n",
    "                   np.cos(2*wd*clock_hour), np.sin(2*wd*clock_hour),\n",
    "                   np.cos(3*wd*clock_hour), np.sin(3*wd*clock_hour), \n",
    "                   np.cos(wd*clock_hour)*np.sin(wd*clock_hour), np.cos(2*wd*clock_hour)*np.sin(2*wd*clock_hour),\n",
    "                   is_weekend*np.cos(wd*clock_hour), is_weekend*np.sin(wd*clock_hour),\n",
    "                   is_weekend*np.cos(2*wd*clock_hour), is_weekend*np.sin(2*wd*clock_hour),\n",
    "                   is_weekend*np.cos(3*wd*clock_hour), is_weekend*np.sin(3*wd*clock_hour), \n",
    "                   \n",
    "                   wind10*ssrd*np.cos(wd*clock_hour), wind10*ssrd*np.sin(wd*clock_hour),\n",
    "                   wind10*np.cos(wd*clock_hour), wind10*np.sin(wd*clock_hour),\n",
    "                   wind10*ssrd*np.cos(2*wd*clock_hour), wind10*ssrd*np.sin(2*wd*clock_hour),\n",
    "                   wind10*ssrd*np.cos(3*wd*clock_hour), wind10*ssrd*np.sin(3*wd*clock_hour), \n",
    "                   np.cos(wd*clock_hour)*np.sin(wd*clock_hour), np.cos(2*wd*clock_hour)*np.sin(2*wd*clock_hour),\n",
    "                   wind100*ssrd*np.cos(wd*clock_hour), wind100*ssrd*np.sin(wd*clock_hour),\n",
    "                   wind100*ssrd*np.cos(2*wd*clock_hour), wind100*ssrd*np.sin(2*wd*clock_hour),\n",
    "                   wind100*ssrd*np.cos(3*wd*clock_hour), wind100*ssrd*np.sin(3*wd*clock_hour), \n",
    "                   y0_336, y0_96, node_sm,\n",
    "                   wind100, wind10, x2t, ssrd,\n",
    "                   ssrd*wind10,\n",
    "                   wind100*wind10, wind100*wind10*ssrd\n",
    "                  ]).T\n",
    "    return St\n",
    "\n",
    "for (reg, df) in zip(regions, regions_df):\n",
    "    St_train = Seasonality(train_set[reg][\"t\"],train_set[reg][\"dow\"], train_set[reg][\"doy\"], train_set[reg][\"clock_hour\"],\n",
    "                          train_set[reg][\"y0_336\"], train_set[reg][\"y0_96\"],\n",
    "                          train_set[reg]['WindSpd100_weighted.mean_cell'],train_set[reg]['WindSpd10_weighted.mean_cell'],\n",
    "                          train_set[reg]['x2T_weighted.mean_p_max_point'],train_set[reg]['SSRD_mean_2_Cap'],\n",
    "                          train_set[reg]['node_sm'])\n",
    "    model = sm.OLS(train_set[reg][\"node\"], St_train)\n",
    "    results = model.fit()\n",
    "    params = results.params\n",
    "    \n",
    "    St = Seasonality(df[\"t\"],df[\"dow\"],df[\"doy\"],df[\"clock_hour\"],df[\"y0_336\"], df[\"y0_96\"],\n",
    "                     df['WindSpd100_weighted.mean_cell'],df['WindSpd10_weighted.mean_cell'],df['x2T_weighted.mean_p_max_point'],\n",
    "                     df['SSRD_mean_2_Cap'],df['node_sm'])\n",
    "    \n",
    "    df['y_OLS'] = St@params\n",
    "    df['res_OLS'] = np.array(df['node']) - np.array(df['y_OLS'])\n",
    "\n",
    "\n",
    "    \n",
    "for (reg, df) in zip(regions, regions_df):\n",
    "    # Train set\n",
    "    train_set[reg] = df[720:87440] \n",
    "    #Test set\n",
    "    test_set[reg] = df[87440:]"
   ]
  },
  {
   "cell_type": "code",
   "execution_count": 17,
   "id": "4ea886c5-4004-4558-bae4-58e644b8f7e0",
   "metadata": {
    "jupyter": {
     "source_hidden": true
    },
    "tags": []
   },
   "outputs": [],
   "source": [
    "# features = ['t', 't2', 'doy_s', 'doy_c', 'doy_s2', 'doy_c2', 'node_sm', 'clock_hour', 'dow_RpH', 'School_Hol', \n",
    "#            'x2T_weighted.mean_p_max_point', 'x2Tsm_point', 'SSRD_mean_2_Cap', 'WindSpd100_weighted.mean_cell','EMBEDDED_WIND_CAPACITY',\n",
    "#            'WindSpd10_weighted.mean_cell', 'TP_weighted.mean_cell']\n",
    "features = ['y0_336','y0_96','t','doy_c','doy_s','x2T_weighted.mean_p_max_point', 'clock_hour', 'dow_RpH',\n",
    "            'x2Tsm_point', 'SSRD_mean_2_Cap', 'WindSpd100_weighted.mean_cell','WindSpd10_weighted.mean_cell']\n",
    "\n",
    "def dataset_preprocessing(df, features, exog_name):\n",
    "    df_std = df.copy()    \n",
    "    df_std['t2'] = df_std['t']**2\n",
    "    df_std['dow_RpH'] = 1*(df_std['dow_RpH']=='Lun')+2*(df_std['dow_RpH']=='Mar')+\\\n",
    "                            3*(df_std['dow_RpH']=='Mer')+4*(df_std['dow_RpH']=='Jeu')+\\\n",
    "                            5*(df_std['dow_RpH']=='Ven')+6*(df_std['dow_RpH']=='Sam')+\\\n",
    "                            7*(df_std['dow_RpH']=='Dim')+8*(df_std['dow_RpH']=='Autumn Break')+\\\n",
    "                            9*(df_std['dow_RpH']=='Christmas Holiday')+10*(df_std['dow_RpH']=='Easter Holidays')+\\\n",
    "                            11*(df_std['dow_RpH']=='Summer Break')+12*(df_std['dow_RpH']=='Summer Holiday')+\\\n",
    "                            13*(df_std['dow_RpH']=='February Half Term')\n",
    "    df_std['School_Hol'] = 1*(df_std['School_Hol']=='N')+2*(df_std['School_Hol']=='School Holiday')+\\\n",
    "                            3*(df_std['School_Hol']=='Christmas Holiday')\n",
    "    target = df[exog_name]\n",
    "    return np.array(df_std[features]), target"
   ]
  },
  {
   "cell_type": "markdown",
   "id": "826f6469-fac2-4e38-9877-9d58834d0da6",
   "metadata": {
    "jupyter": {
     "source_hidden": true
    },
    "tags": []
   },
   "source": [
    "# GAM model\n",
    "Target variable: Node"
   ]
  },
  {
   "cell_type": "code",
   "execution_count": 18,
   "id": "1ae34f8e-9cb7-47c1-891d-c58ddf8cb832",
   "metadata": {
    "collapsed": true,
    "jupyter": {
     "outputs_hidden": true,
     "source_hidden": true
    },
    "tags": []
   },
   "outputs": [
    {
     "name": "stdout",
     "output_type": "stream",
     "text": [
      "A\n",
      "B\n",
      "C\n",
      "D\n",
      "E\n",
      "F\n",
      "G\n",
      "H\n",
      "J\n",
      "K\n",
      "L\n",
      "M\n",
      "N\n",
      "P\n"
     ]
    }
   ],
   "source": [
    "from pygam import LinearGAM, s, f, l, te\n",
    "\n",
    "target_variable = 'node'\n",
    "\n",
    "X_train = {}\n",
    "Y_train = {}\n",
    "\n",
    "X_test = {}\n",
    "Y_test = {}\n",
    "\n",
    "for (reg, df) in zip(regions, regions_df):\n",
    "    # Train set\n",
    "    X_train[reg], Y_train[reg] = dataset_preprocessing(train_set[reg], features, target_variable)\n",
    "    #Test set\n",
    "    X_test[reg], Y_test[reg] = dataset_preprocessing(test_set[reg], features, target_variable)\n",
    "\n",
    "\n",
    "GAM_model = {}\n",
    "\n",
    "for reg in regions:\n",
    "    print(reg)\n",
    "    # gam_model = LinearGAM(l(0) + l(1) + l(2) + l(3) + l(4) + l(5) + l(6) + s(7,n_splines=35,basis='cp') + f(8) + f(9) + \n",
    "    #                      te(7,8,n_splines=30,dtype=['numerical','categorical'],basis='cp')+te(7,9,n_splines=20,dtype=['numerical','categorical'],basis='cp')+\n",
    "    #                      s(10,n_splines=35,basis='cp')+s(11,n_splines=35,basis='cp')+s(12,n_splines=5,basis='cp')+ \n",
    "    #                      te(13,14,n_splines=20,basis='cp')+l(15)+s(16,n_splines=5,basis='cp')+te(10,7,n_splines=17)+te(16,7,n_splines=17))\n",
    "    # gam_model = LinearGAM(l(0) + l(1) + l(2) + l(3) + l(4) + l(5) + l(6) + s(7,n_splines=35,basis='cp') + f(8) + f(9) + \n",
    "    #                      #te(7,8,n_splines=30,dtype=['numerical','categorical'],basis='cp')+te(7,9,n_splines=20,dtype=['numerical','categorical'],basis='cp')+\n",
    "    #                   s(7,by=8,n_splines=30,basis=\"cp\") + s(7,by=9,n_splines=20,basis=\"cp\")+    \n",
    "    #                   s(10,n_splines=35,basis='cp')+s(11,n_splines=35,basis='cp')+s(12,n_splines=5,basis='cp')+ \n",
    "    #                   s(13,n_splines=20,by=14,basis=\"cp\")+l(15)+s(16,n_splines=5,basis='cp')+\n",
    "    #                   #te(13,14,n_splines=20,basis='cp')\n",
    "    #                   te(10,7,n_splines=17)+te(16,7,n_splines=17))\n",
    "    gam_model = LinearGAM(l(0) + te(1,8) + l(2) + l(3) + l(4) + l(5) + l(6) + l(7) + l(8) + l(9) + l(10) + l(11))\n",
    "    \n",
    "    gam_model.fit(np.array(X_train[reg]), np.array(Y_train[reg]))\n",
    "    GAM_model[reg] = gam_model"
   ]
  },
  {
   "cell_type": "code",
   "execution_count": 19,
   "id": "6844608e-fdd2-4ca8-87d3-89d502f8b7d4",
   "metadata": {
    "jupyter": {
     "source_hidden": true
    },
    "tags": []
   },
   "outputs": [],
   "source": [
    "y_GAM = {}\n",
    "\n",
    "for reg in regions:\n",
    "    y_GAM[reg] = GAM_model[reg].predict(np.array(X_test[reg]))"
   ]
  },
  {
   "cell_type": "markdown",
   "id": "c6eb221a-6cd3-4fd4-8434-0eff46b5b307",
   "metadata": {},
   "source": [
    "# Persistence benchmark (2 days)\n"
   ]
  },
  {
   "cell_type": "code",
   "execution_count": 7,
   "id": "8e659dce-77c6-431f-aad7-3ed820441e8e",
   "metadata": {},
   "outputs": [],
   "source": [
    "y_pers_benchmark = {}\n",
    "\n",
    "for reg, df in zip(regions, regions_df):\n",
    "    pb_reg = Persistence_Benchmark(df)\n",
    "    y_pers_benchmark[reg] = pb_reg.predict(test_set[reg]['targetTime'])\n"
   ]
  },
  {
   "cell_type": "markdown",
   "id": "8bc96a83-d277-4df9-97e1-ef4970102e36",
   "metadata": {},
   "source": [
    "## Evaluation metrics on all regions"
   ]
  },
  {
   "cell_type": "code",
   "execution_count": 8,
   "id": "73817629-96ab-4080-a23d-fbfe49abf65f",
   "metadata": {},
   "outputs": [],
   "source": [
    "y_mat = np.zeros((len(test_set['A']),len(regions)))\n",
    "for i,reg in enumerate(regions):\n",
    "    y_mat[:,i] = test_set[reg]['node']\n",
    "    \n",
    "# yhat_GAM_mat = np.zeros((len(test_set['A']),len(regions)))\n",
    "yhat_persistence = np.zeros((len(test_set['A']),len(regions)))\n",
    "yhat_seasonality_OLS = np.zeros((len(test_set['A']),len(regions)))\n",
    "\n",
    "# for i,reg in enumerate(regions):\n",
    "#     yhat_GAM_mat[:,i] = y_GAM[reg]\n",
    "\n",
    "for i, reg in enumerate(regions):\n",
    "    yhat_persistence[:,i] = y_pers_benchmark[reg]\n",
    "    \n",
    "for i, reg in enumerate(regions):\n",
    "    yhat_seasonality_OLS[:,i] = test_set[reg]['y_OLS']"
   ]
  },
  {
   "cell_type": "code",
   "execution_count": 9,
   "id": "3d11ea45-d7f3-4db2-9d6d-6ec23d7c2267",
   "metadata": {},
   "outputs": [
    {
     "name": "stdout",
     "output_type": "stream",
     "text": [
      "nRMSE Persistence Benchmark on 2019 test set:  0.7657144432686483\n",
      "nRMSE Persistence Benchmark on 2020 test set:  0.7637086247264843\n",
      "nRMSE Persistence Benchmark on 2021 test set:  0.7364503505051879\n",
      "\n",
      "nMAE Persistence Benchmark on 2019 test set:  0.6853608197041662\n",
      "nMAE Persistence Benchmark on 2020 test set:  0.6695116843860172\n",
      "nMAE Persistence Benchmark on 2021 test set:  0.6679449917889729\n",
      "\n",
      "nRMSE seasonality on 2019 test set:  0.3509976808024172\n",
      "nRMSE seasonality on 2020 test set:  0.37527984980750945\n",
      "nRMSE seasonality on 2021 test set:  0.39603831000564726\n",
      "\n",
      "nMAE seasonality on 2019 test set:  0.3186894139816057\n",
      "nMAE seasonality on 2020 test set:  0.34526531596386495\n",
      "nMAE seasonality on 2021 test set:  0.3753453941272941\n"
     ]
    }
   ],
   "source": [
    "idx_2020 = 17516\n",
    "idx_2021 = 35104\n",
    "\n",
    "print(\"nRMSE Persistence Benchmark on 2019 test set: \", nRMSE(y_mat[:idx_2020], yhat_persistence[:idx_2020]))\n",
    "print(\"nRMSE Persistence Benchmark on 2020 test set: \", nRMSE(y_mat[idx_2020:idx_2021], yhat_persistence[idx_2020:idx_2021]))\n",
    "print(\"nRMSE Persistence Benchmark on 2021 test set: \", nRMSE(y_mat[idx_2021:], yhat_persistence[idx_2021:]))\n",
    "\n",
    "print(\"\\nnMAE Persistence Benchmark on 2019 test set: \", nMAE(y_mat[:idx_2020], yhat_persistence[:idx_2020]))\n",
    "print(\"nMAE Persistence Benchmark on 2020 test set: \", nMAE(y_mat[idx_2020:idx_2021], yhat_persistence[idx_2020:idx_2021]))\n",
    "print(\"nMAE Persistence Benchmark on 2021 test set: \", nMAE(y_mat[idx_2021:], yhat_persistence[idx_2021:]))\n",
    "\n",
    "# print(\"\\nnRMSE GAM on 2019 test set: \", nRMSE(y_mat[:idx_2020], yhat_GAM_mat[:idx_2020]))\n",
    "# print(\"nRMSE GAM on 2020 test set: \", nRMSE(y_mat[idx_2020:idx_2021], yhat_GAM_mat[idx_2020:idx_2021]))\n",
    "# print(\"nRMSE GAM on 2021 test set: \", nRMSE(y_mat[idx_2021:], yhat_GAM_mat[idx_2021:]))\n",
    "\n",
    "# print(\"\\nnMAE GAM on 2019 test set: \", nMAE(y_mat[:idx_2020], yhat_GAM_mat[:idx_2020]))\n",
    "# print(\"nMAE GAM on 2020 test set: \", nMAE(y_mat[idx_2020:idx_2021], yhat_GAM_mat[idx_2020:idx_2021]))\n",
    "# print(\"nMAE GAM on 2021 test set: \", nMAE(y_mat[idx_2021:], yhat_GAM_mat[idx_2021:]))\n",
    "\n",
    "print(\"\\nnRMSE seasonality on 2019 test set: \", nRMSE(y_mat[:idx_2020], yhat_seasonality_OLS[:idx_2020]))\n",
    "print(\"nRMSE seasonality on 2020 test set: \", nRMSE(y_mat[idx_2020:idx_2021], yhat_seasonality_OLS[idx_2020:idx_2021]))\n",
    "print(\"nRMSE seasonality on 2021 test set: \", nRMSE(y_mat[idx_2021:], yhat_seasonality_OLS[idx_2021:]))\n",
    "\n",
    "print(\"\\nnMAE seasonality on 2019 test set: \", nMAE(y_mat[:idx_2020], yhat_seasonality_OLS[:idx_2020]))\n",
    "print(\"nMAE seasonality on 2020 test set: \", nMAE(y_mat[idx_2020:idx_2021], yhat_seasonality_OLS[idx_2020:idx_2021]))\n",
    "print(\"nMAE seasonality on 2021 test set: \", nMAE(y_mat[idx_2021:], yhat_seasonality_OLS[idx_2021:]))"
   ]
  },
  {
   "cell_type": "code",
   "execution_count": null,
   "id": "3da21196-d7b7-4964-99e7-5e138da5522b",
   "metadata": {},
   "outputs": [],
   "source": []
  },
  {
   "cell_type": "markdown",
   "id": "de903fcd-d11b-44f0-902e-70be3e1b3509",
   "metadata": {},
   "source": [
    "# Kalman Filter on Seasonality fit - Python"
   ]
  },
  {
   "cell_type": "markdown",
   "id": "ac6a3752-57e7-471e-9d11-dabf68d144b4",
   "metadata": {},
   "source": [
    "## Static Kalman Filter"
   ]
  },
  {
   "cell_type": "markdown",
   "id": "2c56c8c8-a844-41d3-add9-9a47b4c5aa3c",
   "metadata": {
    "jupyter": {
     "source_hidden": true
    },
    "tags": []
   },
   "source": [
    "### 30 minutes ahead prediction"
   ]
  },
  {
   "cell_type": "code",
   "execution_count": 28,
   "id": "5c4041c2-f6e5-4054-8fae-db7b468ba760",
   "metadata": {
    "jupyter": {
     "source_hidden": true
    },
    "tags": []
   },
   "outputs": [],
   "source": [
    "kf_static_30 = {}\n",
    "\n",
    "for reg in regions:\n",
    "    print(reg)\n",
    "    St_train = Seasonality(train_set[reg][\"t\"],train_set[reg][\"dow\"], train_set[reg][\"doy\"], train_set[reg][\"clock_hour\"],\n",
    "                          train_set[reg][\"y0_336\"], train_set[reg][\"y0_96\"],\n",
    "                          train_set[reg]['WindSpd100_weighted.mean_cell'],train_set[reg]['WindSpd10_weighted.mean_cell'],\n",
    "                          train_set[reg]['x2T_weighted.mean_p_max_point'],train_set[reg]['SSRD_mean_2_Cap'],\n",
    "                          train_set[reg]['node_sm'])\n",
    "    kf = Kalman_Filter(GAM=False)\n",
    "    kf.fit(St_train, train_set[reg]['node'])\n",
    "    kf_static_30[reg] = kf\n",
    "\n",
    "y_Kalman_static_30 = {}\n",
    "\n",
    "for reg in regions:\n",
    "    St_test = Seasonality(test_set[reg]['t'],test_set[reg]['dow'],test_set[reg]['doy'],test_set[reg]['clock_hour'],\n",
    "                           test_set[reg]['y0_336'],test_set[reg]['y0_96'],\n",
    "                          test_set[reg]['WindSpd100_weighted.mean_cell'],test_set[reg]['WindSpd10_weighted.mean_cell'],\n",
    "                          test_set[reg]['x2T_weighted.mean_p_max_point'],test_set[reg]['SSRD_mean_2_Cap'],\n",
    "                          test_set[reg]['node_sm'])\n",
    "    y_Kalman_static_30[reg] = {}\n",
    "    \n",
    "    y_Kalman_static_30[reg]['2019'], _ = kf_static_30[reg].predict(St_test[:idx_2020], test_set[reg]['node'].iloc[:idx_2020]) \n",
    "    y_Kalman_static_30[reg]['2020'], _ = kf_static_30[reg].predict(St_test[idx_2020:idx_2021], test_set[reg]['node'].iloc[idx_2020:idx_2021]) \n",
    "    y_Kalman_static_30[reg]['2021'], _ = kf_static_30[reg].predict(St_test[idx_2021:], test_set[reg]['node'].iloc[idx_2021:]) \n"
   ]
  },
  {
   "cell_type": "markdown",
   "id": "cfffa9a7-213e-4b8c-a4b6-ef8389bab158",
   "metadata": {},
   "source": [
    "### 48 hours ahead prediction"
   ]
  },
  {
   "cell_type": "code",
   "execution_count": 10,
   "id": "51d05b6d-befe-418a-aa42-11bf01a2229a",
   "metadata": {},
   "outputs": [
    {
     "name": "stdout",
     "output_type": "stream",
     "text": [
      "A\n",
      "B\n",
      "C\n",
      "D\n",
      "E\n",
      "F\n",
      "G\n",
      "H\n",
      "J\n",
      "K\n",
      "L\n",
      "M\n",
      "N\n",
      "P\n"
     ]
    }
   ],
   "source": [
    "idx_2020 = 17516\n",
    "idx_2021 = 35104\n",
    "kf_static = {}\n",
    "\n",
    "for reg in regions:\n",
    "    print(reg)\n",
    "    St_train = Seasonality(train_set[reg][\"t\"],train_set[reg][\"dow\"], train_set[reg][\"doy\"], train_set[reg][\"clock_hour\"],\n",
    "                          train_set[reg][\"y0_336\"], train_set[reg][\"y0_96\"],\n",
    "                          train_set[reg]['WindSpd100_weighted.mean_cell'],train_set[reg]['WindSpd10_weighted.mean_cell'],\n",
    "                          train_set[reg]['x2T_weighted.mean_p_max_point'],train_set[reg]['SSRD_mean_2_Cap'],\n",
    "                          train_set[reg]['node_sm'])\n",
    "    kf = Kalman_Filter(GAM=False)\n",
    "    kf.fit(St_train, train_set[reg]['node'])\n",
    "    kf_static[reg] = kf\n",
    "\n",
    "y_Kalman_static = {}\n",
    "\n",
    "for reg in regions:\n",
    "    # 48h prediction\n",
    "    St_test = Seasonality(test_set[reg]['t'],test_set[reg]['dow'],test_set[reg]['doy'],test_set[reg]['clock_hour'],\n",
    "                           test_set[reg]['y0_336'],test_set[reg]['y0_96'],\n",
    "                          test_set[reg]['WindSpd100_weighted.mean_cell'],test_set[reg]['WindSpd10_weighted.mean_cell'],\n",
    "                          test_set[reg]['x2T_weighted.mean_p_max_point'],test_set[reg]['SSRD_mean_2_Cap'],\n",
    "                          test_set[reg]['node_sm'])\n",
    "    df_kf = test_set[reg][['targetTime','node']]\n",
    "    y_Kalman_static[reg] = {}\n",
    "    y_Kalman_static[reg]['2019'], _ = kf_static[reg].predict(St_test[:idx_2020], df_kf.iloc[:idx_2020], delay=True) \n",
    "    y_Kalman_static[reg]['2020'], _ = kf_static[reg].predict(St_test[idx_2020:idx_2021], df_kf.iloc[idx_2020:idx_2021], delay=True) \n",
    "    y_Kalman_static[reg]['2021'], _ = kf_static[reg].predict(St_test[idx_2021:], df_kf.iloc[idx_2021:], delay=True) "
   ]
  },
  {
   "cell_type": "code",
   "execution_count": 11,
   "id": "b9bbc047-8ea6-4fa9-97ec-444da1b5eb9a",
   "metadata": {},
   "outputs": [
    {
     "ename": "NameError",
     "evalue": "name 'y_Kalman_static_30' is not defined",
     "output_type": "error",
     "traceback": [
      "\u001b[1;31m---------------------------------------------------------------------------\u001b[0m",
      "\u001b[1;31mNameError\u001b[0m                                 Traceback (most recent call last)",
      "Cell \u001b[1;32mIn[11], line 18\u001b[0m\n\u001b[0;32m     16\u001b[0m yhat_staticKF_mat[idx_2020:idx_2021,i] \u001b[38;5;241m=\u001b[39m y_Kalman_static[reg][\u001b[38;5;124m'\u001b[39m\u001b[38;5;124m2020\u001b[39m\u001b[38;5;124m'\u001b[39m]\n\u001b[0;32m     17\u001b[0m yhat_staticKF_mat[idx_2021:,i] \u001b[38;5;241m=\u001b[39m y_Kalman_static[reg][\u001b[38;5;124m'\u001b[39m\u001b[38;5;124m2021\u001b[39m\u001b[38;5;124m'\u001b[39m]\n\u001b[1;32m---> 18\u001b[0m yhat_staticKF_30_mat[:idx_2020,i] \u001b[38;5;241m=\u001b[39m \u001b[43my_Kalman_static_30\u001b[49m[reg][\u001b[38;5;124m'\u001b[39m\u001b[38;5;124m2019\u001b[39m\u001b[38;5;124m'\u001b[39m]\n\u001b[0;32m     19\u001b[0m yhat_staticKF_30_mat[idx_2020:idx_2021,i] \u001b[38;5;241m=\u001b[39m y_Kalman_static_30[reg][\u001b[38;5;124m'\u001b[39m\u001b[38;5;124m2020\u001b[39m\u001b[38;5;124m'\u001b[39m]\n\u001b[0;32m     20\u001b[0m yhat_staticKF_30_mat[idx_2021:,i] \u001b[38;5;241m=\u001b[39m y_Kalman_static_30[reg][\u001b[38;5;124m'\u001b[39m\u001b[38;5;124m2021\u001b[39m\u001b[38;5;124m'\u001b[39m]\n",
      "\u001b[1;31mNameError\u001b[0m: name 'y_Kalman_static_30' is not defined"
     ]
    }
   ],
   "source": [
    "idx_2020 = 17516\n",
    "idx_2021 = 35104\n",
    "\n",
    "y_mat = np.zeros((len(test_set['A']),len(regions)))\n",
    "for i,reg in enumerate(regions):\n",
    "    y_mat[:,i] = test_set[reg]['node']\n",
    "    \n",
    "#yhat_GAM_mat = np.zeros((len(test_set['A']),len(regions)))\n",
    "yhat_staticKF_mat = np.zeros((len(test_set['A']),len(regions)))\n",
    "yhat_staticKF_30_mat = np.zeros((len(test_set['A']),len(regions)))\n",
    "yhat_persistence = np.zeros((len(test_set['A']),len(regions)))\n",
    "\n",
    "for i,reg in enumerate(regions):\n",
    "    #yhat_GAM_mat[:,i] = y_GAM[reg]\n",
    "    yhat_staticKF_mat[:idx_2020,i] = y_Kalman_static[reg]['2019']\n",
    "    yhat_staticKF_mat[idx_2020:idx_2021,i] = y_Kalman_static[reg]['2020']\n",
    "    yhat_staticKF_mat[idx_2021:,i] = y_Kalman_static[reg]['2021']\n",
    "    yhat_staticKF_30_mat[:idx_2020,i] = y_Kalman_static_30[reg]['2019']\n",
    "    yhat_staticKF_30_mat[idx_2020:idx_2021,i] = y_Kalman_static_30[reg]['2020']\n",
    "    yhat_staticKF_30_mat[idx_2021:,i] = y_Kalman_static_30[reg]['2021']\n",
    "\n",
    "for i, reg in enumerate(regions):\n",
    "    yhat_persistence[:,i] = y_pers_benchmark[reg]\n",
    "\n",
    "\n",
    "print(\"nRMSE Persistence Benchmark on 2019 test set: \", nRMSE(y_mat[:idx_2020], yhat_persistence[:idx_2020]))\n",
    "print(\"nRMSE Persistence Benchmark on 2020 test set: \", nRMSE(y_mat[idx_2020:idx_2021], yhat_persistence[idx_2020:idx_2021]))\n",
    "print(\"nRMSE Persistence Benchmark on 2021 test set: \", nRMSE(y_mat[idx_2021:], yhat_persistence[idx_2021:]))\n",
    "\n",
    "print(\"\\nnMAE Persistence Benchmark on 2019 test set: \", nMAE(y_mat[:idx_2020], yhat_persistence[:idx_2020]))\n",
    "print(\"nMAE Persistence Benchmark on 2020 test set: \", nMAE(y_mat[idx_2020:idx_2021], yhat_persistence[idx_2020:idx_2021]))\n",
    "print(\"nMAE Persistence Benchmark on 2021 test set: \", nMAE(y_mat[idx_2021:], yhat_persistence[idx_2021:]))\n",
    "\n",
    "# print(\"\\nnRMSE GAM on 2019 test set: \", nRMSE(y_mat[:idx_2020], yhat_GAM_mat[:idx_2020]))\n",
    "# print(\"nRMSE GAM on 2020 test set: \", nRMSE(y_mat[idx_2020:idx_2021], yhat_GAM_mat[idx_2020:idx_2021]))\n",
    "# print(\"nRMSE GAM on 2021 test set: \", nRMSE(y_mat[idx_2021:], yhat_GAM_mat[idx_2021:]))\n",
    "\n",
    "# print(\"\\nnMAE GAM on 2019 test set: \", nMAE(y_mat[:idx_2020], yhat_GAM_mat[:idx_2020]))\n",
    "# print(\"nMAE GAM on 2020 test set: \", nMAE(y_mat[idx_2020:idx_2021], yhat_GAM_mat[idx_2020:idx_2021]))\n",
    "# print(\"nMAE GAM on 2021 test set: \", nMAE(y_mat[idx_2021:], yhat_GAM_mat[idx_2021:]))\n",
    "\n",
    "print(\"\\nnRMSE seasonality on 2019 test set: \", nRMSE(y_mat[:idx_2020], yhat_seasonality_OLS[:idx_2020]))\n",
    "print(\"nRMSE seasonality on 2020 test set: \", nRMSE(y_mat[idx_2020:idx_2021], yhat_seasonality_OLS[idx_2020:idx_2021]))\n",
    "print(\"nRMSE seasonality on 2021 test set: \", nRMSE(y_mat[idx_2021:], yhat_seasonality_OLS[idx_2021:]))\n",
    "\n",
    "print(\"\\nnMAE seasonality on 2019 test set: \", nMAE(y_mat[:idx_2020], yhat_seasonality_OLS[:idx_2020]))\n",
    "print(\"nMAE seasonality on 2020 test set: \", nMAE(y_mat[idx_2020:idx_2021], yhat_seasonality_OLS[idx_2020:idx_2021]))\n",
    "print(\"nMAE seasonality on 2021 test set: \", nMAE(y_mat[idx_2021:], yhat_seasonality_OLS[idx_2021:]))\n",
    "\n",
    "print(\"\\n\\nnRMSE Static KF on 2019 test set: \", nRMSE(y_mat[:idx_2020], yhat_staticKF_mat[:idx_2020]))\n",
    "print(\"nRMSE Static KF on 2020 test set: \", nRMSE(y_mat[idx_2020:idx_2021], yhat_staticKF_mat[idx_2020:idx_2021]))\n",
    "print(\"nRMSE Static KF on 2021 test set: \", nRMSE(y_mat[idx_2021:], yhat_staticKF_mat[idx_2021:]))\n",
    "\n",
    "print(\"\\nnMAE Static KF on 2019 test set: \", nMAE(y_mat[:idx_2020], yhat_staticKF_mat[:idx_2020]))\n",
    "print(\"nMAE Static KF on 2020 test set: \", nMAE(y_mat[idx_2020:idx_2021], yhat_staticKF_mat[idx_2020:idx_2021]))\n",
    "print(\"nMAE Static KF on 2021 test set: \", nMAE(y_mat[idx_2021:], yhat_staticKF_mat[idx_2021:]))\n",
    "\n",
    "# print(\"\\n\\nnRMSE Static KF no delay on 2019 test set: \", nRMSE(y_mat[:idx_2020], yhat_staticKF_30_mat[:idx_2020]))\n",
    "# print(\"nRMSE Static KF no delay on 2020 test set: \", nRMSE(y_mat[idx_2020:idx_2021], yhat_staticKF_30_mat[idx_2020:idx_2021]))\n",
    "# print(\"nRMSE Static KF no delay on 2021 test set: \", nRMSE(y_mat[idx_2021:], yhat_staticKF_30_mat[idx_2021:]))\n",
    "\n",
    "# print(\"\\nnMAE Static KF no delay on 2019 test set: \", nMAE(y_mat[:idx_2020], yhat_staticKF_30_mat[:idx_2020]))\n",
    "# print(\"nMAE Static KF no delay on 2020 test set: \", nMAE(y_mat[idx_2020:idx_2021], yhat_staticKF_30_mat[idx_2020:idx_2021]))\n",
    "# print(\"nMAE Static KF no delay on 2021 test set: \", nMAE(y_mat[idx_2021:], yhat_staticKF_30_mat[idx_2021:]))"
   ]
  },
  {
   "cell_type": "markdown",
   "id": "036e2d74-0fcc-48f2-b504-51047ae72910",
   "metadata": {},
   "source": [
    "# Dynamic Kalman Filter"
   ]
  },
  {
   "cell_type": "markdown",
   "id": "139937b0-6b4e-45b4-bb8a-fcdcd75041b6",
   "metadata": {
    "tags": []
   },
   "source": [
    "### 48 hours ahead prediction"
   ]
  },
  {
   "cell_type": "code",
   "execution_count": 56,
   "id": "1bdac5e1-4e3e-4a07-8eca-ad31bf1e90d5",
   "metadata": {
    "tags": []
   },
   "outputs": [
    {
     "name": "stdout",
     "output_type": "stream",
     "text": [
      "A\n",
      "B\n",
      "C\n",
      "D\n",
      "E\n",
      "F\n",
      "G\n",
      "H\n",
      "J\n",
      "K\n",
      "L\n",
      "M\n",
      "N\n",
      "P\n"
     ]
    }
   ],
   "source": [
    "idx_2020 = 17516\n",
    "idx_2021 = 35104\n",
    "\n",
    "kf_dynamic = {}\n",
    "# BEST YET\n",
    "#Q = np.diag(1e-11*np.ones((np.shape(St_train)[1],)))\n",
    "#sigma = 0.5\n",
    "q_list = [1e-8, 1e-9, 1e-10, 1e-11, 1e-12, 1e-13, 1e-14]\n",
    "sigma_list = [1, 0.9, 0.8, 0.7, 0.6, 0.5, 0.4, 0.3, 0.1, 0.08, 0.06, 0.04, 0.01, 0.008]\n",
    "\n",
    "\n",
    "for reg in regions:\n",
    "    # with open(f'Q_{reg}.npy', 'rb') as f:\n",
    "    #     Q = np.load(f)\n",
    "    #     sigma = np.load(f)\n",
    "    print(reg)\n",
    "    St_train = Seasonality(train_set[reg][\"t\"],train_set[reg][\"dow\"], train_set[reg][\"doy\"], train_set[reg][\"clock_hour\"],\n",
    "                          train_set[reg][\"y0_336\"], train_set[reg][\"y0_96\"],\n",
    "                          train_set[reg]['WindSpd100_weighted.mean_cell'],train_set[reg]['WindSpd10_weighted.mean_cell'],\n",
    "                          train_set[reg]['x2T_weighted.mean_p_max_point'],train_set[reg]['SSRD_mean_2_Cap'],\n",
    "                          train_set[reg]['node_sm'])\n",
    "    \n",
    "    # std_static = np.std(kf_static[reg].theta_mat[1000:],axis=0)\n",
    "    # Q = np.diag(1e-11*std_static)\n",
    "    # Q = np.diag(1e-11*np.ones(np.shape(St_train)[1],)) BEST YET\n",
    "    \n",
    "    optim = Q_optimization(St_train, train_set[reg][[\"targetTime\", \"node\"]],GAM=False)\n",
    "    Q, sigma, P = optim.grid_search(q_list=q_list, sigma_list=sigma_list)\n",
    "    kf = Kalman_Filter(GAM=False, Q=Q, sigma=sigma, P=P)\n",
    "    kf.fit(St_train, train_set[reg]['node'])\n",
    "    kf_dynamic[reg] = kf\n",
    "    \n",
    "y_Kalman_dynamic = {}\n",
    "\n",
    "for reg in regions:\n",
    "    # 48h prediction\n",
    "    St_test = Seasonality(test_set[reg]['t'],test_set[reg]['dow'],test_set[reg]['doy'],test_set[reg]['clock_hour'],\n",
    "                           test_set[reg]['y0_336'],test_set[reg]['y0_96'],\n",
    "                          test_set[reg]['WindSpd100_weighted.mean_cell'],test_set[reg]['WindSpd10_weighted.mean_cell'],\n",
    "                          test_set[reg]['x2T_weighted.mean_p_max_point'],test_set[reg]['SSRD_mean_2_Cap'],\n",
    "                          test_set[reg]['node_sm'])\n",
    "    df_kf = test_set[reg][['targetTime','node']]\n",
    "    y_Kalman_dynamic[reg] = {}\n",
    "    y_Kalman_dynamic[reg]['2019'], _ = kf_dynamic[reg].predict(St_test[:idx_2020], df_kf.iloc[:idx_2020], delay=True) \n",
    "    y_Kalman_dynamic[reg]['2020'], _ = kf_dynamic[reg].predict(St_test[idx_2020:idx_2021], df_kf.iloc[idx_2020:idx_2021], delay=True) \n",
    "    y_Kalman_dynamic[reg]['2021'], _ = kf_dynamic[reg].predict(St_test[idx_2021:], df_kf.iloc[idx_2021:], delay=True)"
   ]
  },
  {
   "cell_type": "markdown",
   "id": "09be3a33-80db-4d24-b4cf-46de3b79ab41",
   "metadata": {
    "tags": []
   },
   "source": [
    "# Persistence benchmark (2 days)\n"
   ]
  },
  {
   "cell_type": "code",
   "execution_count": 33,
   "id": "29886846-977b-45ad-be7b-6afc724cf744",
   "metadata": {
    "tags": []
   },
   "outputs": [],
   "source": [
    "y_pers_benchmark = {}\n",
    "\n",
    "for reg, df in zip(regions, regions_df):\n",
    "    pb_reg = Persistence_Benchmark(df)\n",
    "    y_pers_benchmark[reg] = pb_reg.predict(test_set[reg]['targetTime'])\n"
   ]
  },
  {
   "cell_type": "markdown",
   "id": "a5d0f9ab-d3db-4629-8bd5-a8b7d25c2276",
   "metadata": {
    "tags": []
   },
   "source": [
    "## Evaluation metrics on all regions"
   ]
  },
  {
   "cell_type": "code",
   "execution_count": 57,
   "id": "9a4ed373-a57c-4fb3-a24c-b0fc3d31c024",
   "metadata": {
    "tags": []
   },
   "outputs": [],
   "source": [
    "y_mat = np.zeros((len(test_set['A']),len(regions)))\n",
    "for i,reg in enumerate(regions):\n",
    "    y_mat[:,i] = test_set[reg]['node']\n",
    "    \n",
    "#yhat_GAM_mat = np.zeros((len(test_set['A']),len(regions)))\n",
    "yhat_staticKF_mat = np.zeros((len(test_set['A']),len(regions)))\n",
    "yhat_dynamicKF_mat = np.zeros((len(test_set['A']),len(regions)))\n",
    "yhat_persistence = np.zeros((len(test_set['A']),len(regions)))\n",
    "\n",
    "for i,reg in enumerate(regions):\n",
    "    #yhat_GAM_mat[:,i] = y_GAM[reg]\n",
    "    yhat_staticKF_mat[:idx_2020,i] = y_Kalman_static[reg]['2019']\n",
    "    yhat_staticKF_mat[idx_2020:idx_2021,i] = y_Kalman_static[reg]['2020']\n",
    "    yhat_staticKF_mat[idx_2021:,i] = y_Kalman_static[reg]['2021']\n",
    "    yhat_dynamicKF_mat[:idx_2020,i] = y_Kalman_dynamic[reg]['2019']\n",
    "    yhat_dynamicKF_mat[idx_2020:idx_2021,i] = y_Kalman_dynamic[reg]['2020']\n",
    "    yhat_dynamicKF_mat[idx_2021:,i] = y_Kalman_dynamic[reg]['2021']\n",
    "\n",
    "for i, reg in enumerate(regions):\n",
    "    yhat_persistence[:,i] = y_pers_benchmark[reg]"
   ]
  },
  {
   "cell_type": "code",
   "execution_count": 58,
   "id": "42796142-d540-4298-b038-ef5a1fab6284",
   "metadata": {
    "tags": []
   },
   "outputs": [
    {
     "name": "stdout",
     "output_type": "stream",
     "text": [
      "nRMSE Persistence Benchmark on 2019 test set:  0.7657144432686483\n",
      "nRMSE Persistence Benchmark on 2020 test set:  0.7637086247264843\n",
      "nRMSE Persistence Benchmark on 2021 test set:  0.7364503505051879\n",
      "\n",
      "nMAE Persistence Benchmark on 2019 test set:  0.6853608197041662\n",
      "nMAE Persistence Benchmark on 2020 test set:  0.6695116843860172\n",
      "nMAE Persistence Benchmark on 2021 test set:  0.6679449917889729\n",
      "\n",
      "nRMSE seasonality on 2019 test set:  0.3509976808024172\n",
      "nRMSE seasonality on 2020 test set:  0.37527984980750945\n",
      "nRMSE seasonality on 2021 test set:  0.39603831000564726\n",
      "\n",
      "nMAE seasonality on 2019 test set:  0.3186894139816057\n",
      "nMAE seasonality on 2020 test set:  0.34526531596386495\n",
      "nMAE seasonality on 2021 test set:  0.3753453941272941\n",
      "\n",
      "\n",
      "nRMSE Static KF on 2019 test set:  0.3477856660973419\n",
      "nRMSE Static KF on 2020 test set:  0.3946036342725504\n",
      "nRMSE Static KF on 2021 test set:  0.38624116151166427\n",
      "\n",
      "nMAE Static KF on 2019 test set:  0.3153355547958672\n",
      "nMAE Static KF on 2020 test set:  0.3402091020676335\n",
      "nMAE Static KF on 2021 test set:  0.3643725587105805\n",
      "\n",
      "\n",
      "nRMSE Dynamic KF on 2019 test set:  0.3336292662454639\n",
      "nRMSE Dynamic KF on 2020 test set:  0.3654129260830002\n",
      "nRMSE Dynamic KF on 2021 test set:  0.3578819874061601\n",
      "\n",
      "nMAE Dynamic KF on 2019 test set:  0.3024652257946605\n",
      "nMAE Dynamic KF on 2020 test set:  0.3095867189201164\n",
      "nMAE Dynamic KF on 2021 test set:  0.3311297031341924\n"
     ]
    }
   ],
   "source": [
    "idx_2020 = 17516\n",
    "idx_2021 = 35104\n",
    "\n",
    "print(\"nRMSE Persistence Benchmark on 2019 test set: \", nRMSE(y_mat[:idx_2020], yhat_persistence[:idx_2020]))\n",
    "print(\"nRMSE Persistence Benchmark on 2020 test set: \", nRMSE(y_mat[idx_2020:idx_2021], yhat_persistence[idx_2020:idx_2021]))\n",
    "print(\"nRMSE Persistence Benchmark on 2021 test set: \", nRMSE(y_mat[idx_2021:], yhat_persistence[idx_2021:]))\n",
    "\n",
    "print(\"\\nnMAE Persistence Benchmark on 2019 test set: \", nMAE(y_mat[:idx_2020], yhat_persistence[:idx_2020]))\n",
    "print(\"nMAE Persistence Benchmark on 2020 test set: \", nMAE(y_mat[idx_2020:idx_2021], yhat_persistence[idx_2020:idx_2021]))\n",
    "print(\"nMAE Persistence Benchmark on 2021 test set: \", nMAE(y_mat[idx_2021:], yhat_persistence[idx_2021:]))\n",
    "\n",
    "print(\"\\nnRMSE seasonality on 2019 test set: \", nRMSE(y_mat[:idx_2020], yhat_seasonality_OLS[:idx_2020]))\n",
    "print(\"nRMSE seasonality on 2020 test set: \", nRMSE(y_mat[idx_2020:idx_2021], yhat_seasonality_OLS[idx_2020:idx_2021]))\n",
    "print(\"nRMSE seasonality on 2021 test set: \", nRMSE(y_mat[idx_2021:], yhat_seasonality_OLS[idx_2021:]))\n",
    "\n",
    "print(\"\\nnMAE seasonality on 2019 test set: \", nMAE(y_mat[:idx_2020], yhat_seasonality_OLS[:idx_2020]))\n",
    "print(\"nMAE seasonality on 2020 test set: \", nMAE(y_mat[idx_2020:idx_2021], yhat_seasonality_OLS[idx_2020:idx_2021]))\n",
    "print(\"nMAE seasonality on 2021 test set: \", nMAE(y_mat[idx_2021:], yhat_seasonality_OLS[idx_2021:]))\n",
    "\n",
    "print(\"\\n\\nnRMSE Static KF on 2019 test set: \", nRMSE(y_mat[:idx_2020], yhat_staticKF_mat[:idx_2020]))\n",
    "print(\"nRMSE Static KF on 2020 test set: \", nRMSE(y_mat[idx_2020:idx_2021], yhat_staticKF_mat[idx_2020:idx_2021]))\n",
    "print(\"nRMSE Static KF on 2021 test set: \", nRMSE(y_mat[idx_2021:], yhat_staticKF_mat[idx_2021:]))\n",
    "\n",
    "print(\"\\nnMAE Static KF on 2019 test set: \", nMAE(y_mat[:idx_2020], yhat_staticKF_mat[:idx_2020]))\n",
    "print(\"nMAE Static KF on 2020 test set: \", nMAE(y_mat[idx_2020:idx_2021], yhat_staticKF_mat[idx_2020:idx_2021]))\n",
    "print(\"nMAE Static KF on 2021 test set: \", nMAE(y_mat[idx_2021:], yhat_staticKF_mat[idx_2021:]))\n",
    "\n",
    "print(\"\\n\\nnRMSE Dynamic KF on 2019 test set: \", nRMSE(y_mat[:idx_2020], yhat_dynamicKF_mat[:idx_2020]))\n",
    "print(\"nRMSE Dynamic KF on 2020 test set: \", nRMSE(y_mat[idx_2020:idx_2021], yhat_dynamicKF_mat[idx_2020:idx_2021]))\n",
    "print(\"nRMSE Dynamic KF on 2021 test set: \", nRMSE(y_mat[idx_2021:], yhat_dynamicKF_mat[idx_2021:]))\n",
    "\n",
    "print(\"\\nnMAE Dynamic KF on 2019 test set: \", nMAE(y_mat[:idx_2020], yhat_dynamicKF_mat[:idx_2020]))\n",
    "print(\"nMAE Dynamic KF on 2020 test set: \", nMAE(y_mat[idx_2020:idx_2021], yhat_dynamicKF_mat[idx_2020:idx_2021]))\n",
    "print(\"nMAE Dynamic KF on 2021 test set: \", nMAE(y_mat[idx_2021:], yhat_dynamicKF_mat[idx_2021:]))\n"
   ]
  }
 ],
 "metadata": {
  "kernelspec": {
   "display_name": "Python 3 (ipykernel)",
   "language": "python",
   "name": "python3"
  },
  "language_info": {
   "codemirror_mode": {
    "name": "ipython",
    "version": 3
   },
   "file_extension": ".py",
   "mimetype": "text/x-python",
   "name": "python",
   "nbconvert_exporter": "python",
   "pygments_lexer": "ipython3",
   "version": "3.9.18"
  }
 },
 "nbformat": 4,
 "nbformat_minor": 5
}
