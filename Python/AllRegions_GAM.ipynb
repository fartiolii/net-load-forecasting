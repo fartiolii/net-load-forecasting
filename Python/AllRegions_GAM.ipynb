{
 "cells": [
  {
   "cell_type": "code",
   "execution_count": 34,
   "id": "add54c31-3691-4c17-b06c-c7a65b4bae15",
   "metadata": {},
   "outputs": [],
   "source": [
    "import numpy as np\n",
    "import pandas as pd\n",
    "import matplotlib.pyplot as plt\n",
    "import seaborn as sns\n",
    "import statsmodels.api as sm\n",
    "from scipy.optimize import minimize\n",
    "import pyreadr\n",
    "import os\n",
    "import time\n",
    "from scipy.stats import norm\n",
    "import copy\n",
    "import warnings\n",
    "import utils, regression_fit\n",
    "import pickle\n",
    "from importlib import reload\n",
    "reload(utils)\n",
    "reload(regression_fit)\n",
    "from utils import *\n",
    "from regression_fit import *\n",
    "\n",
    "home = os.getcwd()"
   ]
  },
  {
   "cell_type": "markdown",
   "id": "d4e1562b-7647-4f66-bee1-a1c7df9664b9",
   "metadata": {},
   "source": [
    "## Dataset"
   ]
  },
  {
   "cell_type": "code",
   "execution_count": 3,
   "id": "26f3be8c-2764-4d8d-a0fa-2d34cf86427c",
   "metadata": {},
   "outputs": [],
   "source": [
    "GroupA = pyreadr.read_r(home + '\\\\Other_data\\\\GroupA.rda')\n",
    "GroupA_df = pd.DataFrame(list(GroupA.values())[0])\n",
    "\n",
    "GroupB = pyreadr.read_r(home + '\\\\Other_data\\\\GroupB.rda')\n",
    "GroupB_df = pd.DataFrame(list(GroupB.values())[0])\n",
    "\n",
    "GroupC = pyreadr.read_r(home + '\\\\Other_data\\\\GroupC.rda')\n",
    "GroupC_df = pd.DataFrame(list(GroupC.values())[0])\n",
    "\n",
    "GroupD = pyreadr.read_r(home + '\\\\Other_data\\\\GroupD.rda')\n",
    "GroupD_df = pd.DataFrame(list(GroupD.values())[0])\n",
    "\n",
    "GroupE = pyreadr.read_r(home + '\\\\Other_data\\\\GroupE.rda')\n",
    "GroupE_df = pd.DataFrame(list(GroupE.values())[0])\n",
    "\n",
    "GroupF = pyreadr.read_r(home + '\\\\Other_data\\\\GroupF.rda')\n",
    "GroupF_df = pd.DataFrame(list(GroupF.values())[0])\n",
    "\n",
    "GroupG = pyreadr.read_r(home + '\\\\Other_data\\\\GroupG.rda')\n",
    "GroupG_df = pd.DataFrame(list(GroupG.values())[0])\n",
    "\n",
    "GroupH = pyreadr.read_r(home + '\\\\Other_data\\\\GroupH.rda')\n",
    "GroupH_df = pd.DataFrame(list(GroupH.values())[0])\n",
    "\n",
    "GroupJ = pyreadr.read_r(home + '\\\\Other_data\\\\GroupJ.rda')\n",
    "GroupJ_df = pd.DataFrame(list(GroupJ.values())[0])\n",
    "\n",
    "GroupH = pyreadr.read_r(home + '\\\\Other_data\\\\GroupH.rda')\n",
    "GroupH_df = pd.DataFrame(list(GroupH.values())[0])\n",
    "\n",
    "GroupJ = pyreadr.read_r(home + '\\\\Other_data\\\\GroupJ.rda')\n",
    "GroupJ_df = pd.DataFrame(list(GroupJ.values())[0])\n",
    "\n",
    "GroupK = pyreadr.read_r(home + '\\\\Other_data\\\\GroupK.rda')\n",
    "GroupK_df = pd.DataFrame(list(GroupK.values())[0])\n",
    "\n",
    "GroupL = pyreadr.read_r(home + '\\\\Other_data\\\\GroupL.rda')\n",
    "GroupL_df = pd.DataFrame(list(GroupL.values())[0])\n",
    "\n",
    "GroupM = pyreadr.read_r(home + '\\\\Other_data\\\\GroupM.rda')\n",
    "GroupM_df = pd.DataFrame(list(GroupM.values())[0])\n",
    "\n",
    "GroupN = pyreadr.read_r(home + '\\\\Other_data\\\\GroupN.rda')\n",
    "GroupN_df = pd.DataFrame(list(GroupN.values())[0])\n",
    "\n",
    "GroupP = pyreadr.read_r(home + '\\\\Other_data\\\\GroupP.rda')\n",
    "GroupP_df = pd.DataFrame(list(GroupP.values())[0])"
   ]
  },
  {
   "cell_type": "code",
   "execution_count": 4,
   "id": "3f0ea1bb-7d09-4f00-bfc0-8c4017226c0d",
   "metadata": {},
   "outputs": [],
   "source": [
    "regions_df = [GroupA_df, GroupB_df, GroupC_df, GroupD_df, GroupE_df, GroupF_df, GroupG_df, GroupH_df, GroupJ_df, GroupK_df,\n",
    "             GroupL_df, GroupM_df, GroupN_df, GroupP_df]\n",
    "\n",
    "idx_2020 = 17516\n",
    "idx_2021 = 35104"
   ]
  },
  {
   "cell_type": "code",
   "execution_count": 5,
   "id": "45d25a57-5df9-444e-a8ce-15eab27218f3",
   "metadata": {},
   "outputs": [],
   "source": [
    "# Adding columns y0_96, y0_336, diff_96, diff_336 to the dataset of each region\n",
    "for df in regions_df:   \n",
    "    df = add_autoregressive_features(df)\n",
    "\n",
    "regions = ['A', 'B', 'C', 'D', 'E', 'F', 'G', 'H', 'J', 'K', 'L', 'M', 'N', 'P']\n",
    "train_set = {}\n",
    "test_set = {}\n",
    "\n",
    "# The dataset of each region is split in train and test set\n",
    "for (reg, df) in zip(regions, regions_df):\n",
    "    # Train set\n",
    "    train_set[reg] = df[720:87440] \n",
    "    #Test set\n",
    "    test_set[reg] = df[87440:]"
   ]
  },
  {
   "cell_type": "code",
   "execution_count": null,
   "id": "0c8ee76f-fca4-4ef2-84bc-64a5345e92d2",
   "metadata": {},
   "outputs": [],
   "source": []
  },
  {
   "cell_type": "markdown",
   "id": "fb942028-a716-4cd5-b47c-d92273861518",
   "metadata": {},
   "source": [
    "### The goal is to reproduce the results of paper [1] on all regions\n",
    "\n",
    "[1] Joseph de Vilmarest, Jethro Browell, Matteo Fasiolo, Yannig Goude and Olivier Wintenberger, Adaptive Probabilistic Forecasting of Electricity\n",
    "(Net-)Load"
   ]
  },
  {
   "cell_type": "markdown",
   "id": "43470fbb-f05d-4927-8a72-03947357fe88",
   "metadata": {},
   "source": [
    "# Persistence benchmark (2 days)\n",
    "\n",
    "The prediction for each target time is equal to the value of 48h before\n"
   ]
  },
  {
   "cell_type": "code",
   "execution_count": 35,
   "id": "c4c6ee1c-0119-449b-8d83-59d78cd5a5c0",
   "metadata": {},
   "outputs": [],
   "source": [
    "y_pers_benchmark = {}\n",
    "\n",
    "for reg, df in zip(regions, regions_df):\n",
    "    pb_reg = Persistence_Benchmark(df)\n",
    "    y_pers_benchmark[reg] = pb_reg.predict(test_set[reg]['targetTime'])"
   ]
  },
  {
   "cell_type": "code",
   "execution_count": 36,
   "id": "16dc10ef-904f-4017-a4a3-7104ff444b7d",
   "metadata": {},
   "outputs": [],
   "source": [
    "y_mat = np.zeros((len(test_set['A']),len(regions)))\n",
    "for i,reg in enumerate(regions):\n",
    "    y_mat[:,i] = test_set[reg]['node']\n",
    "    \n",
    "yhat_persistence = np.zeros((len(test_set['A']),len(regions)))\n",
    "\n",
    "for i, reg in enumerate(regions):\n",
    "    yhat_persistence[:,i] = y_pers_benchmark[reg]"
   ]
  },
  {
   "cell_type": "markdown",
   "id": "bbf5d3c6-eedb-4fdf-8312-56e8f47b90d4",
   "metadata": {},
   "source": [
    "# GAM models obtained with the mgcv package in R"
   ]
  },
  {
   "cell_type": "markdown",
   "id": "bee7a17f-bbcf-47e7-a141-5127f2605a9c",
   "metadata": {},
   "source": [
    "### Offline GAM\n",
    "Results obtained with the mgcv package in R by using the bam function"
   ]
  },
  {
   "cell_type": "code",
   "execution_count": 7,
   "id": "c357903a-6094-48bf-840d-f60acee7bda5",
   "metadata": {},
   "outputs": [],
   "source": [
    "Y_GAM_R_bam = {}\n",
    "\n",
    "GroupA_R = pyreadr.read_r(home + '\\\\Other_data\\\\Results R\\\\GroupA_GAM_R_bam.rda')\n",
    "y_GAM_R_A = pd.DataFrame(list(GroupA_R.values())[0])\n",
    "Y_GAM_R_bam[\"A\"] = np.array(y_GAM_R_A).flatten()\n",
    "\n",
    "GroupB_R = pyreadr.read_r(home + '\\\\Other_data\\\\Results R\\\\GroupB_GAM_R_bam.rda')\n",
    "y_GAM_R_B = pd.DataFrame(list(GroupB_R.values())[0])\n",
    "Y_GAM_R_bam[\"B\"] = np.array(y_GAM_R_B).flatten()\n",
    "\n",
    "GroupC_R = pyreadr.read_r(home + '\\\\Other_data\\\\Results R\\\\GroupC_GAM_R_bam.rda')\n",
    "y_GAM_R_C = pd.DataFrame(list(GroupC_R.values())[0])\n",
    "Y_GAM_R_bam[\"C\"] = np.array(y_GAM_R_C).flatten()\n",
    "\n",
    "GroupD_R = pyreadr.read_r(home + '\\\\Other_data\\\\Results R\\\\GroupD_GAM_R_bam.rda')\n",
    "y_GAM_R_D = pd.DataFrame(list(GroupD_R.values())[0])\n",
    "Y_GAM_R_bam[\"D\"] = np.array(y_GAM_R_D).flatten()\n",
    "\n",
    "GroupE_R = pyreadr.read_r(home + '\\\\Other_data\\\\Results R\\\\GroupE_GAM_R_bam.rda')\n",
    "y_GAM_R_E = pd.DataFrame(list(GroupE_R.values())[0])\n",
    "Y_GAM_R_bam[\"E\"] = np.array(y_GAM_R_E).flatten()\n",
    "\n",
    "GroupF_R = pyreadr.read_r(home + '\\\\Other_data\\\\Results R\\\\GroupF_GAM_R_bam.rda')\n",
    "y_GAM_R_F = pd.DataFrame(list(GroupF_R.values())[0])\n",
    "Y_GAM_R_bam[\"F\"] = np.array(y_GAM_R_F).flatten()\n",
    "\n",
    "GroupG_R = pyreadr.read_r(home + '\\\\Other_data\\\\Results R\\\\GroupG_GAM_R_bam.rda')\n",
    "y_GAM_R_G = pd.DataFrame(list(GroupG_R.values())[0])\n",
    "Y_GAM_R_bam[\"G\"] = np.array(y_GAM_R_G).flatten()\n",
    "\n",
    "GroupH_R = pyreadr.read_r(home + '\\\\Other_data\\\\Results R\\\\GroupH_GAM_R_bam.rda')\n",
    "y_GAM_R_H = pd.DataFrame(list(GroupH_R.values())[0])\n",
    "Y_GAM_R_bam[\"H\"] = np.array(y_GAM_R_H).flatten()\n",
    "\n",
    "GroupJ_R = pyreadr.read_r(home + '\\\\Other_data\\\\Results R\\\\GroupJ_GAM_R_bam.rda')\n",
    "y_GAM_R_J = pd.DataFrame(list(GroupJ_R.values())[0])\n",
    "Y_GAM_R_bam[\"J\"] = np.array(y_GAM_R_J).flatten()\n",
    "\n",
    "GroupH_R = pyreadr.read_r(home + '\\\\Other_data\\\\Results R\\\\GroupH_GAM_R_bam.rda')\n",
    "y_GAM_R_H = pd.DataFrame(list(GroupH_R.values())[0])\n",
    "Y_GAM_R_bam[\"H\"] = np.array(y_GAM_R_H).flatten()\n",
    "\n",
    "GroupJ_R = pyreadr.read_r(home + '\\\\Other_data\\\\Results R\\\\GroupJ_GAM_R_bam.rda')\n",
    "y_GAM_R_J = pd.DataFrame(list(GroupJ_R.values())[0])\n",
    "Y_GAM_R_bam[\"J\"] = np.array(y_GAM_R_J).flatten()\n",
    "\n",
    "GroupK_R = pyreadr.read_r(home + '\\\\Other_data\\\\Results R\\\\GroupK_GAM_R_bam.rda')\n",
    "y_GAM_R_K = pd.DataFrame(list(GroupK_R.values())[0])\n",
    "Y_GAM_R_bam[\"K\"] = np.array(y_GAM_R_K).flatten()\n",
    "\n",
    "GroupL_R = pyreadr.read_r(home + '\\\\Other_data\\\\Results R\\\\GroupL_GAM_R_bam.rda')\n",
    "y_GAM_R_L = pd.DataFrame(list(GroupL_R.values())[0])\n",
    "Y_GAM_R_bam[\"L\"] = np.array(y_GAM_R_L).flatten()\n",
    "\n",
    "GroupM_R = pyreadr.read_r(home + '\\\\Other_data\\\\Results R\\\\GroupM_GAM_R_bam.rda')\n",
    "y_GAM_R_M = pd.DataFrame(list(GroupM_R.values())[0])\n",
    "Y_GAM_R_bam[\"M\"] = np.array(y_GAM_R_M).flatten()\n",
    "\n",
    "GroupN_R = pyreadr.read_r(home + '\\\\Other_data\\\\Results R\\\\GroupN_GAM_R_bam.rda')\n",
    "y_GAM_R_N = pd.DataFrame(list(GroupN_R.values())[0])\n",
    "Y_GAM_R_bam[\"N\"] = np.array(y_GAM_R_N).flatten()\n",
    "\n",
    "GroupP_R = pyreadr.read_r(home + '\\\\Other_data\\\\Results R\\\\GroupP_GAM_R_bam.rda')\n",
    "y_GAM_R_P = pd.DataFrame(list(GroupP_R.values())[0])\n",
    "Y_GAM_R_bam[\"P\"] = np.array(y_GAM_R_P).flatten()"
   ]
  },
  {
   "cell_type": "code",
   "execution_count": 8,
   "id": "56df4287-a766-4ce4-b02d-db3f66efefe1",
   "metadata": {},
   "outputs": [
    {
     "name": "stdout",
     "output_type": "stream",
     "text": [
      "\n",
      "Results from R (Offline GAM)\n",
      "\n",
      "nRMSE GAM on 2019 test set:  0.3554482982247092\n",
      "nRMSE GAM on 2020 test set:  0.48519379380764477\n",
      "nRMSE GAM on 2021 test set:  0.6351325513177465\n",
      "\n",
      "nMAE GAM on 2019 test set:  0.32637142975291267\n",
      "nMAE GAM on 2020 test set:  0.4524598866590619\n",
      "nMAE GAM on 2021 test set:  0.6011450814429554\n"
     ]
    }
   ],
   "source": [
    "idx_2020 = 17516\n",
    "idx_2021 = 35104\n",
    "\n",
    "yhat_GAM_mat_R_bam = np.zeros((len(test_set['A']),len(regions)))\n",
    "\n",
    "for i, reg in enumerate(regions):\n",
    "    yhat_GAM_mat_R_bam[:,i] = Y_GAM_R_bam[reg]\n",
    "\n",
    "print(\"\\nResults from R (Offline GAM)\")\n",
    "\n",
    "print(\"\\nnRMSE GAM on 2019 test set: \", nRMSE(y_mat[:idx_2020], yhat_GAM_mat_R_bam[:idx_2020]))\n",
    "print(\"nRMSE GAM on 2020 test set: \", nRMSE(y_mat[idx_2020:idx_2021], yhat_GAM_mat_R_bam[idx_2020:idx_2021]))\n",
    "print(\"nRMSE GAM on 2021 test set: \", nRMSE(y_mat[idx_2021:], yhat_GAM_mat_R_bam[idx_2021:]))\n",
    "\n",
    "print(\"\\nnMAE GAM on 2019 test set: \", nMAE(y_mat[:idx_2020], yhat_GAM_mat_R_bam[:idx_2020]))\n",
    "print(\"nMAE GAM on 2020 test set: \", nMAE(y_mat[idx_2020:idx_2021], yhat_GAM_mat_R_bam[idx_2020:idx_2021]))\n",
    "print(\"nMAE GAM on 2021 test set: \", nMAE(y_mat[idx_2021:], yhat_GAM_mat_R_bam[idx_2021:]))\n"
   ]
  },
  {
   "cell_type": "markdown",
   "id": "60f503ca-29e5-4ab6-87eb-fafd958cb1ec",
   "metadata": {},
   "source": [
    "# GAM with yearly data update"
   ]
  },
  {
   "cell_type": "code",
   "execution_count": 9,
   "id": "03c09237-1b3a-434d-853d-abee9afac535",
   "metadata": {},
   "outputs": [],
   "source": [
    "Y_bam_upd_R = {}\n",
    "\n",
    "GroupA_R = pyreadr.read_r(home + '\\\\Other_data\\\\Results R\\\\GroupA_bam_yearly_updated.rda')\n",
    "Y_bam_upd_R_A = pd.DataFrame(list(GroupA_R.values())[0])\n",
    "Y_bam_upd_R[\"A\"] = np.array(Y_bam_upd_R_A).flatten()\n",
    "\n",
    "GroupB_R = pyreadr.read_r(home + '\\\\Other_data\\\\Results R\\\\GroupB_bam_yearly_updated.rda')\n",
    "Y_bam_upd_R_B = pd.DataFrame(list(GroupB_R.values())[0])\n",
    "Y_bam_upd_R[\"B\"] = np.array(Y_bam_upd_R_B).flatten()\n",
    "\n",
    "GroupC_R = pyreadr.read_r(home + '\\\\Other_data\\\\Results R\\\\GroupC_bam_yearly_updated.rda')\n",
    "Y_bam_upd_R_C = pd.DataFrame(list(GroupC_R.values())[0])\n",
    "Y_bam_upd_R[\"C\"] = np.array(Y_bam_upd_R_C).flatten()\n",
    "\n",
    "GroupD_R = pyreadr.read_r(home + '\\\\Other_data\\\\Results R\\\\GroupD_bam_yearly_updated.rda')\n",
    "Y_bam_upd_R_D = pd.DataFrame(list(GroupD_R.values())[0])\n",
    "Y_bam_upd_R[\"D\"] = np.array(Y_bam_upd_R_D).flatten()\n",
    "\n",
    "GroupE_R = pyreadr.read_r(home + '\\\\Other_data\\\\Results R\\\\GroupE_bam_yearly_updated.rda')\n",
    "Y_bam_upd_R_E = pd.DataFrame(list(GroupE_R.values())[0])\n",
    "Y_bam_upd_R[\"E\"] = np.array(Y_bam_upd_R_E).flatten()\n",
    "\n",
    "GroupF_R = pyreadr.read_r(home + '\\\\Other_data\\\\Results R\\\\GroupF_bam_yearly_updated.rda')\n",
    "Y_bam_upd_R_F = pd.DataFrame(list(GroupF_R.values())[0])\n",
    "Y_bam_upd_R[\"F\"] = np.array(Y_bam_upd_R_F).flatten()\n",
    "\n",
    "GroupG_R = pyreadr.read_r(home + '\\\\Other_data\\\\Results R\\\\GroupG_bam_yearly_updated.rda')\n",
    "Y_bam_upd_R_G = pd.DataFrame(list(GroupG_R.values())[0])\n",
    "Y_bam_upd_R[\"G\"] = np.array(Y_bam_upd_R_G).flatten()\n",
    "\n",
    "GroupH_R = pyreadr.read_r(home + '\\\\Other_data\\\\Results R\\\\GroupH_bam_yearly_updated.rda')\n",
    "Y_bam_upd_R_H = pd.DataFrame(list(GroupH_R.values())[0])\n",
    "Y_bam_upd_R[\"H\"] = np.array(Y_bam_upd_R_H).flatten()\n",
    "\n",
    "GroupJ_R = pyreadr.read_r(home + '\\\\Other_data\\\\Results R\\\\GroupJ_bam_yearly_updated.rda')\n",
    "Y_bam_upd_R_J = pd.DataFrame(list(GroupJ_R.values())[0])\n",
    "Y_bam_upd_R[\"J\"] = np.array(Y_bam_upd_R_J).flatten()\n",
    "\n",
    "GroupH_R = pyreadr.read_r(home + '\\\\Other_data\\\\Results R\\\\GroupH_bam_yearly_updated.rda')\n",
    "Y_bam_upd_R_H = pd.DataFrame(list(GroupH_R.values())[0])\n",
    "Y_bam_upd_R[\"H\"] = np.array(Y_bam_upd_R_H).flatten()\n",
    "\n",
    "GroupJ_R = pyreadr.read_r(home + '\\\\Other_data\\\\Results R\\\\GroupJ_bam_yearly_updated.rda')\n",
    "Y_bam_upd_R_J = pd.DataFrame(list(GroupJ_R.values())[0])\n",
    "Y_bam_upd_R[\"J\"] = np.array(Y_bam_upd_R_J).flatten()\n",
    "\n",
    "GroupK_R = pyreadr.read_r(home + '\\\\Other_data\\\\Results R\\\\GroupK_bam_yearly_updated.rda')\n",
    "Y_bam_upd_R_K = pd.DataFrame(list(GroupK_R.values())[0])\n",
    "Y_bam_upd_R[\"K\"] = np.array(Y_bam_upd_R_K).flatten()\n",
    "\n",
    "GroupL_R = pyreadr.read_r(home + '\\\\Other_data\\\\Results R\\\\GroupL_bam_yearly_updated.rda')\n",
    "Y_bam_upd_R_L = pd.DataFrame(list(GroupL_R.values())[0])\n",
    "Y_bam_upd_R[\"L\"] = np.array(Y_bam_upd_R_L).flatten()\n",
    "\n",
    "GroupM_R = pyreadr.read_r(home + '\\\\Other_data\\\\Results R\\\\GroupM_bam_yearly_updated.rda')\n",
    "Y_bam_upd_R_M = pd.DataFrame(list(GroupM_R.values())[0])\n",
    "Y_bam_upd_R[\"M\"] = np.array(Y_bam_upd_R_M).flatten()\n",
    "\n",
    "GroupN_R = pyreadr.read_r(home + '\\\\Other_data\\\\Results R\\\\GroupN_bam_yearly_updated.rda')\n",
    "Y_bam_upd_R_N = pd.DataFrame(list(GroupN_R.values())[0])\n",
    "Y_bam_upd_R[\"N\"] = np.array(Y_bam_upd_R_N).flatten()\n",
    "\n",
    "GroupP_R = pyreadr.read_r(home + '\\\\Other_data\\\\Results R\\\\GroupP_bam_yearly_updated.rda')\n",
    "Y_bam_upd_R_P = pd.DataFrame(list(GroupP_R.values())[0])\n",
    "Y_bam_upd_R[\"P\"] = np.array(Y_bam_upd_R_P).flatten()"
   ]
  },
  {
   "cell_type": "code",
   "execution_count": 10,
   "id": "5b7c640f-1d52-4c90-bbee-50a49bb0e5dd",
   "metadata": {},
   "outputs": [
    {
     "name": "stdout",
     "output_type": "stream",
     "text": [
      "\n",
      "Results from R (GAM with yearly update)\n",
      "\n",
      "nRMSE GAM on 2019 test set:  0.3554482982247092\n",
      "nRMSE GAM on 2020 test set:  0.4068986898024555\n",
      "nRMSE GAM on 2021 test set:  0.38727066486845235\n",
      "\n",
      "nMAE GAM on 2019 test set:  0.32637142975291267\n",
      "nMAE GAM on 2020 test set:  0.37582938984397096\n",
      "nMAE GAM on 2021 test set:  0.3777251247822882\n"
     ]
    }
   ],
   "source": [
    "idx_2020 = 17516\n",
    "idx_2021 = 35104\n",
    "\n",
    "yhat_bam_upd_mat_R = np.zeros((len(test_set['A']),len(regions)))\n",
    "\n",
    "for i, reg in enumerate(regions):\n",
    "    yhat_bam_upd_mat_R[:,i] = Y_bam_upd_R[reg]\n",
    "\n",
    "print(\"\\nResults from R (GAM with yearly update)\")\n",
    "\n",
    "print(\"\\nnRMSE GAM on 2019 test set: \", nRMSE(y_mat[:idx_2020], yhat_bam_upd_mat_R[:idx_2020]))\n",
    "print(\"nRMSE GAM on 2020 test set: \", nRMSE(y_mat[idx_2020:idx_2021], yhat_bam_upd_mat_R[idx_2020:idx_2021]))\n",
    "print(\"nRMSE GAM on 2021 test set: \", nRMSE(y_mat[idx_2021:], yhat_bam_upd_mat_R[idx_2021:]))\n",
    "\n",
    "print(\"\\nnMAE GAM on 2019 test set: \", nMAE(y_mat[:idx_2020], yhat_bam_upd_mat_R[:idx_2020]))\n",
    "print(\"nMAE GAM on 2020 test set: \", nMAE(y_mat[idx_2020:idx_2021], yhat_bam_upd_mat_R[idx_2020:idx_2021]))\n",
    "print(\"nMAE GAM on 2021 test set: \", nMAE(y_mat[idx_2021:], yhat_bam_upd_mat_R[idx_2021:]))\n"
   ]
  },
  {
   "cell_type": "markdown",
   "id": "ca20709c-2c56-411f-af96-74dca308fba4",
   "metadata": {},
   "source": [
    "# Static Kalman Filter trained in R (with the obtained offline GAM model)"
   ]
  },
  {
   "cell_type": "markdown",
   "id": "a9d15020-6b3a-4455-870a-a8a84ef784f1",
   "metadata": {},
   "source": [
    "### 48h delay considered due to data availability"
   ]
  },
  {
   "cell_type": "code",
   "execution_count": 20,
   "id": "0863d5aa-2675-4eb8-8c89-9509b76a0141",
   "metadata": {},
   "outputs": [],
   "source": [
    "Y_KF_static_delay_R = {}\n",
    "\n",
    "GroupA_R = pyreadr.read_r(home + '\\\\Other_data\\\\KF R\\\\GroupA_KF_static_delay.Rda')\n",
    "Y_7d_R_A = pd.DataFrame(list(GroupA_R.values())[0])\n",
    "Y_KF_static_delay_R[\"A\"] = np.array(Y_7d_R_A).flatten()\n",
    "\n",
    "GroupB_R = pyreadr.read_r(home + '\\\\Other_data\\\\KF R\\\\GroupB_KF_static_delay.Rda')\n",
    "Y_7d_R_B = pd.DataFrame(list(GroupB_R.values())[0])\n",
    "Y_KF_static_delay_R[\"B\"] = np.array(Y_7d_R_B).flatten()\n",
    "\n",
    "GroupC_R = pyreadr.read_r(home + '\\\\Other_data\\\\KF R\\\\GroupC_KF_static_delay.Rda')\n",
    "Y_7d_R_C = pd.DataFrame(list(GroupC_R.values())[0])\n",
    "Y_KF_static_delay_R[\"C\"] = np.array(Y_7d_R_C).flatten()\n",
    "\n",
    "GroupD_R = pyreadr.read_r(home + '\\\\Other_data\\\\KF R\\\\GroupD_KF_static_delay.Rda')\n",
    "Y_7d_R_D = pd.DataFrame(list(GroupD_R.values())[0])\n",
    "Y_KF_static_delay_R[\"D\"] = np.array(Y_7d_R_D).flatten()\n",
    "\n",
    "GroupE_R = pyreadr.read_r(home + '\\\\Other_data\\\\KF R\\\\GroupE_KF_static_delay.Rda')\n",
    "Y_7d_R_E = pd.DataFrame(list(GroupE_R.values())[0])\n",
    "Y_KF_static_delay_R[\"E\"] = np.array(Y_7d_R_E).flatten()\n",
    "\n",
    "GroupF_R = pyreadr.read_r(home + '\\\\Other_data\\\\KF R\\\\GroupF_KF_static_delay.Rda')\n",
    "Y_7d_R_F = pd.DataFrame(list(GroupF_R.values())[0])\n",
    "Y_KF_static_delay_R[\"F\"] = np.array(Y_7d_R_F).flatten()\n",
    "\n",
    "GroupG_R = pyreadr.read_r(home + '\\\\Other_data\\\\KF R\\\\GroupG_KF_static_delay.Rda')\n",
    "Y_7d_R_G = pd.DataFrame(list(GroupG_R.values())[0])\n",
    "Y_KF_static_delay_R[\"G\"] = np.array(Y_7d_R_G).flatten()\n",
    "\n",
    "GroupH_R = pyreadr.read_r(home + '\\\\Other_data\\\\KF R\\\\GroupH_KF_static_delay.Rda')\n",
    "Y_7d_R_H = pd.DataFrame(list(GroupH_R.values())[0])\n",
    "Y_KF_static_delay_R[\"H\"] = np.array(Y_7d_R_H).flatten()\n",
    "\n",
    "GroupJ_R = pyreadr.read_r(home + '\\\\Other_data\\\\KF R\\\\GroupJ_KF_static_delay.Rda')\n",
    "Y_7d_R_J = pd.DataFrame(list(GroupJ_R.values())[0])\n",
    "Y_KF_static_delay_R[\"J\"] = np.array(Y_7d_R_J).flatten()\n",
    "\n",
    "GroupH_R = pyreadr.read_r(home + '\\\\Other_data\\\\KF R\\\\GroupH_KF_static_delay.Rda')\n",
    "Y_7d_R_H = pd.DataFrame(list(GroupH_R.values())[0])\n",
    "Y_KF_static_delay_R[\"H\"] = np.array(Y_7d_R_H).flatten()\n",
    "\n",
    "GroupJ_R = pyreadr.read_r(home + '\\\\Other_data\\\\KF R\\\\GroupJ_KF_static_delay.Rda')\n",
    "Y_7d_R_J = pd.DataFrame(list(GroupJ_R.values())[0])\n",
    "Y_KF_static_delay_R[\"J\"] = np.array(Y_7d_R_J).flatten()\n",
    "\n",
    "GroupK_R = pyreadr.read_r(home + '\\\\Other_data\\\\KF R\\\\GroupK_KF_static_delay.Rda')\n",
    "Y_7d_R_K = pd.DataFrame(list(GroupK_R.values())[0])\n",
    "Y_KF_static_delay_R[\"K\"] = np.array(Y_7d_R_K).flatten()\n",
    "\n",
    "GroupL_R = pyreadr.read_r(home + '\\\\Other_data\\\\KF R\\\\GroupL_KF_static_delay.Rda')\n",
    "Y_7d_R_L = pd.DataFrame(list(GroupL_R.values())[0])\n",
    "Y_KF_static_delay_R[\"L\"] = np.array(Y_7d_R_L).flatten()\n",
    "\n",
    "GroupM_R = pyreadr.read_r(home + '\\\\Other_data\\\\KF R\\\\GroupM_KF_static_delay.Rda')\n",
    "Y_7d_R_M = pd.DataFrame(list(GroupM_R.values())[0])\n",
    "Y_KF_static_delay_R[\"M\"] = np.array(Y_7d_R_M).flatten()\n",
    "\n",
    "GroupN_R = pyreadr.read_r(home + '\\\\Other_data\\\\KF R\\\\GroupN_KF_static_delay.Rda')\n",
    "Y_7d_R_N = pd.DataFrame(list(GroupN_R.values())[0])\n",
    "Y_KF_static_delay_R[\"N\"] = np.array(Y_7d_R_N).flatten()\n",
    "\n",
    "GroupP_R = pyreadr.read_r(home + '\\\\Other_data\\\\KF R\\\\GroupP_KF_static_delay.Rda')\n",
    "Y_7d_R_P = pd.DataFrame(list(GroupP_R.values())[0])\n",
    "Y_KF_static_delay_R[\"P\"] = np.array(Y_7d_R_P).flatten()"
   ]
  },
  {
   "cell_type": "code",
   "execution_count": 21,
   "id": "bb3e9d8f-09a1-43ae-ad39-31d495a8bfab",
   "metadata": {},
   "outputs": [
    {
     "name": "stdout",
     "output_type": "stream",
     "text": [
      "\n",
      "Results from R - Static KF\n",
      "\n",
      "nRMSE Static KF with 48h delay on 2019 test set:  0.338203943863475\n",
      "nRMSE Static KF with 48h delay on 2020 test set:  0.3755293802401946\n",
      "nRMSE Static KF with 48h delay on 2021 test set:  0.3822969574009974\n",
      "\n",
      "nMAE Static KF with 48h delay on 2019 test set:  0.3078849363929946\n",
      "nMAE Static KF with 48h delay on 2020 test set:  0.3491162527377908\n",
      "nMAE Static KF with 48h delay on 2021 test set:  0.3705900767346633\n"
     ]
    }
   ],
   "source": [
    "idx_2020 = 17516\n",
    "idx_2021 = 35104\n",
    "\n",
    "yhat_KF_static_delay_mat_R = np.zeros((len(test_set['A']),len(regions)))\n",
    "\n",
    "for i, reg in enumerate(regions):\n",
    "    yhat_KF_static_delay_mat_R[:,i] = Y_KF_static_delay_R[reg]\n",
    "    \n",
    "print(\"\\nResults from R - Static KF\")\n",
    "\n",
    "print(\"\\nnRMSE Static KF with 48h delay on 2019 test set: \", nRMSE(y_mat[:idx_2020], yhat_KF_static_delay_mat_R[:idx_2020]))\n",
    "print(\"nRMSE Static KF with 48h delay on 2020 test set: \", nRMSE(y_mat[idx_2020:idx_2021], yhat_KF_static_delay_mat_R[idx_2020:idx_2021]))\n",
    "print(\"nRMSE Static KF with 48h delay on 2021 test set: \", nRMSE(y_mat[idx_2021:], yhat_KF_static_delay_mat_R[idx_2021:]))\n",
    "\n",
    "print(\"\\nnMAE Static KF with 48h delay on 2019 test set: \", nMAE(y_mat[:idx_2020], yhat_KF_static_delay_mat_R[:idx_2020]))\n",
    "print(\"nMAE Static KF with 48h delay on 2020 test set: \", nMAE(y_mat[idx_2020:idx_2021], yhat_KF_static_delay_mat_R[idx_2020:idx_2021]))\n",
    "print(\"nMAE Static KF with 48h delay on 2021 test set: \", nMAE(y_mat[idx_2021:], yhat_KF_static_delay_mat_R[idx_2021:]))\n"
   ]
  },
  {
   "cell_type": "markdown",
   "id": "7fd8d21e-1a1e-4799-8350-c8f783e26f77",
   "metadata": {},
   "source": [
    "# Dynamic Kalman Filter trained in R (with the obtained offline GAM model)"
   ]
  },
  {
   "cell_type": "markdown",
   "id": "d5c7046c-d759-4576-9e8a-b069c8eab8a8",
   "metadata": {},
   "source": [
    "### 48h delay considered due to data availability\n",
    "\n",
    "Variances of the Kalman Filter are obtained by maximizing the likelihood on the train set.\n",
    "\n",
    "The matrices obtained with viking in R produce results far from the ones of the paper."
   ]
  },
  {
   "cell_type": "code",
   "execution_count": 28,
   "id": "e16b3977-b820-4111-8533-4aa54d6bed5d",
   "metadata": {},
   "outputs": [],
   "source": [
    "Y_KF_dynamic_delay_R = {}\n",
    "\n",
    "GroupA_R = pyreadr.read_r(home + '\\\\Other_data\\\\KF R\\\\GroupA_KF_dynamic_delay.Rda')\n",
    "Y_7d_R_A = pd.DataFrame(list(GroupA_R.values())[0])\n",
    "Y_KF_dynamic_delay_R[\"A\"] = np.array(Y_7d_R_A).flatten()\n",
    "\n",
    "GroupB_R = pyreadr.read_r(home + '\\\\Other_data\\\\KF R\\\\GroupB_KF_dynamic_delay.Rda')\n",
    "Y_7d_R_B = pd.DataFrame(list(GroupB_R.values())[0])\n",
    "Y_KF_dynamic_delay_R[\"B\"] = np.array(Y_7d_R_B).flatten()\n",
    "\n",
    "GroupC_R = pyreadr.read_r(home + '\\\\Other_data\\\\KF R\\\\GroupC_KF_dynamic_delay.Rda')\n",
    "Y_7d_R_C = pd.DataFrame(list(GroupC_R.values())[0])\n",
    "Y_KF_dynamic_delay_R[\"C\"] = np.array(Y_7d_R_C).flatten()\n",
    "\n",
    "GroupD_R = pyreadr.read_r(home + '\\\\Other_data\\\\KF R\\\\GroupD_KF_dynamic_delay.Rda')\n",
    "Y_7d_R_D = pd.DataFrame(list(GroupD_R.values())[0])\n",
    "Y_KF_dynamic_delay_R[\"D\"] = np.array(Y_7d_R_D).flatten()\n",
    "\n",
    "GroupE_R = pyreadr.read_r(home + '\\\\Other_data\\\\KF R\\\\GroupE_KF_dynamic_delay.Rda')\n",
    "Y_7d_R_E = pd.DataFrame(list(GroupE_R.values())[0])\n",
    "Y_KF_dynamic_delay_R[\"E\"] = np.array(Y_7d_R_E).flatten()\n",
    "\n",
    "GroupF_R = pyreadr.read_r(home + '\\\\Other_data\\\\KF R\\\\GroupF_KF_dynamic_delay.Rda')\n",
    "Y_7d_R_F = pd.DataFrame(list(GroupF_R.values())[0])\n",
    "Y_KF_dynamic_delay_R[\"F\"] = np.array(Y_7d_R_F).flatten()\n",
    "\n",
    "GroupG_R = pyreadr.read_r(home + '\\\\Other_data\\\\KF R\\\\GroupG_KF_dynamic_delay.Rda')\n",
    "Y_7d_R_G = pd.DataFrame(list(GroupG_R.values())[0])\n",
    "Y_KF_dynamic_delay_R[\"G\"] = np.array(Y_7d_R_G).flatten()\n",
    "\n",
    "GroupH_R = pyreadr.read_r(home + '\\\\Other_data\\\\KF R\\\\GroupH_KF_dynamic_delay.Rda')\n",
    "Y_7d_R_H = pd.DataFrame(list(GroupH_R.values())[0])\n",
    "Y_KF_dynamic_delay_R[\"H\"] = np.array(Y_7d_R_H).flatten()\n",
    "\n",
    "GroupJ_R = pyreadr.read_r(home + '\\\\Other_data\\\\KF R\\\\GroupJ_KF_dynamic_delay.Rda')\n",
    "Y_7d_R_J = pd.DataFrame(list(GroupJ_R.values())[0])\n",
    "Y_KF_dynamic_delay_R[\"J\"] = np.array(Y_7d_R_J).flatten()\n",
    "\n",
    "GroupH_R = pyreadr.read_r(home + '\\\\Other_data\\\\KF R\\\\GroupH_KF_dynamic_delay.Rda')\n",
    "Y_7d_R_H = pd.DataFrame(list(GroupH_R.values())[0])\n",
    "Y_KF_dynamic_delay_R[\"H\"] = np.array(Y_7d_R_H).flatten()\n",
    "\n",
    "GroupJ_R = pyreadr.read_r(home + '\\\\Other_data\\\\KF R\\\\GroupJ_KF_dynamic_delay.Rda')\n",
    "Y_7d_R_J = pd.DataFrame(list(GroupJ_R.values())[0])\n",
    "Y_KF_dynamic_delay_R[\"J\"] = np.array(Y_7d_R_J).flatten()\n",
    "\n",
    "GroupK_R = pyreadr.read_r(home + '\\\\Other_data\\\\KF R\\\\GroupK_KF_dynamic_delay.Rda')\n",
    "Y_7d_R_K = pd.DataFrame(list(GroupK_R.values())[0])\n",
    "Y_KF_dynamic_delay_R[\"K\"] = np.array(Y_7d_R_K).flatten()\n",
    "\n",
    "GroupL_R = pyreadr.read_r(home + '\\\\Other_data\\\\KF R\\\\GroupL_KF_dynamic_delay.Rda')\n",
    "Y_7d_R_L = pd.DataFrame(list(GroupL_R.values())[0])\n",
    "Y_KF_dynamic_delay_R[\"L\"] = np.array(Y_7d_R_L).flatten()\n",
    "\n",
    "GroupM_R = pyreadr.read_r(home + '\\\\Other_data\\\\KF R\\\\GroupM_KF_dynamic_delay.Rda')\n",
    "Y_7d_R_M = pd.DataFrame(list(GroupM_R.values())[0])\n",
    "Y_KF_dynamic_delay_R[\"M\"] = np.array(Y_7d_R_M).flatten()\n",
    "\n",
    "GroupN_R = pyreadr.read_r(home + '\\\\Other_data\\\\KF R\\\\GroupN_KF_dynamic_delay.Rda')\n",
    "Y_7d_R_N = pd.DataFrame(list(GroupN_R.values())[0])\n",
    "Y_KF_dynamic_delay_R[\"N\"] = np.array(Y_7d_R_N).flatten()\n",
    "\n",
    "GroupP_R = pyreadr.read_r(home + '\\\\Other_data\\\\KF R\\\\GroupP_KF_dynamic_delay.Rda')\n",
    "Y_7d_R_P = pd.DataFrame(list(GroupP_R.values())[0])\n",
    "Y_KF_dynamic_delay_R[\"P\"] = np.array(Y_7d_R_P).flatten()"
   ]
  },
  {
   "cell_type": "code",
   "execution_count": 29,
   "id": "197a7cb7-b3dc-4a6a-a36f-ca44197e7e79",
   "metadata": {},
   "outputs": [],
   "source": [
    "yhat_KF_dynamic_delay_mat_R = np.zeros((len(test_set['A']),len(regions)))\n",
    "\n",
    "for i, reg in enumerate(regions):\n",
    "    yhat_KF_dynamic_delay_mat_R[:,i] = Y_KF_dynamic_delay_R[reg]"
   ]
  },
  {
   "cell_type": "code",
   "execution_count": 30,
   "id": "c91f9fd9-da9a-47cf-8e81-fc8730d7c054",
   "metadata": {},
   "outputs": [
    {
     "name": "stdout",
     "output_type": "stream",
     "text": [
      "\n",
      "Results from R\n",
      "\n",
      "nRMSE dynamic KF on bam with 48h delay on 2019 test set:  0.329952977787414\n",
      "nRMSE dynamic KF on bam with 48h delay on 2020 test set:  0.3455705472500563\n",
      "nRMSE dynamic KF on bam with 48h delay on 2021 test set:  0.34534577444377396\n",
      "\n",
      "nMAE dynamic KF on bam with 48h delay on 2019 test set:  0.29795220579731285\n",
      "nMAE dynamic KF on bam with 48h delay on 2020 test set:  0.3199031132443549\n",
      "nMAE dynamic KF on bam with 48h delay on 2021 test set:  0.32521421080013396\n"
     ]
    }
   ],
   "source": [
    "idx_2020 = 17516\n",
    "idx_2021 = 35104\n",
    "\n",
    "print(\"\\nResults from R\")\n",
    "\n",
    "print(\"\\nnRMSE dynamic KF on bam with 48h delay on 2019 test set: \", nRMSE(y_mat[:idx_2020], yhat_KF_dynamic_delay_mat_R[:idx_2020]))\n",
    "print(\"nRMSE dynamic KF on bam with 48h delay on 2020 test set: \", nRMSE(y_mat[idx_2020:idx_2021], yhat_KF_dynamic_delay_mat_R[idx_2020:idx_2021]))\n",
    "print(\"nRMSE dynamic KF on bam with 48h delay on 2021 test set: \", nRMSE(y_mat[idx_2021:], yhat_KF_dynamic_delay_mat_R[idx_2021:]))\n",
    "\n",
    "print(\"\\nnMAE dynamic KF on bam with 48h delay on 2019 test set: \", nMAE(y_mat[:idx_2020], yhat_KF_dynamic_delay_mat_R[:idx_2020]))\n",
    "print(\"nMAE dynamic KF on bam with 48h delay on 2020 test set: \", nMAE(y_mat[idx_2020:idx_2021], yhat_KF_dynamic_delay_mat_R[idx_2020:idx_2021]))\n",
    "print(\"nMAE dynamic KF on bam with 48h delay on 2021 test set: \", nMAE(y_mat[idx_2021:], yhat_KF_dynamic_delay_mat_R[idx_2021:]))\n"
   ]
  },
  {
   "cell_type": "code",
   "execution_count": null,
   "id": "ac0bc088-6031-4e3e-aa00-42b249deabf6",
   "metadata": {},
   "outputs": [],
   "source": []
  },
  {
   "cell_type": "markdown",
   "id": "1c237032-8e99-4327-8bba-498d5dadc2f5",
   "metadata": {},
   "source": [
    "Dynamic Kalman Filter results by using variances sigma=0.08 and Q=1e-13*I_(d+1)."
   ]
  },
  {
   "cell_type": "code",
   "execution_count": 37,
   "id": "c0874e32-1477-4818-9860-4ca04b325007",
   "metadata": {},
   "outputs": [],
   "source": [
    "Y_KF_dynamic_delay_R = {}\n",
    "\n",
    "GroupA_R = pyreadr.read_r(home + '\\\\Other_data\\\\KF R\\\\GroupA_KF_dynamic_delay_fxd.Rda')\n",
    "Y_7d_R_A = pd.DataFrame(list(GroupA_R.values())[0])\n",
    "Y_KF_dynamic_delay_R[\"A\"] = np.array(Y_7d_R_A).flatten()\n",
    "\n",
    "GroupB_R = pyreadr.read_r(home + '\\\\Other_data\\\\KF R\\\\GroupB_KF_dynamic_delay_fxd.Rda')\n",
    "Y_7d_R_B = pd.DataFrame(list(GroupB_R.values())[0])\n",
    "Y_KF_dynamic_delay_R[\"B\"] = np.array(Y_7d_R_B).flatten()\n",
    "\n",
    "GroupC_R = pyreadr.read_r(home + '\\\\Other_data\\\\KF R\\\\GroupC_KF_dynamic_delay_fxd.Rda')\n",
    "Y_7d_R_C = pd.DataFrame(list(GroupC_R.values())[0])\n",
    "Y_KF_dynamic_delay_R[\"C\"] = np.array(Y_7d_R_C).flatten()\n",
    "\n",
    "GroupD_R = pyreadr.read_r(home + '\\\\Other_data\\\\KF R\\\\GroupD_KF_dynamic_delay_fxd.Rda')\n",
    "Y_7d_R_D = pd.DataFrame(list(GroupD_R.values())[0])\n",
    "Y_KF_dynamic_delay_R[\"D\"] = np.array(Y_7d_R_D).flatten()\n",
    "\n",
    "GroupE_R = pyreadr.read_r(home + '\\\\Other_data\\\\KF R\\\\GroupE_KF_dynamic_delay_fxd.Rda')\n",
    "Y_7d_R_E = pd.DataFrame(list(GroupE_R.values())[0])\n",
    "Y_KF_dynamic_delay_R[\"E\"] = np.array(Y_7d_R_E).flatten()\n",
    "\n",
    "GroupF_R = pyreadr.read_r(home + '\\\\Other_data\\\\KF R\\\\GroupF_KF_dynamic_delay_fxd.Rda')\n",
    "Y_7d_R_F = pd.DataFrame(list(GroupF_R.values())[0])\n",
    "Y_KF_dynamic_delay_R[\"F\"] = np.array(Y_7d_R_F).flatten()\n",
    "\n",
    "GroupG_R = pyreadr.read_r(home + '\\\\Other_data\\\\KF R\\\\GroupG_KF_dynamic_delay_fxd.Rda')\n",
    "Y_7d_R_G = pd.DataFrame(list(GroupG_R.values())[0])\n",
    "Y_KF_dynamic_delay_R[\"G\"] = np.array(Y_7d_R_G).flatten()\n",
    "\n",
    "GroupH_R = pyreadr.read_r(home + '\\\\Other_data\\\\KF R\\\\GroupH_KF_dynamic_delay_fxd.Rda')\n",
    "Y_7d_R_H = pd.DataFrame(list(GroupH_R.values())[0])\n",
    "Y_KF_dynamic_delay_R[\"H\"] = np.array(Y_7d_R_H).flatten()\n",
    "\n",
    "GroupJ_R = pyreadr.read_r(home + '\\\\Other_data\\\\KF R\\\\GroupJ_KF_dynamic_delay_fxd.Rda')\n",
    "Y_7d_R_J = pd.DataFrame(list(GroupJ_R.values())[0])\n",
    "Y_KF_dynamic_delay_R[\"J\"] = np.array(Y_7d_R_J).flatten()\n",
    "\n",
    "GroupH_R = pyreadr.read_r(home + '\\\\Other_data\\\\KF R\\\\GroupH_KF_dynamic_delay_fxd.Rda')\n",
    "Y_7d_R_H = pd.DataFrame(list(GroupH_R.values())[0])\n",
    "Y_KF_dynamic_delay_R[\"H\"] = np.array(Y_7d_R_H).flatten()\n",
    "\n",
    "GroupJ_R = pyreadr.read_r(home + '\\\\Other_data\\\\KF R\\\\GroupJ_KF_dynamic_delay_fxd.Rda')\n",
    "Y_7d_R_J = pd.DataFrame(list(GroupJ_R.values())[0])\n",
    "Y_KF_dynamic_delay_R[\"J\"] = np.array(Y_7d_R_J).flatten()\n",
    "\n",
    "GroupK_R = pyreadr.read_r(home + '\\\\Other_data\\\\KF R\\\\GroupK_KF_dynamic_delay_fxd.Rda')\n",
    "Y_7d_R_K = pd.DataFrame(list(GroupK_R.values())[0])\n",
    "Y_KF_dynamic_delay_R[\"K\"] = np.array(Y_7d_R_K).flatten()\n",
    "\n",
    "GroupL_R = pyreadr.read_r(home + '\\\\Other_data\\\\KF R\\\\GroupL_KF_dynamic_delay_fxd.Rda')\n",
    "Y_7d_R_L = pd.DataFrame(list(GroupL_R.values())[0])\n",
    "Y_KF_dynamic_delay_R[\"L\"] = np.array(Y_7d_R_L).flatten()\n",
    "\n",
    "GroupM_R = pyreadr.read_r(home + '\\\\Other_data\\\\KF R\\\\GroupM_KF_dynamic_delay_fxd.Rda')\n",
    "Y_7d_R_M = pd.DataFrame(list(GroupM_R.values())[0])\n",
    "Y_KF_dynamic_delay_R[\"M\"] = np.array(Y_7d_R_M).flatten()\n",
    "\n",
    "GroupN_R = pyreadr.read_r(home + '\\\\Other_data\\\\KF R\\\\GroupN_KF_dynamic_delay_fxd.Rda')\n",
    "Y_7d_R_N = pd.DataFrame(list(GroupN_R.values())[0])\n",
    "Y_KF_dynamic_delay_R[\"N\"] = np.array(Y_7d_R_N).flatten()\n",
    "\n",
    "GroupP_R = pyreadr.read_r(home + '\\\\Other_data\\\\KF R\\\\GroupP_KF_dynamic_delay_fxd.Rda')\n",
    "Y_7d_R_P = pd.DataFrame(list(GroupP_R.values())[0])\n",
    "Y_KF_dynamic_delay_R[\"P\"] = np.array(Y_7d_R_P).flatten()"
   ]
  },
  {
   "cell_type": "code",
   "execution_count": 38,
   "id": "18d969ad-422b-47cf-9a92-8d0c1e79d84f",
   "metadata": {},
   "outputs": [],
   "source": [
    "yhat_KF_dynamic_delay_mat_R = np.zeros((len(test_set['A']),len(regions)))\n",
    "\n",
    "for i, reg in enumerate(regions):\n",
    "    yhat_KF_dynamic_delay_mat_R[:,i] = Y_KF_dynamic_delay_R[reg]"
   ]
  },
  {
   "cell_type": "code",
   "execution_count": 39,
   "id": "3b1a9a02-5bfa-424d-84a6-102f123bb9f3",
   "metadata": {},
   "outputs": [
    {
     "name": "stdout",
     "output_type": "stream",
     "text": [
      "\n",
      "Results from R\n",
      "\n",
      "nRMSE dynamic KF on bam with 48h delay on 2019 test set:  0.3297880584496303\n",
      "nRMSE dynamic KF on bam with 48h delay on 2020 test set:  0.3581101792040419\n",
      "nRMSE dynamic KF on bam with 48h delay on 2021 test set:  0.3326826859509367\n",
      "\n",
      "nMAE dynamic KF on bam with 48h delay on 2019 test set:  0.2979100742046042\n",
      "nMAE dynamic KF on bam with 48h delay on 2020 test set:  0.302373242152572\n",
      "nMAE dynamic KF on bam with 48h delay on 2021 test set:  0.30774732384628717\n"
     ]
    }
   ],
   "source": [
    "idx_2020 = 17516\n",
    "idx_2021 = 35104\n",
    "\n",
    "print(\"\\nResults from R\")\n",
    "\n",
    "print(\"\\nnRMSE dynamic KF on bam with 48h delay on 2019 test set: \", nRMSE(y_mat[:idx_2020], yhat_KF_dynamic_delay_mat_R[:idx_2020]))\n",
    "print(\"nRMSE dynamic KF on bam with 48h delay on 2020 test set: \", nRMSE(y_mat[idx_2020:idx_2021], yhat_KF_dynamic_delay_mat_R[idx_2020:idx_2021]))\n",
    "print(\"nRMSE dynamic KF on bam with 48h delay on 2021 test set: \", nRMSE(y_mat[idx_2021:], yhat_KF_dynamic_delay_mat_R[idx_2021:]))\n",
    "\n",
    "print(\"\\nnMAE dynamic KF on bam with 48h delay on 2019 test set: \", nMAE(y_mat[:idx_2020], yhat_KF_dynamic_delay_mat_R[:idx_2020]))\n",
    "print(\"nMAE dynamic KF on bam with 48h delay on 2020 test set: \", nMAE(y_mat[idx_2020:idx_2021], yhat_KF_dynamic_delay_mat_R[idx_2020:idx_2021]))\n",
    "print(\"nMAE dynamic KF on bam with 48h delay on 2021 test set: \", nMAE(y_mat[idx_2021:], yhat_KF_dynamic_delay_mat_R[idx_2021:]))\n"
   ]
  },
  {
   "cell_type": "code",
   "execution_count": null,
   "id": "76d7d302-a649-4d83-bf73-fe5ebfe9db9c",
   "metadata": {},
   "outputs": [],
   "source": []
  },
  {
   "cell_type": "code",
   "execution_count": null,
   "id": "425c210a-7808-408b-8568-d49c178fbb3f",
   "metadata": {},
   "outputs": [],
   "source": []
  },
  {
   "cell_type": "code",
   "execution_count": null,
   "id": "13adebf7-7d8b-4f6b-b8a6-ae562f5a4048",
   "metadata": {},
   "outputs": [],
   "source": []
  },
  {
   "cell_type": "markdown",
   "id": "d6bc742a-8de0-4ccc-baac-28c9bacd577a",
   "metadata": {},
   "source": [
    "# Kalman Filter on all regions in Python\n",
    "\n",
    "The main problem of this approach is that the GAM model in python obtains results which are worse than the ones we rely upon in R"
   ]
  },
  {
   "cell_type": "code",
   "execution_count": 16,
   "id": "4ea886c5-4004-4558-bae4-58e644b8f7e0",
   "metadata": {
    "tags": []
   },
   "outputs": [],
   "source": [
    "features = ['t', 't2', 'doy_s', 'doy_c', 'doy_s2', 'doy_c2', 'node_sm', 'clock_hour', 'dow_RpH', 'School_Hol', \n",
    "           'x2T_weighted.mean_p_max_point', 'x2Tsm_point', 'SSRD_mean_2_Cap', 'WindSpd100_weighted.mean_cell','EMBEDDED_WIND_CAPACITY',\n",
    "           'WindSpd10_weighted.mean_cell', 'TP_weighted.mean_cell', 'y0_336', 'y0_96']\n",
    "features_to_standardize = ['node_sm','clock_hour','x2T_weighted.mean_p_max_point', 'x2Tsm_point', 'SSRD_mean_2_Cap', 'WindSpd100_weighted.mean_cell','EMBEDDED_WIND_CAPACITY',\n",
    "                          'WindSpd10_weighted.mean_cell', 'TP_weighted.mean_cell']\n",
    "\n",
    "\n",
    "def dataset_preprocessing(df, features, features_to_standardize, exog_name):\n",
    "    df_std = standardize_dataframe(df[features_to_standardize])\n",
    "    for f in list(set(features) - set(features_to_standardize+['t2'])):\n",
    "        df_std[f] = df[f]\n",
    "    df_std['t2'] = df_std['t']**2\n",
    "    df_std['dow_RpH'] = 1*(df_std['dow_RpH']=='Lun')+2*(df_std['dow_RpH']=='Mar')+\\\n",
    "                            3*(df_std['dow_RpH']=='Mer')+4*(df_std['dow_RpH']=='Jeu')+\\\n",
    "                            5*(df_std['dow_RpH']=='Ven')+6*(df_std['dow_RpH']=='Sam')+\\\n",
    "                            7*(df_std['dow_RpH']=='Dim')+8*(df_std['dow_RpH']=='Autumn Break')+\\\n",
    "                            9*(df_std['dow_RpH']=='Christmas Holiday')+10*(df_std['dow_RpH']=='Easter Holidays')+\\\n",
    "                            11*(df_std['dow_RpH']=='Summer Break')+12*(df_std['dow_RpH']=='Summer Holiday')+\\\n",
    "                            13*(df_std['dow_RpH']=='February Half Term')\n",
    "    df_std['School_Hol'] = 1*(df_std['School_Hol']=='N')+2*(df_std['School_Hol']=='School Holiday')+\\\n",
    "                            3*(df_std['School_Hol']=='Christmas Holiday')\n",
    "    target = df[exog_name]\n",
    "    return df_std[features], target"
   ]
  },
  {
   "cell_type": "markdown",
   "id": "826f6469-fac2-4e38-9877-9d58834d0da6",
   "metadata": {
    "tags": []
   },
   "source": [
    "# GAM model for all regions\n",
    "Target variable: Net-Load\n"
   ]
  },
  {
   "cell_type": "code",
   "execution_count": 17,
   "id": "1ae34f8e-9cb7-47c1-891d-c58ddf8cb832",
   "metadata": {
    "tags": []
   },
   "outputs": [],
   "source": [
    "from pygam import LinearGAM, s, f, l, te\n",
    "\n",
    "target_variable = 'node'\n",
    "\n",
    "X_train = {}\n",
    "Y_train = {}\n",
    "\n",
    "X_test = {}\n",
    "Y_test = {}\n",
    "\n",
    "for (reg, df) in zip(regions, regions_df):\n",
    "    # Train set\n",
    "    X_train[reg], Y_train[reg] = dataset_preprocessing(train_set[reg], features, features_to_standardize, target_variable)\n",
    "    #Test set\n",
    "    X_test[reg], Y_test[reg] = dataset_preprocessing(test_set[reg], features, features_to_standardize, target_variable)\n",
    "\n",
    "\n",
    "# GAM_model = {}\n",
    "\n",
    "# for reg in regions:\n",
    "#     print(reg)\n",
    "#     # gam_model = LinearGAM(l(0) + l(1) + l(2) + l(3) + l(4) + l(5) + l(6) + s(7,n_splines=35,basis='cp') + f(8) + f(9) + \n",
    "#     #                      te(7,8,n_splines=30,dtype=['numerical','categorical'],basis='cp')+te(7,9,n_splines=20,dtype=['numerical','categorical'],basis='cp')+\n",
    "#     #                      s(10,n_splines=35,basis='cp')+s(11,n_splines=35,basis='cp')+s(12,n_splines=5,basis='cp')+ \n",
    "#     #                      te(13,14,n_splines=20,basis='cp')+l(15)+s(16,n_splines=5,basis='cp')+te(10,7,n_splines=17)+te(16,7,n_splines=17))\n",
    "#     gam_model = LinearGAM(l(0) + l(1) + l(2) + l(3) + l(4) + l(5) + l(6) + s(7,n_splines=35,basis='cp') + f(8) + f(9) + \n",
    "#                          #te(7,8,n_splines=30,dtype=['numerical','categorical'],basis='cp')+te(7,9,n_splines=20,dtype=['numerical','categorical'],basis='cp')+\n",
    "#                       s(7,by=8,n_splines=30,basis=\"cp\") + s(7,by=9,n_splines=20,basis=\"cp\")+    \n",
    "#                       s(10,n_splines=35,basis='cp')+s(11,n_splines=35,basis='cp')+s(12,n_splines=5,basis='cp')+ \n",
    "#                       s(13,n_splines=20,by=14,basis=\"cp\")+l(15)+s(16,n_splines=5,basis='cp')+\n",
    "#                       #te(13,14,n_splines=20,basis='cp')\n",
    "#                       te(10,7,n_splines=17)+te(16,7,n_splines=17))\n",
    "    \n",
    "#     gam_model.fit(np.array(X_train[reg]), np.array(Y_train[reg]))\n",
    "#     GAM_model[reg] = gam_model"
   ]
  },
  {
   "cell_type": "code",
   "execution_count": 18,
   "id": "eae7d243-af18-420a-ad29-5fbf6f18ff91",
   "metadata": {
    "tags": []
   },
   "outputs": [],
   "source": [
    "# with open('Saved_GAM/GAM_models.pkl', 'wb') as f:\n",
    "#     pickle.dump(GAM_model, f)"
   ]
  },
  {
   "cell_type": "code",
   "execution_count": 19,
   "id": "707de0a0-ee94-43a4-a5c2-198540f35b9c",
   "metadata": {
    "tags": []
   },
   "outputs": [],
   "source": [
    "with open('Saved_GAM/GAM_models.pkl', 'rb') as f:\n",
    "    GAM_model = pickle.load(f)"
   ]
  },
  {
   "cell_type": "code",
   "execution_count": 20,
   "id": "6844608e-fdd2-4ca8-87d3-89d502f8b7d4",
   "metadata": {
    "tags": []
   },
   "outputs": [],
   "source": [
    "y_GAM = {}\n",
    "\n",
    "for reg in regions:\n",
    "    y_GAM[reg] = GAM_model[reg].predict(np.array(X_test[reg]))\n",
    "    \n",
    "yhat_GAM_mat = np.zeros((len(test_set['A']),len(regions)))\n",
    "\n",
    "for i,reg in enumerate(regions):\n",
    "    yhat_GAM_mat[:,i] = y_GAM[reg]"
   ]
  },
  {
   "cell_type": "markdown",
   "id": "801e59a3-1bf1-47ec-a810-c4d214fe6a29",
   "metadata": {},
   "source": [
    "### Evaluation of the results of GAM on all regions"
   ]
  },
  {
   "cell_type": "code",
   "execution_count": 21,
   "id": "6b90f325-f938-4c85-ae3c-95735672127b",
   "metadata": {},
   "outputs": [
    {
     "name": "stdout",
     "output_type": "stream",
     "text": [
      "\n",
      "nRMSE GAM on 2019 test set:  0.7415244022214377\n",
      "nRMSE GAM on 2020 test set:  0.7611470092471138\n",
      "nRMSE GAM on 2021 test set:  0.907646160094514\n",
      "\n",
      "nMAE GAM on 2019 test set:  0.6790128202891225\n",
      "nMAE GAM on 2020 test set:  0.7209288635419329\n",
      "nMAE GAM on 2021 test set:  0.8755985051323371\n"
     ]
    }
   ],
   "source": [
    "idx_2020 = 17516\n",
    "idx_2021 = 35104\n",
    "\n",
    "print(\"\\nnRMSE GAM on 2019 test set: \", nRMSE(y_mat[:idx_2020], yhat_GAM_mat[:idx_2020]))\n",
    "print(\"nRMSE GAM on 2020 test set: \", nRMSE(y_mat[idx_2020:idx_2021], yhat_GAM_mat[idx_2020:idx_2021]))\n",
    "print(\"nRMSE GAM on 2021 test set: \", nRMSE(y_mat[idx_2021:], yhat_GAM_mat[idx_2021:]))\n",
    "\n",
    "print(\"\\nnMAE GAM on 2019 test set: \", nMAE(y_mat[:idx_2020], yhat_GAM_mat[:idx_2020]))\n",
    "print(\"nMAE GAM on 2020 test set: \", nMAE(y_mat[idx_2020:idx_2021], yhat_GAM_mat[idx_2020:idx_2021]))\n",
    "print(\"nMAE GAM on 2021 test set: \", nMAE(y_mat[idx_2021:], yhat_GAM_mat[idx_2021:]))"
   ]
  },
  {
   "cell_type": "code",
   "execution_count": null,
   "id": "ac480b3b-4d2c-486d-bc84-76b85dd748d0",
   "metadata": {},
   "outputs": [],
   "source": []
  },
  {
   "cell_type": "markdown",
   "id": "5effd12c-747b-4495-a323-76f49045de99",
   "metadata": {},
   "source": [
    "## Static Kalman Filter on GAM model"
   ]
  },
  {
   "cell_type": "markdown",
   "id": "ac196706-74b6-41e6-a694-cc3b940f3004",
   "metadata": {},
   "source": [
    "### 48 hours ahead prediction"
   ]
  },
  {
   "cell_type": "code",
   "execution_count": 22,
   "id": "96df3efc-0863-4a01-935c-a109fbfb1b83",
   "metadata": {},
   "outputs": [],
   "source": [
    "idx_2020 = 17516\n",
    "idx_2021 = 35104\n",
    "\n",
    "kf_static = {}\n",
    "\n",
    "for reg in regions:\n",
    "    kf = Kalman_Filter(GAM_model[reg])\n",
    "    kf.fit(X_train[reg], Y_train[reg])\n",
    "    kf_static[reg] = kf\n",
    "\n",
    "y_Kalman_static = {}\n",
    "\n",
    "for reg in regions:\n",
    "    # Prediction on test set\n",
    "    df_kf = pd.DataFrame(test_set[reg][['targetTime', 'node']])\n",
    "    y_Kalman_static[reg] = {}\n",
    "    y_Kalman_static[reg]['2019'], _ = kf_static[reg].predict(X_test[reg][:idx_2020], df_kf.iloc[:idx_2020], delay=True) \n",
    "    y_Kalman_static[reg]['2020'], _ = kf_static[reg].predict(X_test[reg][idx_2020:idx_2021], df_kf.iloc[idx_2020:idx_2021], delay=True) \n",
    "    y_Kalman_static[reg]['2021'], _ = kf_static[reg].predict(X_test[reg][idx_2021:], df_kf.iloc[idx_2021:], delay=True) "
   ]
  },
  {
   "cell_type": "markdown",
   "id": "4d5af5d7-4f0a-4bf9-a305-35a1c649dc4f",
   "metadata": {},
   "source": [
    "## Dynamic Kalman Filter on GAM model"
   ]
  },
  {
   "cell_type": "markdown",
   "id": "d8137be3-a60b-42a9-9ea3-c83c1603c347",
   "metadata": {
    "tags": []
   },
   "source": [
    "### 48 hours ahead prediction"
   ]
  },
  {
   "cell_type": "code",
   "execution_count": 23,
   "id": "aa089173-d57c-4702-a473-041a2a18e924",
   "metadata": {
    "tags": []
   },
   "outputs": [],
   "source": [
    "idx_2020 = 17516\n",
    "idx_2021 = 35104\n",
    "\n",
    "kf_dynamic = {}\n",
    "\n",
    "for reg in regions:\n",
    "    with open(f'DynamicKF_matrices_py/Q_{reg}.npy', 'rb') as f:\n",
    "        Q = np.load(f)\n",
    "        sigma = np.load(f)\n",
    "    kf = Kalman_Filter(GAM_model[reg], Q=Q, sigma=sigma)\n",
    "    kf.fit(X_train[reg], Y_train[reg])\n",
    "    kf_dynamic[reg] = kf\n",
    "\n",
    "y_Kalman_dynamic = {}\n",
    "\n",
    "for reg in regions:\n",
    "    # 48h prediction\n",
    "    df_kf = pd.DataFrame(test_set[reg][['targetTime', 'node']])\n",
    "    y_Kalman_dynamic[reg] = {}\n",
    "    y_Kalman_dynamic[reg]['2019'], _ = kf_dynamic[reg].predict(X_test[reg][:idx_2020], df_kf.iloc[:idx_2020], delay=True) \n",
    "    y_Kalman_dynamic[reg]['2020'], _ = kf_dynamic[reg].predict(X_test[reg][idx_2020:idx_2021], df_kf.iloc[idx_2020:idx_2021], delay=True) \n",
    "    y_Kalman_dynamic[reg]['2021'], _ = kf_dynamic[reg].predict(X_test[reg][idx_2021:], df_kf.iloc[idx_2021:], delay=True) "
   ]
  },
  {
   "cell_type": "code",
   "execution_count": 24,
   "id": "5d8ba83a-4b29-4fc6-b481-fb24a5bfa259",
   "metadata": {},
   "outputs": [
    {
     "name": "stdout",
     "output_type": "stream",
     "text": [
      "\n",
      "nRMSE GAM on 2019 test set:  0.7415244022214377\n",
      "nRMSE GAM on 2020 test set:  0.7611470092471138\n",
      "nRMSE GAM on 2021 test set:  0.907646160094514\n",
      "\n",
      "nMAE GAM on 2019 test set:  0.6790128202891225\n",
      "nMAE GAM on 2020 test set:  0.7209288635419329\n",
      "nMAE GAM on 2021 test set:  0.8755985051323371\n",
      "\n",
      "\n",
      "nRMSE Static KF on 2019 test set:  0.4763459187359143\n",
      "nRMSE Static KF on 2020 test set:  0.48765814554013326\n",
      "nRMSE Static KF on 2021 test set:  0.4969960701935302\n",
      "\n",
      "nMAE Static KF on 2019 test set:  0.4328284397771235\n",
      "nMAE Static KF on 2020 test set:  0.4434304642778586\n",
      "nMAE Static KF on 2021 test set:  0.4786110517463343\n",
      "\n",
      "\n",
      "nRMSE Dynamic KF on 2019 test set:  0.47617096318586283\n",
      "nRMSE Dynamic KF on 2020 test set:  0.49081850181607456\n",
      "nRMSE Dynamic KF on 2021 test set:  0.4839336179059813\n",
      "\n",
      "nMAE Dynamic KF on 2019 test set:  0.4295336037016229\n",
      "nMAE Dynamic KF on 2020 test set:  0.43165588353723733\n",
      "nMAE Dynamic KF on 2021 test set:  0.44349769084950086\n"
     ]
    }
   ],
   "source": [
    "idx_2020 = 17516\n",
    "idx_2021 = 35104\n",
    "    \n",
    "yhat_staticKF_mat = np.zeros((len(test_set['A']),len(regions)))\n",
    "yhat_dynamicKF_mat = np.zeros((len(test_set['A']),len(regions)))\n",
    "\n",
    "for i,reg in enumerate(regions):\n",
    "    yhat_staticKF_mat[:idx_2020,i] = y_Kalman_static[reg]['2019']\n",
    "    yhat_staticKF_mat[idx_2020:idx_2021,i] = y_Kalman_static[reg]['2020']\n",
    "    yhat_staticKF_mat[idx_2021:,i] = y_Kalman_static[reg]['2021']\n",
    "    yhat_dynamicKF_mat[:idx_2020,i] = y_Kalman_dynamic[reg]['2019']\n",
    "    yhat_dynamicKF_mat[idx_2020:idx_2021,i] = y_Kalman_dynamic[reg]['2020']\n",
    "    yhat_dynamicKF_mat[idx_2021:,i] = y_Kalman_dynamic[reg]['2021']\n",
    "\n",
    "\n",
    "print(\"\\nnRMSE GAM on 2019 test set: \", nRMSE(y_mat[:idx_2020], yhat_GAM_mat[:idx_2020]))\n",
    "print(\"nRMSE GAM on 2020 test set: \", nRMSE(y_mat[idx_2020:idx_2021], yhat_GAM_mat[idx_2020:idx_2021]))\n",
    "print(\"nRMSE GAM on 2021 test set: \", nRMSE(y_mat[idx_2021:], yhat_GAM_mat[idx_2021:]))\n",
    "\n",
    "print(\"\\nnMAE GAM on 2019 test set: \", nMAE(y_mat[:idx_2020], yhat_GAM_mat[:idx_2020]))\n",
    "print(\"nMAE GAM on 2020 test set: \", nMAE(y_mat[idx_2020:idx_2021], yhat_GAM_mat[idx_2020:idx_2021]))\n",
    "print(\"nMAE GAM on 2021 test set: \", nMAE(y_mat[idx_2021:], yhat_GAM_mat[idx_2021:]))\n",
    "\n",
    "print(\"\\n\\nnRMSE Static KF on 2019 test set: \", nRMSE(y_mat[:idx_2020], yhat_staticKF_mat[:idx_2020]))\n",
    "print(\"nRMSE Static KF on 2020 test set: \", nRMSE(y_mat[idx_2020:idx_2021], yhat_staticKF_mat[idx_2020:idx_2021]))\n",
    "print(\"nRMSE Static KF on 2021 test set: \", nRMSE(y_mat[idx_2021:], yhat_staticKF_mat[idx_2021:]))\n",
    "\n",
    "print(\"\\nnMAE Static KF on 2019 test set: \", nMAE(y_mat[:idx_2020], yhat_staticKF_mat[:idx_2020]))\n",
    "print(\"nMAE Static KF on 2020 test set: \", nMAE(y_mat[idx_2020:idx_2021], yhat_staticKF_mat[idx_2020:idx_2021]))\n",
    "print(\"nMAE Static KF on 2021 test set: \", nMAE(y_mat[idx_2021:], yhat_staticKF_mat[idx_2021:]))\n",
    "\n",
    "print(\"\\n\\nnRMSE Dynamic KF on 2019 test set: \", nRMSE(y_mat[:idx_2020], yhat_dynamicKF_mat[:idx_2020]))\n",
    "print(\"nRMSE Dynamic KF on 2020 test set: \", nRMSE(y_mat[idx_2020:idx_2021], yhat_dynamicKF_mat[idx_2020:idx_2021]))\n",
    "print(\"nRMSE Dynamic KF on 2021 test set: \", nRMSE(y_mat[idx_2021:], yhat_dynamicKF_mat[idx_2021:]))\n",
    "\n",
    "print(\"\\nnMAE Dynamic KF on 2019 test set: \", nMAE(y_mat[:idx_2020], yhat_dynamicKF_mat[:idx_2020]))\n",
    "print(\"nMAE Dynamic KF on 2020 test set: \", nMAE(y_mat[idx_2020:idx_2021], yhat_dynamicKF_mat[idx_2020:idx_2021]))\n",
    "print(\"nMAE Dynamic KF on 2021 test set: \", nMAE(y_mat[idx_2021:], yhat_dynamicKF_mat[idx_2021:]))"
   ]
  },
  {
   "cell_type": "code",
   "execution_count": null,
   "id": "e3b19643-f1cd-4fc6-a97c-b7221cc655c0",
   "metadata": {},
   "outputs": [],
   "source": []
  }
 ],
 "metadata": {
  "kernelspec": {
   "display_name": "Python 3 (ipykernel)",
   "language": "python",
   "name": "python3"
  },
  "language_info": {
   "codemirror_mode": {
    "name": "ipython",
    "version": 3
   },
   "file_extension": ".py",
   "mimetype": "text/x-python",
   "name": "python",
   "nbconvert_exporter": "python",
   "pygments_lexer": "ipython3",
   "version": "3.9.18"
  }
 },
 "nbformat": 4,
 "nbformat_minor": 5
}
