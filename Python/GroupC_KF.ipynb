{
 "cells": [
  {
   "cell_type": "code",
   "execution_count": 29,
   "id": "80bfa55b-32e4-417d-b649-9cebd6a8aa56",
   "metadata": {},
   "outputs": [],
   "source": [
    "import numpy as np\n",
    "import pandas as pd\n",
    "import matplotlib.pyplot as plt\n",
    "import seaborn as sns\n",
    "import statsmodels.api as sm\n",
    "from statsmodels.tsa.stattools import pacf, acf\n",
    "import statsmodels.tsa.api as smt\n",
    "from statsmodels.tsa.stattools import adfuller\n",
    "from scipy.optimize import minimize\n",
    "import cvxopt\n",
    "import pyreadr\n",
    "import os\n",
    "import time\n",
    "from datetime import timedelta\n",
    "from scipy.stats import norm\n",
    "import copy\n",
    "import warnings\n",
    "import utils\n",
    "import regression_fit\n",
    "import pickle\n",
    "from importlib import reload\n",
    "reload(utils)\n",
    "reload(regression_fit)\n",
    "from utils import *\n",
    "from regression_fit import *\n",
    "\n",
    "home = os.getcwd()"
   ]
  },
  {
   "cell_type": "markdown",
   "id": "328305dc-44d9-4736-aab2-efcf3153aee6",
   "metadata": {},
   "source": [
    "## Dataset preprocessing\n",
    "Train set: from 2014 to 2018. Test set: from 2019 to 2021"
   ]
  },
  {
   "cell_type": "code",
   "execution_count": 2,
   "id": "a7757262-6ca4-4027-8583-fc0d7cb80ae3",
   "metadata": {},
   "outputs": [],
   "source": [
    "# Import dataset of group C\n",
    "GroupC = pyreadr.read_r(home + '\\\\Other_data\\\\GroupC.rda')\n",
    "GroupC_df = pd.DataFrame(list(GroupC.values())[0])\n",
    "\n",
    "# Add autoregressive features (columns y0_96, y0_336, diff_96, diff_336)\n",
    "GroupC_df = add_autoregressive_features(GroupC_df)\n",
    "\n",
    "# Split in train and test set \n",
    "# \n",
    "train_set = GroupC_df[720:87440] \n",
    "test_set = GroupC_df[87440:]"
   ]
  },
  {
   "cell_type": "markdown",
   "id": "f0204b39-d786-44c6-8322-3870ae7fb037",
   "metadata": {},
   "source": [
    "### Adding seasonal component to ADF test"
   ]
  },
  {
   "cell_type": "code",
   "execution_count": 3,
   "id": "c9d25760-0e98-4221-89ab-46e35137de1e",
   "metadata": {
    "jupyter": {
     "source_hidden": true
    },
    "tags": []
   },
   "outputs": [],
   "source": [
    "from __future__ import annotations\n",
    "\n",
    "from statsmodels.compat.numpy import lstsq\n",
    "from statsmodels.compat.pandas import deprecate_kwarg\n",
    "from statsmodels.compat.python import Literal, lzip\n",
    "from statsmodels.compat.scipy import _next_regular\n",
    "\n",
    "from typing import Union, List\n",
    "import warnings\n",
    "\n",
    "import numpy as np\n",
    "from numpy.linalg import LinAlgError\n",
    "import pandas as pd\n",
    "from scipy import stats\n",
    "from scipy.interpolate import interp1d\n",
    "from scipy.signal import correlate\n",
    "\n",
    "from statsmodels.regression.linear_model import OLS, yule_walker\n",
    "from statsmodels.tools.sm_exceptions import (\n",
    "    CollinearityWarning,\n",
    "    InfeasibleTestError,\n",
    "    InterpolationWarning,\n",
    "    MissingDataError,\n",
    "    ValueWarning,\n",
    ")\n",
    "from statsmodels.tools.tools import Bunch, add_constant\n",
    "from statsmodels.tools.validation import (\n",
    "    array_like,\n",
    "    bool_like,\n",
    "    dict_like,\n",
    "    float_like,\n",
    "    int_like,\n",
    "    string_like,\n",
    ")\n",
    "from statsmodels.tsa._bds import bds\n",
    "from statsmodels.tsa._innovations import innovations_algo, innovations_filter\n",
    "from statsmodels.tsa.adfvalues import mackinnoncrit, mackinnonp\n",
    "from statsmodels.tsa.tsatools import add_trend, lagmat, lagmat2ds\n",
    "\n",
    "ArrayLike1D = Union[np.ndarray, pd.Series, List[float]]\n",
    "\n",
    "__all__ = [\n",
    "    \"acovf\",\n",
    "    \"acf\",\n",
    "    \"pacf\",\n",
    "    \"pacf_yw\",\n",
    "    \"pacf_ols\",\n",
    "    \"ccovf\",\n",
    "    \"ccf\",\n",
    "    \"q_stat\",\n",
    "    \"coint\",\n",
    "    \"arma_order_select_ic\",\n",
    "    \"adfuller\",\n",
    "    \"kpss\",\n",
    "    \"bds\",\n",
    "    \"pacf_burg\",\n",
    "    \"innovations_algo\",\n",
    "    \"innovations_filter\",\n",
    "    \"levinson_durbin_pacf\",\n",
    "    \"levinson_durbin\",\n",
    "    \"zivot_andrews\",\n",
    "    \"range_unit_root_test\",\n",
    "]\n",
    "\n",
    "SQRTEPS = np.sqrt(np.finfo(np.double).eps)\n",
    "\n",
    "        \n",
    "def _autolag(\n",
    "    mod,\n",
    "    endog,\n",
    "    exog,\n",
    "    startlag,\n",
    "    maxlag,\n",
    "    method,\n",
    "    modargs=(),\n",
    "    fitargs=(),\n",
    "    regresults=False,\n",
    "):\n",
    "    \"\"\"\n",
    "    Returns the results for the lag length that maximizes the info criterion.\n",
    "\n",
    "    Parameters\n",
    "    ----------\n",
    "    mod : Model class\n",
    "        Model estimator class\n",
    "    endog : array_like\n",
    "        nobs array containing endogenous variable\n",
    "    exog : array_like\n",
    "        nobs by (startlag + maxlag) array containing lags and possibly other\n",
    "        variables\n",
    "    startlag : int\n",
    "        The first zero-indexed column to hold a lag.  See Notes.\n",
    "    maxlag : int\n",
    "        The highest lag order for lag length selection.\n",
    "    method : {\"aic\", \"bic\", \"t-stat\"}\n",
    "        aic - Akaike Information Criterion\n",
    "        bic - Bayes Information Criterion\n",
    "        t-stat - Based on last lag\n",
    "    modargs : tuple, optional\n",
    "        args to pass to model.  See notes.\n",
    "    fitargs : tuple, optional\n",
    "        args to pass to fit.  See notes.\n",
    "    regresults : bool, optional\n",
    "        Flag indicating to return optional return results\n",
    "\n",
    "    Returns\n",
    "    -------\n",
    "    icbest : float\n",
    "        Best information criteria.\n",
    "    bestlag : int\n",
    "        The lag length that maximizes the information criterion.\n",
    "    results : dict, optional\n",
    "        Dictionary containing all estimation results\n",
    "\n",
    "    Notes\n",
    "    -----\n",
    "    Does estimation like mod(endog, exog[:,:i], *modargs).fit(*fitargs)\n",
    "    where i goes from lagstart to lagstart+maxlag+1.  Therefore, lags are\n",
    "    assumed to be in contiguous columns from low to high lag length with\n",
    "    the highest lag in the last column.\n",
    "    \"\"\"\n",
    "    # TODO: can tcol be replaced by maxlag + 2?\n",
    "    # TODO: This could be changed to laggedRHS and exog keyword arguments if\n",
    "    #    this will be more general.\n",
    "\n",
    "    results = {}\n",
    "    method = method.lower()\n",
    "    for lag in range(startlag, startlag + maxlag + 1):\n",
    "        mod_instance = mod(endog, exog[:, :lag], *modargs)\n",
    "        results[lag] = mod_instance.fit()\n",
    "\n",
    "    if method == \"aic\":\n",
    "        icbest, bestlag = min((v.aic, k) for k, v in results.items())\n",
    "    elif method == \"bic\":\n",
    "        icbest, bestlag = min((v.bic, k) for k, v in results.items())\n",
    "    elif method == \"t-stat\":\n",
    "        # stop = stats.norm.ppf(.95)\n",
    "        stop = 1.6448536269514722\n",
    "        # Default values to ensure that always set\n",
    "        bestlag = startlag + maxlag\n",
    "        icbest = 0.0\n",
    "        for lag in range(startlag + maxlag, startlag - 1, -1):\n",
    "            icbest = np.abs(results[lag].tvalues[-1])\n",
    "            bestlag = lag\n",
    "            if np.abs(icbest) >= stop:\n",
    "                # Break for first lag with a significant t-stat\n",
    "                break\n",
    "    else:\n",
    "        raise ValueError(f\"Information Criterion {method} not understood.\")\n",
    "\n",
    "    if not regresults:\n",
    "        return icbest, bestlag\n",
    "    else:\n",
    "        return icbest, bestlag, results"
   ]
  },
  {
   "cell_type": "code",
   "execution_count": 4,
   "id": "0d45e528-9ca1-4642-9b4b-d790ae7daf0b",
   "metadata": {
    "jupyter": {
     "source_hidden": true
    },
    "tags": []
   },
   "outputs": [],
   "source": [
    "from statsmodels.tools.data import _is_recarray, _is_using_pandas\n",
    "from statsmodels.tools.sm_exceptions import ValueWarning\n",
    "from statsmodels.tools.validation import (\n",
    "    array_like,\n",
    "    bool_like,\n",
    "    int_like,\n",
    "    string_like,\n",
    ")\n",
    "\n",
    "def add_seasonality(x, freq, prepend=False):\n",
    "    \"\"\"\n",
    "    Add a periodic term to an array.\n",
    "\n",
    "    Parameters\n",
    "    ----------\n",
    "    x : array_like\n",
    "        Original array of data.\n",
    "    freq : array of double\n",
    "        The frequencies for which we add a sin and cos term.\n",
    "\n",
    "    Returns\n",
    "    -------\n",
    "    array_like\n",
    "        The original data with the additional trend columns.  If x is a\n",
    "        pandas Series or DataFrame, then the trend column names are 'const',\n",
    "        'trend' and 'trend_squared'.\n",
    "\n",
    "    \"\"\"\n",
    "    freq = array_like(freq, \"freq\")\n",
    "    prepend = bool_like(prepend, \"prepend\")\n",
    "\n",
    "    columns = []\n",
    "    for i, el in enumerate(freq):\n",
    "        columns.append(f\"cos(f{i})\")\n",
    "        columns.append(f\"sin(f{i})\")\n",
    "\n",
    "    is_pandas = _is_using_pandas(x, None)\n",
    "    if is_pandas:\n",
    "        if isinstance(x, pd.Series):\n",
    "            x = pd.DataFrame(x)\n",
    "        else:\n",
    "            x = x.copy()\n",
    "    else:\n",
    "        x = np.asanyarray(x)\n",
    "\n",
    "    nobs = len(x)\n",
    "    #trendarr = np.vander(\n",
    "    #    np.arange(1, nobs + 1, dtype=np.float64), trendorder + 1\n",
    "    #)\n",
    "    trend = np.arange(1, nobs + 1, dtype=np.float64)\n",
    "    seasonarr = np.empty((nobs, 0), dtype=np.float64)\n",
    "    for f in freq:\n",
    "        seasonarr = np.c_[seasonarr, np.cos(2*np.pi*f*trend), np.sin(2*np.pi*f*trend)]\n",
    "   \n",
    "    order = 1 if prepend else -1\n",
    "    if is_pandas:\n",
    "        seasonarr = pd.DataFrame(seasonarr, index=x.index, columns=columns)\n",
    "        x = [seasonarr, x]\n",
    "        x = pd.concat(x[::order], axis=1)\n",
    "    else:\n",
    "        x = [seasonarr, x]\n",
    "        x = np.column_stack(x[::order])\n",
    "    \n",
    "    return x"
   ]
  },
  {
   "cell_type": "code",
   "execution_count": 5,
   "id": "8b576a5f-b9f5-4cac-90e5-02773c84347a",
   "metadata": {
    "jupyter": {
     "source_hidden": true
    },
    "tags": []
   },
   "outputs": [],
   "source": [
    "def adfullercustom(\n",
    "    x,\n",
    "    maxlag: int | None = None,\n",
    "    regression=\"c\",\n",
    "    seasonality_freq=None,\n",
    "    autolag=\"AIC\",\n",
    "    store=False,\n",
    "    regresults=False,\n",
    "):\n",
    "    \"\"\"\n",
    "    Augmented Dickey-Fuller unit root test.\n",
    "\n",
    "    The Augmented Dickey-Fuller test can be used to test for a unit root in a\n",
    "    univariate process in the presence of serial correlation.\n",
    "\n",
    "    Parameters\n",
    "    ----------\n",
    "    x : array_like, 1d\n",
    "        The data series to test.\n",
    "    maxlag : {None, int}\n",
    "        Maximum lag which is included in test, default value of\n",
    "        12*(nobs/100)^{1/4} is used when ``None``.\n",
    "    regression : {\"c\",\"ct\",\"ctt\",\"n\"}\n",
    "        Constant and trend order to include in regression.\n",
    "\n",
    "        * \"c\" : constant only (default).\n",
    "        * \"ct\" : constant and trend.\n",
    "        * \"ctt\" : constant, and linear and quadratic trend.\n",
    "        * \"n\" : no constant, no trend.\n",
    "        * seasonality : array_like, 1d\n",
    "        Frequencies to add to the regression for the ADF test\n",
    "\n",
    "    autolag : {\"AIC\", \"BIC\", \"t-stat\", None}\n",
    "        Method to use when automatically determining the lag length among the\n",
    "        values 0, 1, ..., maxlag.\n",
    "\n",
    "        * If \"AIC\" (default) or \"BIC\", then the number of lags is chosen\n",
    "          to minimize the corresponding information criterion.\n",
    "        * \"t-stat\" based choice of maxlag.  Starts with maxlag and drops a\n",
    "          lag until the t-statistic on the last lag length is significant\n",
    "          using a 5%-sized test.\n",
    "        * If None, then the number of included lags is set to maxlag.\n",
    "    store : bool\n",
    "        If True, then a result instance is returned additionally to\n",
    "        the adf statistic. Default is False.\n",
    "    regresults : bool, optional\n",
    "        If True, the full regression results are returned. Default is False.\n",
    "\n",
    "    Returns\n",
    "    -------\n",
    "    adf : float\n",
    "        The test statistic.\n",
    "    pvalue : float\n",
    "        MacKinnon's approximate p-value based on MacKinnon (1994, 2010).\n",
    "    usedlag : int\n",
    "        The number of lags used.\n",
    "    nobs : int\n",
    "        The number of observations used for the ADF regression and calculation\n",
    "        of the critical values.\n",
    "    critical values : dict\n",
    "        Critical values for the test statistic at the 1 %, 5 %, and 10 %\n",
    "        levels. Based on MacKinnon (2010).\n",
    "    icbest : float\n",
    "        The maximized information criterion if autolag is not None.\n",
    "    resstore : ResultStore, optional\n",
    "        A dummy class with results attached as attributes.\n",
    "\n",
    "    Notes\n",
    "    -----\n",
    "    The null hypothesis of the Augmented Dickey-Fuller is that there is a unit\n",
    "    root, with the alternative that there is no unit root. If the pvalue is\n",
    "    above a critical size, then we cannot reject that there is a unit root.\n",
    "\n",
    "    The p-values are obtained through regression surface approximation from\n",
    "    MacKinnon 1994, but using the updated 2010 tables. If the p-value is close\n",
    "    to significant, then the critical values should be used to judge whether\n",
    "    to reject the null.\n",
    "\n",
    "    The autolag option and maxlag for it are described in Greene.\n",
    "\n",
    "    See the notebook `Stationarity and detrending (ADF/KPSS)\n",
    "    <../examples/notebooks/generated/stationarity_detrending_adf_kpss.html>`__\n",
    "    for an overview.\n",
    "\n",
    "    References\n",
    "    ----------\n",
    "    .. [1] W. Green.  \"Econometric Analysis,\" 5th ed., Pearson, 2003.\n",
    "\n",
    "    .. [2] Hamilton, J.D.  \"Time Series Analysis\".  Princeton, 1994.\n",
    "\n",
    "    .. [3] MacKinnon, J.G. 1994.  \"Approximate asymptotic distribution functions for\n",
    "        unit-root and cointegration tests.  `Journal of Business and Economic\n",
    "        Statistics` 12, 167-76.\n",
    "\n",
    "    .. [4] MacKinnon, J.G. 2010. \"Critical Values for Cointegration Tests.\"  Queen\"s\n",
    "        University, Dept of Economics, Working Papers.  Available at\n",
    "        http://ideas.repec.org/p/qed/wpaper/1227.html\n",
    "    \"\"\"\n",
    "    x = array_like(x, \"x\")\n",
    "    maxlag = int_like(maxlag, \"maxlag\", optional=True)\n",
    "    regression = string_like(\n",
    "        regression, \"regression\", options=(\"c\", \"ct\", \"ctt\", \"n\")\n",
    "    )\n",
    "    autolag = string_like(\n",
    "        autolag, \"autolag\", optional=True, options=(\"aic\", \"bic\", \"t-stat\")\n",
    "    )\n",
    "    #seasonality_freq = array_like(seasonality_freq, \"seasonality_freq\")\n",
    "    store = bool_like(store, \"store\")\n",
    "    regresults = bool_like(regresults, \"regresults\")\n",
    "\n",
    "    if x.max() == x.min():\n",
    "        raise ValueError(\"Invalid input, x is constant\")\n",
    "\n",
    "    if regresults:\n",
    "        store = True\n",
    "\n",
    "    trenddict = {None: \"n\", 0: \"c\", 1: \"ct\", 2: \"ctt\"}\n",
    "    if regression is None or isinstance(regression, int):\n",
    "        regression = trenddict[regression]\n",
    "    regression = regression.lower()\n",
    "    nobs = x.shape[0]\n",
    "\n",
    "    ntrend = len(regression) if regression != \"n\" else 0\n",
    "    if maxlag is None:\n",
    "        # from Greene referencing Schwert 1989\n",
    "        maxlag = int(np.ceil(12.0 * np.power(nobs / 100.0, 1 / 4.0)))\n",
    "        # -1 for the diff\n",
    "        maxlag = min(nobs // 2 - ntrend - 1, maxlag)\n",
    "        if maxlag < 0:\n",
    "            raise ValueError(\n",
    "                \"sample size is too short to use selected \"\n",
    "                \"regression component\"\n",
    "            )\n",
    "    elif maxlag > nobs // 2 - ntrend - 1:\n",
    "        raise ValueError(\n",
    "            \"maxlag must be less than (nobs/2 - 1 - ntrend) \"\n",
    "            \"where n trend is the number of included \"\n",
    "            \"deterministic regressors\"\n",
    "        )\n",
    "    xdiff = np.diff(x)\n",
    "    xdall = lagmat(xdiff[:, None], maxlag, trim=\"both\", original=\"in\")\n",
    "    nobs = xdall.shape[0]\n",
    "\n",
    "    xdall[:, 0] = x[-nobs - 1 : -1]  # replace 0 xdiff with level of x\n",
    "    xdshort = xdiff[-nobs:]\n",
    "\n",
    "    if store:\n",
    "        from statsmodels.stats.diagnostic import ResultsStore\n",
    "\n",
    "        resstore = ResultsStore()\n",
    "    if autolag:\n",
    "        if regression != \"n\":\n",
    "            if seasonality_freq is None:\n",
    "                fullRHS = add_trend(xdall, regression, prepend=True)\n",
    "            else:\n",
    "                fullRHS = add_trend(xdall, regression, prepend=True)\n",
    "                fullRHS = add_seasonality(fullRHS, seasonality_freq, prepend=True)\n",
    "        else:\n",
    "            if seasonality_freq is None:\n",
    "                fullRHS = xdall\n",
    "            else:\n",
    "                fullRHS = add_seasonality(xdall, seasonality_freq, prepend=True)\n",
    "                \n",
    "        startlag = fullRHS.shape[1] - xdall.shape[1] + 1\n",
    "        # 1 for level\n",
    "        # search for lag length with smallest information criteria\n",
    "        # Note: use the same number of observations to have comparable IC\n",
    "        # aic and bic: smaller is better\n",
    "\n",
    "        if not regresults:\n",
    "            icbest, bestlag = _autolag(\n",
    "                OLS, xdshort, fullRHS, startlag, maxlag, autolag\n",
    "            )\n",
    "        else:\n",
    "            icbest, bestlag, alres = _autolag(\n",
    "                OLS,\n",
    "                xdshort,\n",
    "                fullRHS,\n",
    "                startlag,\n",
    "                maxlag,\n",
    "                autolag,\n",
    "                regresults=regresults,\n",
    "            )\n",
    "            resstore.autolag_results = alres\n",
    "\n",
    "        bestlag -= startlag  # convert to lag not column index\n",
    "\n",
    "        # rerun ols with best autolag\n",
    "        xdall = lagmat(xdiff[:, None], bestlag, trim=\"both\", original=\"in\")\n",
    "        nobs = xdall.shape[0]\n",
    "        xdall[:, 0] = x[-nobs - 1 : -1]  # replace 0 xdiff with level of x\n",
    "        xdshort = xdiff[-nobs:]\n",
    "        usedlag = bestlag\n",
    "    else:\n",
    "        usedlag = maxlag\n",
    "        icbest = None\n",
    "    if regression != \"n\":\n",
    "        if seasonality_freq is None:\n",
    "            resols = OLS(\n",
    "                xdshort, add_trend(xdall[:, : usedlag + 1], regression)\n",
    "            ).fit()\n",
    "        else:\n",
    "            xd = add_trend(xdall[:, : usedlag + 1], regression)\n",
    "            resols = OLS(\n",
    "                xdshort, add_seasonality(xd, seasonality_freq)\n",
    "            ).fit()\n",
    "    else:\n",
    "        if seasonality_freq is None:\n",
    "            resols = OLS(xdshort, xdall[:, : usedlag + 1]).fit()\n",
    "        else:\n",
    "            resols = OLS(\n",
    "                xdshort, add_seasonality(xdall[:, : usedlag + 1], seasonality_freq)\n",
    "            ).fit()\n",
    "\n",
    "    adfstat = resols.tvalues[0]\n",
    "    #    adfstat = (resols.params[0]-1.0)/resols.bse[0]\n",
    "    # the \"asymptotically correct\" z statistic is obtained as\n",
    "    # nobs/(1-np.sum(resols.params[1:-(trendorder+1)])) (resols.params[0] - 1)\n",
    "    # I think this is the statistic that is used for series that are integrated\n",
    "    # for orders higher than I(1), ie., not ADF but cointegration tests.\n",
    "\n",
    "    # Get approx p-value and critical values\n",
    "    pvalue = mackinnonp(adfstat, regression=regression, N=1)\n",
    "    critvalues = mackinnoncrit(N=1, regression=regression, nobs=nobs)\n",
    "    critvalues = {\n",
    "        \"1%\": critvalues[0],\n",
    "        \"5%\": critvalues[1],\n",
    "        \"10%\": critvalues[2],\n",
    "    }\n",
    "    if store:\n",
    "        resstore.resols = resols\n",
    "        resstore.maxlag = maxlag\n",
    "        resstore.usedlag = usedlag\n",
    "        resstore.adfstat = adfstat\n",
    "        resstore.critvalues = critvalues\n",
    "        resstore.nobs = nobs\n",
    "        resstore.H0 = (\n",
    "            \"The coefficient on the lagged level equals 1 - \" \"unit root\"\n",
    "        )\n",
    "        resstore.HA = \"The coefficient on the lagged level < 1 - stationary\"\n",
    "        resstore.icbest = icbest\n",
    "        resstore._str = \"Augmented Dickey-Fuller Test Results\"\n",
    "        return adfstat, pvalue, critvalues, resstore\n",
    "    else:\n",
    "        if not autolag:\n",
    "            return adfstat, pvalue, usedlag, nobs, critvalues\n",
    "        else:\n",
    "            return adfstat, pvalue, usedlag, nobs, critvalues, icbest\n"
   ]
  },
  {
   "cell_type": "markdown",
   "id": "f143ef63-6f4d-4bc6-ad50-22414d416cef",
   "metadata": {},
   "source": [
    "# ADF test"
   ]
  },
  {
   "cell_type": "markdown",
   "id": "a75df7f3-680c-443a-8975-5bb53351eb74",
   "metadata": {},
   "source": [
    "The p-value of the ADF test is printed taking into account around 1y of data. In this case we are not using the constant (regression=\"n\") and we are using 3 different time series: net-load, 7d differenced net-load and 48h differenced net-load"
   ]
  },
  {
   "cell_type": "code",
   "execution_count": 6,
   "id": "c89fb497-f68d-4ced-a332-d7e2b0ae4c78",
   "metadata": {},
   "outputs": [
    {
     "name": "stdout",
     "output_type": "stream",
     "text": [
      "p-value adf test:  0.3214051953008763\n",
      "p-value adf test on 7d differences:  5.443450341925388e-15\n",
      "p-value adf test on 48h differences:  3.6139268194230556e-26\n"
     ]
    }
   ],
   "source": [
    "t1 = 0\n",
    "t2 = 20000\n",
    "\n",
    "res = adfuller(train_set['node'][t1:t2], regression=\"n\")\n",
    "print(\"p-value adf test: \", res[1])\n",
    "\n",
    "res = adfuller(train_set['diff_336'][t1:t2], regression=\"n\")\n",
    "print(\"p-value adf test on 7d differences: \", res[1])\n",
    "\n",
    "res = adfuller(train_set['diff_96'][t1:t2], regression=\"n\")\n",
    "print(\"p-value adf test on 48h differences: \", res[1])"
   ]
  },
  {
   "cell_type": "code",
   "execution_count": null,
   "id": "ed66d529-7400-446a-a243-f595a80c54a6",
   "metadata": {},
   "outputs": [],
   "source": []
  },
  {
   "cell_type": "markdown",
   "id": "7f5f5725-f1ad-45ed-a7b0-7692767ef2e2",
   "metadata": {},
   "source": [
    "The p-value of the ADF test is printed taking into account less than 1y of data. In this case we using the constant (regression=\"c\") and we are using 3 different time series: net-load, 7d differenced net-load and 48h differenced net-load.\n",
    "\n",
    "The p-value of the net-load time series is already below 5%."
   ]
  },
  {
   "cell_type": "code",
   "execution_count": 7,
   "id": "d74f02d4-f820-4544-8946-3763c91abff8",
   "metadata": {},
   "outputs": [
    {
     "name": "stdout",
     "output_type": "stream",
     "text": [
      "p-value adf test:  0.0006155632814171223\n",
      "p-value adf test on 7d differences:  1.1147602874278816e-13\n",
      "p-value adf test on 48h differences:  1.51731501175611e-18\n"
     ]
    }
   ],
   "source": [
    "t1 = 0\n",
    "t2 = 15000\n",
    "\n",
    "res = adfullercustom(train_set['node'][t1:t2], regression=\"c\", seasonality_freq=None)\n",
    "print(\"p-value adf test: \", res[1])\n",
    "\n",
    "res = adfullercustom(train_set['diff_336'][t1:t2], regression=\"c\", seasonality_freq=None)\n",
    "print(\"p-value adf test on 7d differences: \", res[1])\n",
    "\n",
    "res = adfullercustom(train_set['diff_96'][t1:t2], regression=\"c\", seasonality_freq=None)\n",
    "print(\"p-value adf test on 48h differences: \", res[1])"
   ]
  },
  {
   "cell_type": "markdown",
   "id": "2a8c0531-f87e-43e8-b906-109de09102ae",
   "metadata": {},
   "source": [
    "# Modified ADF test"
   ]
  },
  {
   "cell_type": "markdown",
   "id": "2ae5ca67-97eb-44c1-b34b-3547cd0bd89f",
   "metadata": {},
   "source": [
    "The p-value of the ADF test is printed taking into account less than 1y of data. In this case we using the constant (regression=\"c\") and we are using comparing the p-values of the two tests: the first without considering the periodic component (7d sin + cos) in the test and the second considering the periodic component.\n",
    "\n",
    "We can observe that the p-value decreases even though it was already below 5%."
   ]
  },
  {
   "cell_type": "code",
   "execution_count": 8,
   "id": "a420cbda-f50d-4196-a40d-de1bb1e135d4",
   "metadata": {},
   "outputs": [
    {
     "name": "stdout",
     "output_type": "stream",
     "text": [
      "p-value adf test:  0.0006155632814171223\n",
      "p-value adf test with periodic component:  0.0002960319177479293\n"
     ]
    }
   ],
   "source": [
    "t1=0\n",
    "t2=15000\n",
    "# Period is intended in terms of number of observations\n",
    "#freq = 1/np.array([24,48,336]) # we can add multiple periods\n",
    "freq = 1/np.array([336])\n",
    "res = adfullercustom(train_set['node'][t1:t2], regression=\"c\", seasonality_freq=None)\n",
    "print(\"p-value adf test: \", res[1])\n",
    "res = adfullercustom(train_set['node'][t1:t2], regression=\"c\", seasonality_freq=freq)\n",
    "print(\"p-value adf test with periodic component: \", res[1])"
   ]
  },
  {
   "cell_type": "code",
   "execution_count": null,
   "id": "d29320b6-bd69-47bf-8c82-e3eeee288471",
   "metadata": {},
   "outputs": [],
   "source": []
  },
  {
   "cell_type": "markdown",
   "id": "4c2aa134-6bf9-400c-9f61-e97c9706b407",
   "metadata": {},
   "source": [
    "# ADF test for seasonality"
   ]
  },
  {
   "cell_type": "markdown",
   "id": "0d099dad-74d1-4cf8-9a7d-0885ca0fbb37",
   "metadata": {},
   "source": [
    "p-values of the 336 weekly time series (one for each 30 minutes in 7 days) and of their differenced time series"
   ]
  },
  {
   "cell_type": "code",
   "execution_count": 9,
   "id": "15a1e89e-feea-44e6-a17b-1b440b149fc2",
   "metadata": {},
   "outputs": [],
   "source": [
    "p_value_336 = []\n",
    "p_value_336_diff = []\n",
    "for t in range(336):\n",
    "    res = adfuller(np.array(train_set['node'])[t::336],regression='c',regresults=True)\n",
    "    p_value_336.append(res[1])    \n",
    "    y_336 = np.array(train_set['node'])[t::336]\n",
    "    y_diff = y_336[1:]-y_336[:-1]\n",
    "    res = adfuller(y_diff,regression='c',regresults=True)\n",
    "    p_value_336_diff.append(res[1])\n"
   ]
  },
  {
   "cell_type": "code",
   "execution_count": 10,
   "id": "004809a6-b3ba-4d24-9668-bf93df902dd8",
   "metadata": {},
   "outputs": [
    {
     "data": {
      "text/plain": [
       "Text(0.5, 1.0, 'p-values of the differenced weekly series')"
      ]
     },
     "execution_count": 10,
     "metadata": {},
     "output_type": "execute_result"
    },
    {
     "data": {
      "image/png": "[encoded data removed]",
      "text/plain": [
       "<Figure size 1200x800 with 2 Axes>"
      ]
     },
     "metadata": {},
     "output_type": "display_data"
    }
   ],
   "source": [
    "figure, axs = plt.subplots(2,1, figsize=(12,8))\n",
    "axs[0].plot(p_value_336, 'o')\n",
    "axs[0].plot(range(336), 0.05*np.ones(336,), color='green', linewidth=1, label='5%')\n",
    "axs[0].set_title(\"p-values of the weekly series\")\n",
    "axs[1].plot(p_value_336_diff, 'o')\n",
    "axs[1].plot(range(336), 0.05*np.ones(336,), color='green', linewidth=1, label='5%')\n",
    "axs[1].set_title(\"p-values of the differenced weekly series\")"
   ]
  },
  {
   "cell_type": "markdown",
   "id": "6b52adde-3fd8-4590-8194-02db946514e9",
   "metadata": {},
   "source": [
    "p-values of the 48 daily time series (one for each 30 minutes in 24h) and of their differenced time series"
   ]
  },
  {
   "cell_type": "code",
   "execution_count": 11,
   "id": "85ab4882-8a76-430f-9827-388e00372c1d",
   "metadata": {},
   "outputs": [],
   "source": [
    "p_value = []\n",
    "p_value_diff48 = []\n",
    "for t in range(48):\n",
    "    res = adfuller(np.array(train_set['node'])[t::48],regression='c',regresults=True)\n",
    "    p_value.append(res[1])\n",
    "    \n",
    "    y_48 = np.array(train_set['node'])[t::48]\n",
    "    y_diff = y_48[1:]-y_48[:-1]\n",
    "    res = adfuller(y_diff,regression='c',regresults=True)\n",
    "    p_value_diff48.append(res[1])\n",
    " "
   ]
  },
  {
   "cell_type": "code",
   "execution_count": 12,
   "id": "f229ae17-e7ff-4e62-afb8-cf34627c9f7c",
   "metadata": {},
   "outputs": [
    {
     "data": {
      "text/plain": [
       "<matplotlib.legend.Legend at 0x19fa872c100>"
      ]
     },
     "execution_count": 12,
     "metadata": {},
     "output_type": "execute_result"
    },
    {
     "data": {
      "image/png": "[encoded data removed]",
      "text/plain": [
       "<Figure size 1200x500 with 2 Axes>"
      ]
     },
     "metadata": {},
     "output_type": "display_data"
    }
   ],
   "source": [
    "figure, axs = plt.subplots(1,2, figsize=(12,5))\n",
    "axs[0].plot(p_value, 'o')\n",
    "axs[0].plot(range(48), 0.05*np.ones(48,), color='green', linewidth=1, label='5%')\n",
    "axs[0].set_title(\"p-values of the daily series\")\n",
    "axs[1].plot(p_value_diff48, 'o')\n",
    "axs[1].plot(range(48), 0.05*np.ones(48,), color='green', linewidth=1, label='5%')\n",
    "axs[1].set_title(\"p-values of the differenced daily series\")\n",
    "axs[0].legend()\n",
    "axs[1].legend()"
   ]
  },
  {
   "cell_type": "code",
   "execution_count": null,
   "id": "adad7f8d-2a9d-48b1-bfdc-e98b63557559",
   "metadata": {},
   "outputs": [],
   "source": []
  },
  {
   "cell_type": "markdown",
   "id": "9d4926a5-2dee-41f0-8bde-9eb85636e6f4",
   "metadata": {},
   "source": [
    "# Partial Autocorrelation plots of the net-load TS and of the differenced net-load TS "
   ]
  },
  {
   "cell_type": "code",
   "execution_count": 13,
   "id": "ee5d83e9-10f6-4837-a0ba-1273e2c2c986",
   "metadata": {},
   "outputs": [
    {
     "name": "stderr",
     "output_type": "stream",
     "text": [
      "C:\\Users\\Utente\\AppData\\Local\\Temp\\ipykernel_16396\\3682407462.py:3: MatplotlibDeprecationWarning: Passing the linefmt parameter positionally is deprecated since Matplotlib 3.5; the parameter will become keyword-only two minor releases later.\n",
      "  plt.stem(range(n_lags+1), pacf(train_set['node'], nlags=n_lags), 'o')\n"
     ]
    },
    {
     "data": {
      "text/plain": [
       "<matplotlib.legend.Legend at 0x19fa8a16d30>"
      ]
     },
     "execution_count": 13,
     "metadata": {},
     "output_type": "execute_result"
    },
    {
     "data": {
      "image/png": "[encoded data removed]",
      "text/plain": [
       "<Figure size 1500x500 with 1 Axes>"
      ]
     },
     "metadata": {},
     "output_type": "display_data"
    }
   ],
   "source": [
    "n_lags = 399\n",
    "fig, axs = plt.subplots(1,1,figsize=(15,5))\n",
    "plt.stem(range(n_lags+1), pacf(train_set['node'], nlags=n_lags), 'o')\n",
    "plt.plot(range(n_lags+1), 0.2*np.ones(n_lags+1,), color='green', linewidth=1, label='20%')\n",
    "plt.plot(range(n_lags+1), -0.2*np.ones(n_lags+1,), color='green', linewidth=1)\n",
    "plt.title('Partial Autocorrelation of the net-load TS of Group C');\n",
    "plt.legend()"
   ]
  },
  {
   "cell_type": "code",
   "execution_count": 14,
   "id": "5032b5c9-4c0d-4752-a596-7ff896cba3fd",
   "metadata": {
    "tags": []
   },
   "outputs": [
    {
     "name": "stderr",
     "output_type": "stream",
     "text": [
      "C:\\Users\\Utente\\AppData\\Local\\Temp\\ipykernel_16396\\616543779.py:3: MatplotlibDeprecationWarning: Passing the linefmt parameter positionally is deprecated since Matplotlib 3.5; the parameter will become keyword-only two minor releases later.\n",
      "  plt.stem(range(n_lags+1), pacf(train_set['diff_336'], nlags=n_lags), 'o')\n"
     ]
    },
    {
     "data": {
      "text/plain": [
       "<matplotlib.legend.Legend at 0x19fa88b8190>"
      ]
     },
     "execution_count": 14,
     "metadata": {},
     "output_type": "execute_result"
    },
    {
     "data": {
      "image/png": "[encoded data removed]",
      "text/plain": [
       "<Figure size 1500x500 with 1 Axes>"
      ]
     },
     "metadata": {},
     "output_type": "display_data"
    }
   ],
   "source": [
    "n_lags = 399\n",
    "fig, axs = plt.subplots(1,1,figsize=(15,5))\n",
    "plt.stem(range(n_lags+1), pacf(train_set['diff_336'], nlags=n_lags), 'o')\n",
    "plt.plot(range(n_lags+1), 0.2*np.ones(n_lags+1,), color='green', linewidth=1, label='20%')\n",
    "plt.plot(range(n_lags+1), -0.2*np.ones(n_lags+1,), color='green', linewidth=1)\n",
    "plt.title('Partial Autocorrelation of 7d differenced TS of Group C');\n",
    "plt.legend()"
   ]
  },
  {
   "cell_type": "code",
   "execution_count": 15,
   "id": "5c242ccd-21ba-47d9-9a7c-83a635787966",
   "metadata": {},
   "outputs": [
    {
     "name": "stderr",
     "output_type": "stream",
     "text": [
      "C:\\Users\\Utente\\AppData\\Local\\Temp\\ipykernel_16396\\1933875857.py:2: MatplotlibDeprecationWarning: Passing the linefmt parameter positionally is deprecated since Matplotlib 3.5; the parameter will become keyword-only two minor releases later.\n",
      "  plt.stem(range(400), pacf(train_set['diff_96'], nlags=399), 'o')\n"
     ]
    },
    {
     "data": {
      "text/plain": [
       "<matplotlib.legend.Legend at 0x19fa8a49190>"
      ]
     },
     "execution_count": 15,
     "metadata": {},
     "output_type": "execute_result"
    },
    {
     "data": {
      "image/png": "[encoded data removed]",
      "text/plain": [
       "<Figure size 1500x500 with 1 Axes>"
      ]
     },
     "metadata": {},
     "output_type": "display_data"
    }
   ],
   "source": [
    "fig, axs = plt.subplots(1,1,figsize=(15,5))\n",
    "plt.stem(range(400), pacf(train_set['diff_96'], nlags=399), 'o')\n",
    "plt.plot(range(400), 0.2*np.ones(400,), color='green', linewidth=1, label='20%')\n",
    "plt.plot(range(400), -0.2*np.ones(400,), color='green', linewidth=1)\n",
    "plt.title('Partial Autocorrelation of 48h differenced TS of Group C');\n",
    "plt.legend()"
   ]
  },
  {
   "cell_type": "markdown",
   "id": "3ffb0582-a014-4836-8e0d-249fbd87a926",
   "metadata": {},
   "source": [
    "# Analysis of the distribution of the net-load and the differenced net-load time series"
   ]
  },
  {
   "cell_type": "markdown",
   "id": "46d4385f-fd3d-4921-bbec-7918413335a0",
   "metadata": {},
   "source": [
    "Distribution of the net-load"
   ]
  },
  {
   "cell_type": "code",
   "execution_count": 16,
   "id": "44cc2c98-8347-4941-bf63-e76e23924d7f",
   "metadata": {},
   "outputs": [],
   "source": [
    "Rt = train_set['node']\n",
    "mu_Rt = Rt.mean()\n",
    "std_Rt = Rt.std()"
   ]
  },
  {
   "cell_type": "code",
   "execution_count": 17,
   "id": "a984127f-7d63-4b16-be12-1abb3ed2d5d7",
   "metadata": {},
   "outputs": [
    {
     "name": "stderr",
     "output_type": "stream",
     "text": [
      "C:\\Users\\Utente\\anaconda3\\lib\\site-packages\\seaborn\\distributions.py:2619: FutureWarning: `distplot` is a deprecated function and will be removed in a future version. Please adapt your code to use either `displot` (a figure-level function with similar flexibility) or `histplot` (an axes-level function for histograms).\n",
      "  warnings.warn(msg, FutureWarning)\n"
     ]
    },
    {
     "data": {
      "text/plain": [
       "<matplotlib.legend.Legend at 0x19fab132a60>"
      ]
     },
     "execution_count": 17,
     "metadata": {},
     "output_type": "execute_result"
    },
    {
     "data": {
      "image/png": "[encoded data removed]",
      "text/plain": [
       "<Figure size 970x527 with 1 Axes>"
      ]
     },
     "metadata": {},
     "output_type": "display_data"
    },
    {
     "data": {
      "image/png": "[encoded data removed]",
      "text/plain": [
       "<Figure size 970x527 with 1 Axes>"
      ]
     },
     "metadata": {},
     "output_type": "display_data"
    }
   ],
   "source": [
    "from scipy.stats import norm\n",
    "\n",
    "x = np.linspace(0,3200,10000)\n",
    "\n",
    "sns.set(rc={'figure.figsize':(9.7,5.27)})\n",
    "sns.distplot(Rt, label='Sample distribution')\n",
    "plt.plot(x, norm.pdf(x, mu_Rt, std_Rt), label='Normal')\n",
    "plt.legend()\n",
    "\n",
    "# Density estimation\n",
    "x_values = sns.kdeplot(Rt).get_lines()[0].get_xdata()\n",
    "kde_values = sns.kdeplot(Rt).get_lines()[0].get_ydata()\n",
    "\n",
    "fig, axs = plt.subplots(1,1)\n",
    "axs.plot(x, norm.pdf(x, mu_Rt, std_Rt), label='Normal')\n",
    "axs.plot(x_values, kde_values, label='Sample density')\n",
    "axs.set_ylabel(\"Density\")\n",
    "axs.set_ylim([10**-7,1])\n",
    "axs.set_yscale('log')\n",
    "axs.legend()\n"
   ]
  },
  {
   "cell_type": "markdown",
   "id": "b6be7f56-fa75-4e94-8b7e-579330721eee",
   "metadata": {},
   "source": [
    " "
   ]
  },
  {
   "cell_type": "markdown",
   "id": "a0db429d-0f9e-44be-9439-5072fc8b000f",
   "metadata": {},
   "source": [
    "Distribution of the 7d differenced net-load"
   ]
  },
  {
   "cell_type": "code",
   "execution_count": 18,
   "id": "fef057b2-72b2-4512-9135-356faefb9d68",
   "metadata": {},
   "outputs": [],
   "source": [
    "Rt = train_set['diff_336']\n",
    "mu_Rt = Rt.mean()\n",
    "std_Rt = Rt.std()"
   ]
  },
  {
   "cell_type": "code",
   "execution_count": 19,
   "id": "174efe18-7718-4454-b770-fd1ed99e4c02",
   "metadata": {},
   "outputs": [
    {
     "name": "stderr",
     "output_type": "stream",
     "text": [
      "C:\\Users\\Utente\\anaconda3\\lib\\site-packages\\seaborn\\distributions.py:2619: FutureWarning: `distplot` is a deprecated function and will be removed in a future version. Please adapt your code to use either `displot` (a figure-level function with similar flexibility) or `histplot` (an axes-level function for histograms).\n",
      "  warnings.warn(msg, FutureWarning)\n"
     ]
    },
    {
     "data": {
      "text/plain": [
       "<matplotlib.legend.Legend at 0x19fac31bee0>"
      ]
     },
     "execution_count": 19,
     "metadata": {},
     "output_type": "execute_result"
    },
    {
     "data": {
      "image/png": "[encoded data removed]",
      "text/plain": [
       "<Figure size 970x527 with 1 Axes>"
      ]
     },
     "metadata": {},
     "output_type": "display_data"
    },
    {
     "data": {
      "image/png": "[encoded data removed]",
      "text/plain": [
       "<Figure size 970x527 with 1 Axes>"
      ]
     },
     "metadata": {},
     "output_type": "display_data"
    }
   ],
   "source": [
    "from scipy.stats import norm\n",
    "\n",
    "x = np.linspace(-200,200,10000)\n",
    "\n",
    "sns.set(rc={'figure.figsize':(9.7,5.27)})\n",
    "sns.distplot(Rt, label='Sample distribution')\n",
    "plt.plot(x, norm.pdf(x, mu_Rt, std_Rt), label='Normal')\n",
    "plt.legend()\n",
    "\n",
    "# Density estimation\n",
    "x_values = sns.kdeplot(Rt).get_lines()[0].get_xdata()\n",
    "kde_values = sns.kdeplot(Rt).get_lines()[0].get_ydata()\n",
    "\n",
    "fig, axs = plt.subplots(1,1)\n",
    "axs.plot(x, norm.pdf(x, mu_Rt, std_Rt), label='Normal')\n",
    "axs.plot(x_values, kde_values, label='Sample density')\n",
    "axs.set_ylabel(\"Density\")\n",
    "axs.set_ylim([10**-8,1])\n",
    "axs.set_yscale('log')\n",
    "axs.legend()\n"
   ]
  },
  {
   "cell_type": "code",
   "execution_count": null,
   "id": "c5d9f75b-95d3-4a45-8020-c1db1a0335c2",
   "metadata": {},
   "outputs": [],
   "source": []
  },
  {
   "cell_type": "code",
   "execution_count": null,
   "id": "af951113-b68a-4b10-927a-4811c35ce8a0",
   "metadata": {},
   "outputs": [],
   "source": []
  },
  {
   "cell_type": "code",
   "execution_count": null,
   "id": "81b33c07-8edb-4a22-9774-a1d33ed66d9f",
   "metadata": {},
   "outputs": [],
   "source": []
  },
  {
   "cell_type": "markdown",
   "id": "02a5b6ef-606b-422e-bfd8-e5b2b129bb23",
   "metadata": {},
   "source": [
    "# Dataset Preprocessing for GAM"
   ]
  },
  {
   "cell_type": "code",
   "execution_count": 20,
   "id": "2467e030-68bf-427b-9709-7d4df8470add",
   "metadata": {},
   "outputs": [],
   "source": [
    "features = ['t', 't2', 'doy_s', 'doy_c', 'doy_s2', 'doy_c2', 'node_sm', 'clock_hour', 'dow_RpH', 'School_Hol', \n",
    "           'x2T_weighted.mean_p_max_point', 'x2Tsm_point', 'SSRD_mean_2_Cap', 'WindSpd100_weighted.mean_cell','EMBEDDED_WIND_CAPACITY',\n",
    "           'WindSpd10_weighted.mean_cell', 'TP_weighted.mean_cell']\n",
    "features_to_standardize = ['node_sm','clock_hour','x2T_weighted.mean_p_max_point', 'x2Tsm_point', 'SSRD_mean_2_Cap', 'WindSpd100_weighted.mean_cell','EMBEDDED_WIND_CAPACITY',\n",
    "                          'WindSpd10_weighted.mean_cell', 'TP_weighted.mean_cell']\n",
    "\n",
    "\n",
    "def dataset_preprocessing(df, features, features_to_standardize, exog_name):\n",
    "    df_std = standardize_dataframe(df[features_to_standardize])\n",
    "    for f in list(set(features) - set(features_to_standardize+['t2'])):\n",
    "        df_std[f] = df[f]\n",
    "    df_std['t2'] = df_std['t']**2\n",
    "    df_std['dow_RpH'] = 1*(df_std['dow_RpH']=='Lun')+2*(df_std['dow_RpH']=='Mar')+\\\n",
    "                            3*(df_std['dow_RpH']=='Mer')+4*(df_std['dow_RpH']=='Jeu')+\\\n",
    "                            5*(df_std['dow_RpH']=='Ven')+6*(df_std['dow_RpH']=='Sam')+\\\n",
    "                            7*(df_std['dow_RpH']=='Dim')+8*(df_std['dow_RpH']=='Autumn Break')+\\\n",
    "                            9*(df_std['dow_RpH']=='Christmas Holiday')+10*(df_std['dow_RpH']=='Easter Holidays')+\\\n",
    "                            11*(df_std['dow_RpH']=='Summer Break')+12*(df_std['dow_RpH']=='Summer Holiday')+\\\n",
    "                            13*(df_std['dow_RpH']=='February Half Term')\n",
    "    df_std['School_Hol'] = 1*(df_std['School_Hol']=='N')+2*(df_std['School_Hol']=='School Holiday')+\\\n",
    "                            3*(df_std['School_Hol']=='Christmas Holiday')\n",
    "    target = df[exog_name]\n",
    "    return np.array(df_std[features]), np.array(target)"
   ]
  },
  {
   "cell_type": "markdown",
   "id": "c3ce92df-95cb-4901-b163-35f26631362d",
   "metadata": {},
   "source": [
    "# GAM model\n",
    "Target variable: Net-Load"
   ]
  },
  {
   "cell_type": "code",
   "execution_count": 21,
   "id": "f6e13c59-3ec3-4bee-9243-2c6322af5bfe",
   "metadata": {},
   "outputs": [
    {
     "name": "stdout",
     "output_type": "stream",
     "text": [
      "RMSE GAM on test set:  223.69737709077555\n",
      "MAE GAM on test set:  187.03682329361018\n",
      "MAPE GAM on test set:  0.13509989468273276\n"
     ]
    }
   ],
   "source": [
    "from pygam import LinearGAM, s, f, l, te\n",
    "\n",
    "target_var = 'node'\n",
    "\n",
    "X_train, Y_train = dataset_preprocessing(train_set, features, features_to_standardize, target_var)\n",
    "X_test, Y_test = dataset_preprocessing(test_set, features, features_to_standardize, target_var)\n",
    "\n",
    "gam_model = LinearGAM(l(0) + l(1) + l(2) + l(3) + l(4) + l(5) + l(6) + s(7,n_splines=35,basis='cp') + f(8) + f(9) + \n",
    "                         te(7,8,n_splines=30,dtype=['numerical','categorical'],basis='cp')+te(7,9,n_splines=20,dtype=['numerical','categorical'],basis='cp')+\n",
    "                         s(10,n_splines=35,basis='cp')+s(11,n_splines=35,basis='cp')+s(12,n_splines=5,basis='cp')+ \n",
    "                         te(13,14,n_splines=20,basis='cp')+l(15)+s(16,n_splines=5,basis='cp')+te(10,7,n_splines=17)+te(16,7,n_splines=17))\n",
    "\n",
    "gam_model.fit(np.array(X_train), np.array(Y_train))\n",
    "y_GAM = gam_model.predict(np.array(X_test))\n",
    "\n",
    "print(\"RMSE GAM on test set: \", RMSE(np.array(test_set['node']), y_GAM))\n",
    "print(\"MAE GAM on test set: \", MAE(np.array(test_set['node']), y_GAM))\n",
    "print(\"MAPE GAM on test set: \", MAPE(np.array(test_set['node']), y_GAM))"
   ]
  },
  {
   "cell_type": "markdown",
   "id": "216b6268-23cc-470e-afdc-0edb1ba1689d",
   "metadata": {},
   "source": [
    "## Static Kalman Filter"
   ]
  },
  {
   "cell_type": "code",
   "execution_count": 22,
   "id": "5eba1409-df9d-4549-987e-50e2d719bd14",
   "metadata": {
    "tags": []
   },
   "outputs": [],
   "source": [
    "kf_static = Kalman_Filter(gam_model=gam_model)\n",
    "kf_static.fit(X_train, Y_train)\n",
    "std_static = np.std(kf_static.theta_mat[1000:],axis=0)"
   ]
  },
  {
   "cell_type": "code",
   "execution_count": 23,
   "id": "6ac9f6a8-490e-4058-a72a-7c40fb879552",
   "metadata": {},
   "outputs": [],
   "source": [
    "y_Kalman_static, y_Kalman_static_std = kf_static.predict(X_test, Y_test)\n",
    "y_Kalman_static_delay, y_Kalman_static_std_delay = kf_static.predict(X_test, test_set[[\"targetTime\", \"node\"]], delay=True)"
   ]
  },
  {
   "cell_type": "code",
   "execution_count": 24,
   "id": "85c7bc99-f371-4539-81a0-74a019095dbd",
   "metadata": {},
   "outputs": [
    {
     "name": "stdout",
     "output_type": "stream",
     "text": [
      "RMSE Static Kalman filter:  112.54123235759883\n",
      "MAE Static Kalman filter:  84.55546280570167\n",
      "MAPE Static Kalman filter:  0.0647282730245225\n",
      "\n",
      "RMSE Static Kalman filter delay:  113.72191093720036\n",
      "MAE Static Kalman filter delay:  85.3151364007691\n",
      "MAPE Static Kalman filter delay:  0.06527694873068561\n"
     ]
    }
   ],
   "source": [
    "print(\"RMSE Static Kalman filter: \", RMSE(test_set['node'], y_Kalman_static))\n",
    "print(\"MAE Static Kalman filter: \", MAE(test_set['node'], y_Kalman_static))\n",
    "print(\"MAPE Static Kalman filter: \", MAPE(test_set['node'], y_Kalman_static))\n",
    "\n",
    "print(\"\\nRMSE Static Kalman filter delay: \", RMSE(test_set['node'], y_Kalman_static_delay))\n",
    "print(\"MAE Static Kalman filter delay: \", MAE(test_set['node'], y_Kalman_static_delay))\n",
    "print(\"MAPE Static Kalman filter delay: \", MAPE(test_set['node'], y_Kalman_static_delay))"
   ]
  },
  {
   "cell_type": "markdown",
   "id": "6413a53d-b0a6-4bed-b111-da5b45c73e44",
   "metadata": {},
   "source": [
    "## Dynamic Kalman Filter\n",
    "Here below we compute the predictions obtained with the dynamic Kalman filter by using variances optimized in different ways (Q and sigma)"
   ]
  },
  {
   "cell_type": "markdown",
   "id": "61753d64-d26d-4ad3-9f34-860b1a8f4fb3",
   "metadata": {},
   "source": [
    "### Optimized matrix for C (viking package)"
   ]
  },
  {
   "cell_type": "code",
   "execution_count": 25,
   "id": "d1b2eab6-0b13-426b-b594-cacdb7814414",
   "metadata": {},
   "outputs": [],
   "source": [
    "with open('DynamicKF_matrices_py/Q_C.npy', 'rb') as f:\n",
    "    Q = np.load(f)\n",
    "    sigma = np.load(f)\n",
    "    theta = np.load(f)\n",
    "    P = np.load(f)\n",
    "    \n",
    "kf_dynamic = Kalman_Filter(gam_model=gam_model, Q=Q, sigma=sigma, P=P, theta1=theta)\n",
    "kf_dynamic.fit(X_train, Y_train)\n",
    "\n",
    "y_Kalman_dynamic, y_Kalman_dynamic_std = kf_dynamic.predict(X_test, Y_test)\n",
    "y_Kalman_dynamic_delay, y_Kalman_dynamic_delay_std = kf_dynamic.predict(X_test, test_set, delay=True)"
   ]
  },
  {
   "cell_type": "markdown",
   "id": "afa2d8bc-8065-4e11-9c3b-258a95fd0b52",
   "metadata": {},
   "source": [
    "### Optimized matrix C (Likelihood maximization)"
   ]
  },
  {
   "cell_type": "markdown",
   "id": "2ecdd833-4314-452b-a92f-7175907d2d6a",
   "metadata": {},
   "source": [
    "In this case we assume Q=q*I_d"
   ]
  },
  {
   "cell_type": "code",
   "execution_count": 26,
   "id": "05664242-e0df-410d-a969-8c7f65bc412a",
   "metadata": {},
   "outputs": [
    {
     "name": "stdout",
     "output_type": "stream",
     "text": [
      "1e-10\n",
      "-401537.2937248728\n",
      "1e-11\n",
      "-394036.48106647865\n",
      "1e-12\n",
      "-390380.28251402045\n",
      "1e-13\n",
      "-389671.85736146674\n",
      "1e-14\n",
      "-389886.4548138435\n",
      "1e-15\n",
      "-390105.43194580317\n",
      "1e-16\n",
      "-390148.00271479826\n",
      "1e-17\n",
      "-390152.6781932519\n",
      "1e-18\n",
      "-390153.1503687292\n",
      "Optimal values q and sigma:  7.690614342575012e-10 87.69614782061417\n"
     ]
    }
   ],
   "source": [
    "q_list = [1e-10,1e-11, 1e-12,1e-13,1e-14,1e-15,1e-16, 1e-17, 1e-18]\n",
    "\n",
    "optim = Q_optimization(X_train, train_set[[\"targetTime\", \"node\"]], GAM=True, gam_model=gam_model)\n",
    "\n",
    "Q, sigma, P, theta1 = optim.grid_search_reduced_likelihood(q_list=q_list)  #std_static=std_static)"
   ]
  },
  {
   "cell_type": "code",
   "execution_count": 27,
   "id": "79a0dd59-cf60-401d-9d61-eb7f8b6238d8",
   "metadata": {},
   "outputs": [],
   "source": [
    "kf_dynamic = Kalman_Filter(gam_model=gam_model, Q=Q, sigma=sigma, P=P, theta1=theta1)\n",
    "kf_dynamic.fit(X_train, Y_train)\n",
    "\n",
    "y_Kalman_dynamic_delay_red_lik, _ = kf_dynamic.predict(X_test, test_set, delay=True)"
   ]
  },
  {
   "cell_type": "markdown",
   "id": "3cdcba91-ef83-4acc-a96f-931a57da6916",
   "metadata": {},
   "source": [
    "### Optimized matrix C (Likelihood maximization)"
   ]
  },
  {
   "cell_type": "markdown",
   "id": "4b4defa5-8558-424c-a8ef-7fe2628e8945",
   "metadata": {},
   "source": [
    "In this case we assume Q=q*I_d and we optimize theta_1|0"
   ]
  },
  {
   "cell_type": "code",
   "execution_count": 30,
   "id": "9614a471-e81a-4706-a60a-270bd1da98f7",
   "metadata": {},
   "outputs": [
    {
     "name": "stdout",
     "output_type": "stream",
     "text": [
      "1e-10\n",
      "-610218.1667099126\n",
      "1e-11\n",
      "-587387.691349039\n",
      "1e-12\n",
      "-575620.2384109602\n",
      "1e-13\n",
      "-570825.043355272\n",
      "1e-14\n",
      "-569747.8828191491\n",
      "1e-15\n",
      "-569586.8517856055\n",
      "1e-16\n",
      "-569568.7221348973\n",
      "1e-17\n",
      "-569566.8788578821\n",
      "1e-18\n",
      "-569566.6942652834\n",
      "Optimal values q and sigma:  4.875435293133569e-13 698.243173481386\n"
     ]
    }
   ],
   "source": [
    "q_list = [1e-10,1e-11, 1e-12,1e-13,1e-14,1e-15,1e-16, 1e-17, 1e-18]\n",
    "\n",
    "optim = Q_optimization(X_train, train_set[[\"targetTime\", \"node\"]], GAM=True, gam_model=gam_model)\n",
    "\n",
    "Q, sigma, P, theta1 = optim.grid_search_reduced_likelihood(q_list=q_list, fit_theta1=True)  "
   ]
  },
  {
   "cell_type": "code",
   "execution_count": 31,
   "id": "77b5f6b6-4040-4b1c-b7e5-49db580f2314",
   "metadata": {},
   "outputs": [],
   "source": [
    "kf_dynamic = Kalman_Filter(gam_model=gam_model, Q=Q, sigma=sigma, P=P, theta1=theta1)\n",
    "kf_dynamic.fit(X_train, Y_train)\n",
    "\n",
    "y_Kalman_dynamic_delay_red_lik_theta1, _ = kf_dynamic.predict(X_test, test_set, delay=True)"
   ]
  },
  {
   "cell_type": "markdown",
   "id": "43da59ac-974f-49cb-9faa-1ce9ded76631",
   "metadata": {},
   "source": [
    "### Optimized matrix C (Likelihood maximization)"
   ]
  },
  {
   "cell_type": "markdown",
   "id": "a5634bd6-fad1-4a6f-9437-33fdb927cd3a",
   "metadata": {},
   "source": [
    "In this case we assume Q=q*np.diag(std_static^2)"
   ]
  },
  {
   "cell_type": "code",
   "execution_count": 32,
   "id": "932ccec4-c3ea-4761-b7b4-1d6cacdc5d40",
   "metadata": {},
   "outputs": [
    {
     "name": "stdout",
     "output_type": "stream",
     "text": [
      "1e-10\n",
      "-408447.1725937392\n",
      "1e-11\n",
      "-401029.7499310353\n",
      "1e-12\n",
      "-395451.5639476739\n",
      "1e-13\n",
      "-391822.8258285545\n",
      "1e-14\n",
      "-390509.703367613\n",
      "1e-15\n",
      "-390219.589475824\n",
      "1e-16\n",
      "-390162.96969524707\n",
      "1e-17\n",
      "-390154.14079073473\n",
      "1e-18\n",
      "-390153.29516965064\n",
      "Optimal values q and sigma:  7.78046803657778e-15 88.20696138388273\n"
     ]
    }
   ],
   "source": [
    "q_list = [1e-10,1e-11, 1e-12,1e-13,1e-14,1e-15,1e-16, 1e-17, 1e-18]\n",
    "\n",
    "optim = Q_optimization(X_train, train_set[[\"targetTime\", \"node\"]], GAM=True, gam_model=gam_model)\n",
    "\n",
    "Q, sigma, P, theta1 = optim.grid_search_reduced_likelihood(q_list=q_list,std_static=std_static)"
   ]
  },
  {
   "cell_type": "code",
   "execution_count": 33,
   "id": "b5eb523a-8b89-4522-a1f2-9596c5313231",
   "metadata": {},
   "outputs": [],
   "source": [
    "kf_dynamic = Kalman_Filter(gam_model=gam_model, Q=Q, sigma=sigma, P=P, theta1=theta1)\n",
    "kf_dynamic.fit(X_train, Y_train)\n",
    "\n",
    "y_Kalman_dynamic_delay_red_lik_std, _ = kf_dynamic.predict(X_test, test_set, delay=True)"
   ]
  },
  {
   "cell_type": "code",
   "execution_count": 34,
   "id": "4832324c-ad30-431c-b5f8-fb6aeda967b3",
   "metadata": {},
   "outputs": [
    {
     "name": "stdout",
     "output_type": "stream",
     "text": [
      "Matrix computed with viking\n",
      "\n",
      "RMSE Dynamic Kalman filter delay:  98.19917114371496\n",
      "MAE Dynamic Kalman filter delay:  63.11533778985044\n",
      "MAPE Dynamic Kalman filter delay:  0.04425802906298657\n",
      "\n",
      "Matrix computed with maximizing reduced likelihood with Q=q*I_d\n",
      "\n",
      "RMSE Dynamic Kalman filter delay:  88.02067957741866\n",
      "MAE Dynamic Kalman filter delay:  63.828623159031956\n",
      "MAPE Dynamic Kalman filter delay:  0.04677354742071657\n",
      "\n",
      "Matrix computed with maximizing reduced likelihood with Q=q*I_d and optimizing theta_1|0\n",
      "\n",
      "RMSE Dynamic Kalman filter delay:  113.7558506736766\n",
      "MAE Dynamic Kalman filter delay:  85.33680948688767\n",
      "MAPE Dynamic Kalman filter delay:  0.06528497339207252\n",
      "\n",
      "Matrix computed with maximizing reduced likelihood with Q=q*diag(std_static^2)\n",
      "\n",
      "RMSE Dynamic Kalman filter delay:  113.50555817635724\n",
      "MAE Dynamic Kalman filter delay:  85.14674099884023\n",
      "MAPE Dynamic Kalman filter delay:  0.06513621822095263\n"
     ]
    }
   ],
   "source": [
    "print(\"Matrix computed with viking\")\n",
    "print(\"\\nRMSE Dynamic Kalman filter delay: \", RMSE(test_set['node'], y_Kalman_dynamic_delay))\n",
    "print(\"MAE Dynamic Kalman filter delay: \", MAE(test_set['node'], y_Kalman_dynamic_delay))\n",
    "print(\"MAPE Dynamic Kalman filter delay: \", MAPE(test_set['node'], y_Kalman_dynamic_delay))\n",
    "\n",
    "print(\"\\nMatrix computed with maximizing reduced likelihood with Q=q*I_d\")\n",
    "print(\"\\nRMSE Dynamic Kalman filter delay: \", RMSE(test_set['node'], y_Kalman_dynamic_delay_red_lik))\n",
    "print(\"MAE Dynamic Kalman filter delay: \", MAE(test_set['node'], y_Kalman_dynamic_delay_red_lik))\n",
    "print(\"MAPE Dynamic Kalman filter delay: \", MAPE(test_set['node'], y_Kalman_dynamic_delay_red_lik))\n",
    "\n",
    "print(\"\\nMatrix computed with maximizing reduced likelihood with Q=q*I_d and optimizing theta_1|0\")\n",
    "print(\"\\nRMSE Dynamic Kalman filter delay: \", RMSE(test_set['node'], y_Kalman_dynamic_delay_red_lik_theta1))\n",
    "print(\"MAE Dynamic Kalman filter delay: \", MAE(test_set['node'], y_Kalman_dynamic_delay_red_lik_theta1))\n",
    "print(\"MAPE Dynamic Kalman filter delay: \", MAPE(test_set['node'], y_Kalman_dynamic_delay_red_lik_theta1))\n",
    "\n",
    "print(\"\\nMatrix computed with maximizing reduced likelihood with Q=q*diag(std_static^2)\")\n",
    "print(\"\\nRMSE Dynamic Kalman filter delay: \", RMSE(test_set['node'], y_Kalman_dynamic_delay_red_lik_std))\n",
    "print(\"MAE Dynamic Kalman filter delay: \", MAE(test_set['node'], y_Kalman_dynamic_delay_red_lik_std))\n",
    "print(\"MAPE Dynamic Kalman filter delay: \", MAPE(test_set['node'], y_Kalman_dynamic_delay_red_lik_std))"
   ]
  },
  {
   "cell_type": "code",
   "execution_count": null,
   "id": "305e67a4-70f0-41ef-be91-23b7435a80cb",
   "metadata": {},
   "outputs": [],
   "source": []
  },
  {
   "cell_type": "code",
   "execution_count": null,
   "id": "72d5b35f-23a9-40cf-aded-39f6327b456d",
   "metadata": {},
   "outputs": [],
   "source": []
  },
  {
   "cell_type": "code",
   "execution_count": null,
   "id": "7e7ac262-e1a7-4f2a-aedd-8bb40cea23f9",
   "metadata": {},
   "outputs": [],
   "source": []
  },
  {
   "cell_type": "markdown",
   "id": "6d471bb4-b878-4fd8-b298-a5482dbf8f9f",
   "metadata": {},
   "source": [
    "Instead of using the net-load as target variable we use the 7d differenced net-load time series "
   ]
  },
  {
   "cell_type": "markdown",
   "id": "29571628-3452-4306-a81c-4968dabc335b",
   "metadata": {},
   "source": [
    "# GAM model\n",
    "Target variable: 7 days Differenced Net-Load"
   ]
  },
  {
   "cell_type": "code",
   "execution_count": 35,
   "id": "b15f8ba9-bda4-4207-bed8-398bf1ab90cd",
   "metadata": {},
   "outputs": [
    {
     "name": "stdout",
     "output_type": "stream",
     "text": [
      "RMSE GAM 7d differenced net-load:  119.90152540470072\n",
      "MAE GAM 7d differenced net-load:  91.31652516097206\n",
      "MAPE GAM 7d differenced net-load:  0.06540853980148932\n"
     ]
    }
   ],
   "source": [
    "from pygam import LinearGAM, s, f, l, te\n",
    "\n",
    "target_var = 'diff_336'\n",
    "\n",
    "X_train, Y_train = dataset_preprocessing(train_set, features, features_to_standardize, target_var)\n",
    "X_test, Y_test = dataset_preprocessing(test_set, features, features_to_standardize, target_var)\n",
    "\n",
    "gam_model_diff7d = LinearGAM(l(0) + l(1) + l(2) + l(3) + l(4) + l(5) + l(6) + s(7,n_splines=35,basis='cp') + f(8) + f(9) + \n",
    "                         te(7,8,n_splines=30,dtype=['numerical','categorical'],basis='cp')+te(7,9,n_splines=20,dtype=['numerical','categorical'],basis='cp')+\n",
    "                         s(10,n_splines=35,basis='cp')+s(11,n_splines=35,basis='cp')+s(12,n_splines=5,basis='cp')+ \n",
    "                         te(13,14,n_splines=20,basis='cp')+l(15)+s(16,n_splines=5,basis='cp')+te(10,7,n_splines=17)+te(16,7,n_splines=17))\n",
    "\n",
    "gam_model_diff7d.fit(np.array(X_train), np.array(Y_train))\n",
    "y_GAM = gam_model_diff7d.predict(np.array(X_test))\n",
    "\n",
    "# We sum the value of 7 days before to the predicted difference\n",
    "y_pred = test_set['y0_336'] + y_GAM\n",
    "\n",
    "print(\"RMSE GAM 7d differenced net-load: \", RMSE(np.array(test_set['node']), y_pred))\n",
    "print(\"MAE GAM 7d differenced net-load: \", MAE(np.array(test_set['node']), y_pred))\n",
    "print(\"MAPE GAM 7d differenced net-load: \", MAPE(np.array(test_set['node']), y_pred))"
   ]
  },
  {
   "cell_type": "markdown",
   "id": "b8f591c4-4ce9-4230-ad48-b47106239acc",
   "metadata": {},
   "source": [
    "## Static Kalman Filter"
   ]
  },
  {
   "cell_type": "code",
   "execution_count": 36,
   "id": "7ad80f36-7f5d-4a11-b2e4-bb9c88759ccb",
   "metadata": {
    "tags": []
   },
   "outputs": [],
   "source": [
    "kf_static = Kalman_Filter(gam_model=gam_model_diff7d)\n",
    "kf_static.fit(X_train, Y_train)\n",
    "std_static = np.std(kf_static.theta_mat[1000:],axis=0)"
   ]
  },
  {
   "cell_type": "code",
   "execution_count": 37,
   "id": "8893b040-cb07-4f4a-acb4-26e5915936ab",
   "metadata": {},
   "outputs": [],
   "source": [
    "y_Kalman_static, y_Kalman_static_std = kf_static.predict(X_test, Y_test)\n",
    "y_Kalman_static_delay, y_Kalman_static_std_delay = kf_static.predict(X_test, test_set[[\"targetTime\", \"diff_336\"]], delay=True)\n",
    "\n",
    "y_Kalman_static += test_set['y0_336']\n",
    "y_Kalman_static_delay += test_set['y0_336']"
   ]
  },
  {
   "cell_type": "code",
   "execution_count": 38,
   "id": "896c09a3-c9e7-4750-9ca8-7684e8906949",
   "metadata": {},
   "outputs": [
    {
     "name": "stdout",
     "output_type": "stream",
     "text": [
      "RMSE Static Kalman filter:  99.90273691043285\n",
      "MAE Static Kalman filter:  65.54380808532287\n",
      "MAPE Static Kalman filter:  0.04613844868922217\n",
      "\n",
      "RMSE Static Kalman filter delay:  101.08664132111892\n",
      "MAE Static Kalman filter delay:  66.42428430752474\n",
      "MAPE Static Kalman filter delay:  0.046770948316315224\n"
     ]
    }
   ],
   "source": [
    "print(\"RMSE Static Kalman filter: \", RMSE(test_set['node'], y_Kalman_static))\n",
    "print(\"MAE Static Kalman filter: \", MAE(test_set['node'], y_Kalman_static))\n",
    "print(\"MAPE Static Kalman filter: \", MAPE(test_set['node'], y_Kalman_static))\n",
    "\n",
    "print(\"\\nRMSE Static Kalman filter delay: \", RMSE(test_set['node'], y_Kalman_static_delay))\n",
    "print(\"MAE Static Kalman filter delay: \", MAE(test_set['node'], y_Kalman_static_delay))\n",
    "print(\"MAPE Static Kalman filter delay: \", MAPE(test_set['node'], y_Kalman_static_delay))"
   ]
  },
  {
   "cell_type": "markdown",
   "id": "c9ce0d3f-ae45-4125-93aa-0d708a55d4d6",
   "metadata": {},
   "source": [
    "## Dynamic Kalman Filter"
   ]
  },
  {
   "cell_type": "markdown",
   "id": "f69a5e29-c859-440e-bf4b-a896296dfcc0",
   "metadata": {},
   "source": [
    "### Optimized matrix for C (viking package)"
   ]
  },
  {
   "cell_type": "code",
   "execution_count": 39,
   "id": "f94b08c2-3a2d-41da-82a3-70dffd11f3b3",
   "metadata": {},
   "outputs": [],
   "source": [
    "with open('DynamicKF_matrices_py/Q_C.npy', 'rb') as f:\n",
    "    Q = np.load(f)\n",
    "    sigma = np.load(f)\n",
    "    theta = np.load(f)\n",
    "    P = np.load(f)\n",
    "    \n",
    "kf_dynamic = Kalman_Filter(gam_model=gam_model_diff7d, Q=Q, sigma=sigma, P=P, theta1=theta)\n",
    "kf_dynamic.fit(X_train, Y_train)\n",
    "\n",
    "y_Kalman_dynamic, y_Kalman_dynamic_std = kf_dynamic.predict(X_test, Y_test)\n",
    "y_Kalman_dynamic_delay, y_Kalman_dynamic_delay_std = kf_dynamic.predict(X_test, test_set[[\"targetTime\", \"diff_336\"]], delay=True)\n",
    "\n",
    "y_Kalman_dynamic_delay += test_set[\"y0_336\"]"
   ]
  },
  {
   "cell_type": "markdown",
   "id": "14ba62c6-4f41-4f65-bebb-d1f4c4c697aa",
   "metadata": {},
   "source": [
    "### Optimized matrix C (Likelihood maximization)"
   ]
  },
  {
   "cell_type": "markdown",
   "id": "20c64949-9ffc-484a-ac2b-0ba347c2d72b",
   "metadata": {},
   "source": [
    "In this case we assume Q=q*I_d"
   ]
  },
  {
   "cell_type": "code",
   "execution_count": 40,
   "id": "8dd1086a-6478-4ad4-961f-39b6159ddbfd",
   "metadata": {},
   "outputs": [
    {
     "name": "stdout",
     "output_type": "stream",
     "text": [
      "1e-10\n",
      "-394063.7727129622\n",
      "1e-11\n",
      "-389985.8982999747\n",
      "1e-12\n",
      "-388113.49992847483\n",
      "1e-13\n",
      "-387843.51650194573\n",
      "1e-14\n",
      "-387854.183034785\n",
      "1e-15\n",
      "-387859.4804858192\n",
      "1e-16\n",
      "-387860.1694575955\n",
      "1e-17\n",
      "-387860.24049783393\n",
      "1e-18\n",
      "-387860.2476297433\n",
      "Optimal values q and sigma:  7.398531572085447e-10 86.01471718308122\n"
     ]
    }
   ],
   "source": [
    "q_list = [1e-10,1e-11, 1e-12,1e-13,1e-14,1e-15,1e-16, 1e-17, 1e-18]\n",
    "\n",
    "optim = Q_optimization(X_train, train_set[[\"targetTime\", \"diff_336\"]], GAM=True, gam_model=gam_model_diff7d)\n",
    "\n",
    "Q, sigma, P, theta1 = optim.grid_search_reduced_likelihood(q_list=q_list)  "
   ]
  },
  {
   "cell_type": "code",
   "execution_count": 41,
   "id": "db0da9e6-1b82-46cd-924e-0c9be1d4df99",
   "metadata": {},
   "outputs": [],
   "source": [
    "kf_dynamic = Kalman_Filter(gam_model=gam_model_diff7d, Q=Q, sigma=sigma, P=P, theta1=theta1)\n",
    "kf_dynamic.fit(X_train, Y_train)\n",
    "\n",
    "y_Kalman_dynamic_delay_red_lik, _ = kf_dynamic.predict(X_test, test_set[[\"targetTime\", \"diff_336\"]], delay=True)\n",
    "\n",
    "y_Kalman_dynamic_delay_red_lik += test_set[\"y0_336\"]"
   ]
  },
  {
   "cell_type": "markdown",
   "id": "47f56416-a4a9-4342-92d6-e2eca773b4b0",
   "metadata": {},
   "source": [
    "### Optimized matrix C (Likelihood maximization)"
   ]
  },
  {
   "cell_type": "markdown",
   "id": "8d21e4bb-c7b8-4897-a732-9bd72ee44278",
   "metadata": {},
   "source": [
    "In this case we assume Q=q*I_d and we optimize theta_1|0"
   ]
  },
  {
   "cell_type": "code",
   "execution_count": 42,
   "id": "4e474e26-033d-4fb3-a220-54081871dc9f",
   "metadata": {},
   "outputs": [
    {
     "name": "stdout",
     "output_type": "stream",
     "text": [
      "1e-10\n",
      "-394291.65299614304\n",
      "1e-11\n",
      "-390314.7315130581\n",
      "1e-12\n",
      "-388452.3770082693\n",
      "1e-13\n",
      "-388181.00963894307\n",
      "1e-14\n",
      "-388191.165797582\n",
      "1e-15\n",
      "-388196.37806173955\n",
      "1e-16\n",
      "-388197.0572666222\n",
      "1e-17\n",
      "-388197.1273139054\n",
      "1e-18\n",
      "-388197.13434602384\n",
      "Optimal values q and sigma:  7.456342836538036e-10 86.35011775636461\n"
     ]
    }
   ],
   "source": [
    "q_list = [1e-10,1e-11, 1e-12,1e-13,1e-14,1e-15,1e-16, 1e-17, 1e-18]\n",
    "\n",
    "optim = Q_optimization(X_train, train_set[[\"targetTime\", \"diff_336\"]], GAM=True, gam_model=gam_model_diff7d)\n",
    "\n",
    "Q, sigma, P, theta1 = optim.grid_search_reduced_likelihood(q_list=q_list, fit_theta1=True)  "
   ]
  },
  {
   "cell_type": "code",
   "execution_count": 43,
   "id": "89cae466-7542-497a-a863-64bb2ab90381",
   "metadata": {},
   "outputs": [],
   "source": [
    "kf_dynamic = Kalman_Filter(gam_model=gam_model_diff7d, Q=Q, sigma=sigma, P=P, theta1=theta1)\n",
    "kf_dynamic.fit(X_train, Y_train)\n",
    "\n",
    "y_Kalman_dynamic_delay_red_lik_theta1, _ = kf_dynamic.predict(X_test, test_set[[\"targetTime\", \"diff_336\"]], delay=True)\n",
    "\n",
    "y_Kalman_dynamic_delay_red_lik_theta1 += test_set[\"y0_336\"]"
   ]
  },
  {
   "cell_type": "markdown",
   "id": "9bea12c2-53b6-4997-a8a9-6e26b9bb6b88",
   "metadata": {},
   "source": [
    "### Optimized matrix C (Likelihood maximization)"
   ]
  },
  {
   "cell_type": "markdown",
   "id": "44918be0-e47d-4fce-8a83-e333c623d866",
   "metadata": {},
   "source": [
    "In this case we assume Q=q*np.diag(std_static^2)"
   ]
  },
  {
   "cell_type": "code",
   "execution_count": 44,
   "id": "0613f5fa-4ad5-4dd9-81cd-dee92f06203f",
   "metadata": {},
   "outputs": [
    {
     "name": "stdout",
     "output_type": "stream",
     "text": [
      "1e-10\n",
      "-416925.02665342373\n",
      "1e-11\n",
      "-397299.7607112499\n",
      "1e-12\n",
      "-393191.4567143116\n",
      "1e-13\n",
      "-391513.3456755574\n",
      "1e-14\n",
      "-389305.02562948473\n",
      "1e-15\n",
      "-388107.19012664113\n",
      "1e-16\n",
      "-387889.9257131878\n",
      "1e-17\n",
      "-387863.73035246157\n",
      "1e-18\n",
      "-387860.53691802\n",
      "Optimal values q and sigma:  7.40227721405959e-15 86.03648769016311\n"
     ]
    }
   ],
   "source": [
    "q_list = [1e-10,1e-11, 1e-12,1e-13,1e-14,1e-15,1e-16, 1e-17, 1e-18]\n",
    "\n",
    "optim = Q_optimization(X_train, train_set[[\"targetTime\", \"diff_336\"]], GAM=True, gam_model=gam_model_diff7d)\n",
    "\n",
    "Q, sigma, P, theta1 = optim.grid_search_reduced_likelihood(q_list=q_list,std_static=std_static)"
   ]
  },
  {
   "cell_type": "code",
   "execution_count": 45,
   "id": "7791e823-c905-4417-ba9d-d3156235cced",
   "metadata": {},
   "outputs": [],
   "source": [
    "kf_dynamic = Kalman_Filter(gam_model=gam_model_diff7d, Q=Q, sigma=sigma, P=P, theta1=theta1)\n",
    "kf_dynamic.fit(X_train, Y_train)\n",
    "\n",
    "y_Kalman_dynamic_delay_red_lik_std, _ = kf_dynamic.predict(X_test, test_set[[\"targetTime\", \"diff_336\"]], delay=True)\n",
    "\n",
    "y_Kalman_dynamic_delay_red_lik_std += test_set[\"y0_336\"]"
   ]
  },
  {
   "cell_type": "code",
   "execution_count": 46,
   "id": "d293cd34-502d-4b5f-8e6d-896934c43d82",
   "metadata": {},
   "outputs": [
    {
     "name": "stdout",
     "output_type": "stream",
     "text": [
      "Matrix computed with viking\n",
      "\n",
      "RMSE Dynamic Kalman filter delay:  93.89631242902307\n",
      "MAE Dynamic Kalman filter delay:  62.25254549359604\n",
      "MAPE Dynamic Kalman filter delay:  0.04319602461355376\n",
      "\n",
      "Matrix computed by maximizing the reduced likelihood with Q=q*I_d\n",
      "\n",
      "RMSE Dynamic Kalman filter delay:  95.68062259647817\n",
      "MAE Dynamic Kalman filter delay:  61.23181933897266\n",
      "MAPE Dynamic Kalman filter delay:  0.04280051213181611\n",
      "\n",
      "Matrix computed by maximizing the reduced likelihood with Q=q*I_d and optimizing theta_1|0\n",
      "\n",
      "RMSE Dynamic Kalman filter delay:  95.68074181863251\n",
      "MAE Dynamic Kalman filter delay:  61.23188462023432\n",
      "MAPE Dynamic Kalman filter delay:  0.04280058404134215\n",
      "\n",
      "Matrix computed by maximizing the reduced likelihood with Q=q*diag(std_static^2)\n",
      "\n",
      "RMSE Dynamic Kalman filter delay:  100.50351325877793\n",
      "MAE Dynamic Kalman filter delay:  65.75743332974801\n",
      "MAPE Dynamic Kalman filter delay:  0.04622833522523172\n"
     ]
    }
   ],
   "source": [
    "print(\"Matrix computed with viking\")\n",
    "print(\"\\nRMSE Dynamic Kalman filter delay: \", RMSE(test_set['node'], y_Kalman_dynamic_delay))\n",
    "print(\"MAE Dynamic Kalman filter delay: \", MAE(test_set['node'], y_Kalman_dynamic_delay))\n",
    "print(\"MAPE Dynamic Kalman filter delay: \", MAPE(test_set['node'], y_Kalman_dynamic_delay))\n",
    "\n",
    "print(\"\\nMatrix computed by maximizing the reduced likelihood with Q=q*I_d\")\n",
    "print(\"\\nRMSE Dynamic Kalman filter delay: \", RMSE(test_set['node'], y_Kalman_dynamic_delay_red_lik))\n",
    "print(\"MAE Dynamic Kalman filter delay: \", MAE(test_set['node'], y_Kalman_dynamic_delay_red_lik))\n",
    "print(\"MAPE Dynamic Kalman filter delay: \", MAPE(test_set['node'], y_Kalman_dynamic_delay_red_lik))\n",
    "\n",
    "print(\"\\nMatrix computed by maximizing the reduced likelihood with Q=q*I_d and optimizing theta_1|0\")\n",
    "print(\"\\nRMSE Dynamic Kalman filter delay: \", RMSE(test_set['node'], y_Kalman_dynamic_delay_red_lik_theta1))\n",
    "print(\"MAE Dynamic Kalman filter delay: \", MAE(test_set['node'], y_Kalman_dynamic_delay_red_lik_theta1))\n",
    "print(\"MAPE Dynamic Kalman filter delay: \", MAPE(test_set['node'], y_Kalman_dynamic_delay_red_lik_theta1))\n",
    "\n",
    "print(\"\\nMatrix computed by maximizing the reduced likelihood with Q=q*diag(std_static^2)\")\n",
    "print(\"\\nRMSE Dynamic Kalman filter delay: \", RMSE(test_set['node'], y_Kalman_dynamic_delay_red_lik_std))\n",
    "print(\"MAE Dynamic Kalman filter delay: \", MAE(test_set['node'], y_Kalman_dynamic_delay_red_lik_std))\n",
    "print(\"MAPE Dynamic Kalman filter delay: \", MAPE(test_set['node'], y_Kalman_dynamic_delay_red_lik_std))"
   ]
  },
  {
   "cell_type": "code",
   "execution_count": null,
   "id": "92a16d47-4bfd-4042-8bc2-88a5846089ff",
   "metadata": {},
   "outputs": [],
   "source": []
  },
  {
   "cell_type": "code",
   "execution_count": null,
   "id": "4d5899ec-6439-4065-b40b-9fec9dd82a7d",
   "metadata": {},
   "outputs": [],
   "source": []
  },
  {
   "cell_type": "markdown",
   "id": "b21f3de9-be5f-4c33-9683-621ac61b509f",
   "metadata": {},
   "source": [
    "# Linear Regression Model\n",
    "Target: 7d differences TS of net-load"
   ]
  },
  {
   "cell_type": "code",
   "execution_count": 47,
   "id": "03f6da8b-86f0-4650-bd49-f58a294b83a4",
   "metadata": {},
   "outputs": [
    {
     "name": "stdout",
     "output_type": "stream",
     "text": [
      "7days Differenced net-load\n",
      "test set RMSE:  80.53126338579877\n",
      "test set MAE:  59.08330261900626\n",
      "test set MAPE:  0.0423306131807183\n"
     ]
    }
   ],
   "source": [
    "St_train = regression_feature_matrix(train_set)\n",
    "\n",
    "model = sm.OLS(train_set[\"diff_336\"], St_train)\n",
    "results = model.fit()             \n",
    "params = results.params\n",
    "\n",
    "St = regression_feature_matrix(GroupC_df)\n",
    "\n",
    "# Adding \n",
    "GroupC_df['y_diff_OLS'] = np.array(GroupC_df['y0_336']) + St@params\n",
    "GroupC_df['res_diff_OLS'] = np.array(GroupC_df['node'])- np.array(GroupC_df['y_diff_OLS'])\n",
    "\n",
    "# Train set\n",
    "train_set = GroupC_df[720:87440] \n",
    "#Test set\n",
    "test_set = GroupC_df[87440:]\n",
    "\n",
    "print(\"7days Differenced net-load\")\n",
    "print(\"test set RMSE: \", RMSE(test_set[\"node\"], test_set[\"y_diff_OLS\"]))\n",
    "print(\"test set MAE: \", MAE(np.array(test_set['node']), test_set[\"y_diff_OLS\"]))\n",
    "print(\"test set MAPE: \", MAPE(np.array(test_set['node']), test_set[\"y_diff_OLS\"]))"
   ]
  },
  {
   "cell_type": "markdown",
   "id": "fec47dc3-4d33-4505-a7f1-c7e3e0d9f343",
   "metadata": {},
   "source": [
    "## Static Kalman Filter"
   ]
  },
  {
   "cell_type": "code",
   "execution_count": 48,
   "id": "94cbc943-0787-438c-a8e1-b66a6614c9cf",
   "metadata": {},
   "outputs": [],
   "source": [
    "kf_static_OLS = Kalman_Filter(GAM=False)\n",
    "kf_static_OLS.fit(St_train, train_set['diff_336'])\n",
    "std_static_OLS = np.std(kf_static_OLS.theta_mat[1000:],axis=0)"
   ]
  },
  {
   "cell_type": "code",
   "execution_count": 49,
   "id": "f67a2633-7d4d-4d26-ad8b-0293fb3178ee",
   "metadata": {},
   "outputs": [],
   "source": [
    "St_test = regression_feature_matrix(test_set)\n",
    "y_static_mean, y_static_std = kf_static_OLS.predict(St_test, test_set[[\"targetTime\", \"diff_336\"]], delay=True) #, const_delay=True)\n",
    "\n",
    "y_static_mean += test_set[\"y0_336\"]"
   ]
  },
  {
   "cell_type": "code",
   "execution_count": 50,
   "id": "64d62aa4-9f0e-4428-bdf2-e9c0a253aece",
   "metadata": {},
   "outputs": [
    {
     "name": "stdout",
     "output_type": "stream",
     "text": [
      "Static Kalman Filter on Linear Regression\n",
      "RMSE:  73.50740988249413\n",
      "MAE:  52.18998061937748\n",
      "MAPE:  0.03750610093703239\n"
     ]
    }
   ],
   "source": [
    "print(\"Static Kalman Filter on Linear Regression\")\n",
    "print(\"RMSE: \", RMSE(test_set[\"node\"], y_static_mean))\n",
    "print(\"MAE: \", MAE(np.array(test_set['node']), y_static_mean))\n",
    "print(\"MAPE: \", MAPE(np.array(test_set['node']), y_static_mean))"
   ]
  },
  {
   "cell_type": "markdown",
   "id": "6ce7ad74-4d18-423f-b2d2-a3741eba82d9",
   "metadata": {},
   "source": [
    "## Dynamic Kalman Filter"
   ]
  },
  {
   "cell_type": "code",
   "execution_count": 51,
   "id": "abccc44f-2712-4262-8e11-f9b7ebc1ea14",
   "metadata": {},
   "outputs": [
    {
     "name": "stdout",
     "output_type": "stream",
     "text": [
      "1e-10\n",
      "-392048.32044473675\n",
      "1e-11\n",
      "-384957.8566650868\n",
      "1e-12\n",
      "-383735.4130453489\n",
      "1e-13\n",
      "-378810.0133804249\n",
      "1e-14\n",
      "-375140.3733233612\n",
      "1e-15\n",
      "-374389.2151213994\n",
      "1e-16\n",
      "-374434.3042253129\n",
      "1e-17\n",
      "-374719.2707749869\n",
      "1e-18\n",
      "-375298.7991400517\n",
      "Optimal values q and sigma:  5.262282031350064e-12 72.54158828803008\n"
     ]
    }
   ],
   "source": [
    "q_list = [1e-10,1e-11, 1e-12, 1e-13,1e-14,1e-15,1e-16, 1e-17, 1e-18]\n",
    "\n",
    "optim = Q_optimization(St_train, train_set[[\"targetTime\", \"diff_336\"]])\n",
    "\n",
    "Q, sigma, P, theta1 = optim.grid_search_reduced_likelihood(q_list=q_list, std_static=std_static_OLS, const_delay=False) #, fit_theta1=True)"
   ]
  },
  {
   "cell_type": "code",
   "execution_count": 52,
   "id": "b37a8b5d-abd2-48f1-ae35-a9c12d4d7703",
   "metadata": {
    "tags": []
   },
   "outputs": [],
   "source": [
    "kf_dynamic_OLS = Kalman_Filter(GAM=False, Q=Q, sigma=sigma, P=P, theta1=theta1)\n",
    "kf_dynamic_OLS.fit(St_train, train_set['diff_336'])"
   ]
  },
  {
   "cell_type": "code",
   "execution_count": 53,
   "id": "68245cc9-75e7-4046-86b3-fe40a38b489d",
   "metadata": {},
   "outputs": [],
   "source": [
    "St_test = regression_feature_matrix(test_set)\n",
    "\n",
    "y_dynamic_mean, y_dynamic_std = kf_dynamic_OLS.predict(St_test, test_set[[\"targetTime\", \"diff_336\"]], delay=True, const_delay=False)\n",
    "\n",
    "y_dynamic_mean += test_set[\"y0_336\"]"
   ]
  },
  {
   "cell_type": "code",
   "execution_count": 54,
   "id": "241a4922-82d9-4dc5-9b39-c32a6b25bb36",
   "metadata": {},
   "outputs": [
    {
     "name": "stdout",
     "output_type": "stream",
     "text": [
      "Dynamic Kalman Filter on Linear Regression Model\n",
      "Matrix obtained by likelihood maximization\n",
      "RMSE:  69.72750618615473\n",
      "MAE:  48.85004966316072\n",
      "MAPE:  0.03546609192556349\n"
     ]
    }
   ],
   "source": [
    "print(\"Dynamic Kalman Filter on Linear Regression Model\")\n",
    "print(\"Matrix obtained by likelihood maximization\")\n",
    "print(\"RMSE: \", RMSE(test_set[\"node\"], y_dynamic_mean))\n",
    "print(\"MAE: \", MAE(np.array(test_set['node']), y_dynamic_mean))\n",
    "print(\"MAPE: \", MAPE(np.array(test_set['node']), y_dynamic_mean))"
   ]
  },
  {
   "cell_type": "code",
   "execution_count": null,
   "id": "1b1407ae-362c-478f-91c8-3c51b75419c6",
   "metadata": {},
   "outputs": [],
   "source": []
  },
  {
   "cell_type": "code",
   "execution_count": null,
   "id": "2c796f95-22b4-4529-abcc-e4093767a38c",
   "metadata": {},
   "outputs": [],
   "source": []
  },
  {
   "cell_type": "markdown",
   "id": "b7b29cf0-f7f5-4e6b-85fb-72590627fa97",
   "metadata": {},
   "source": [
    "## Kalman Filter - Linear Regression - Grouped Parameters"
   ]
  },
  {
   "cell_type": "markdown",
   "id": "6b9d3e4b-e917-4697-b8fd-be81e58cc6d9",
   "metadata": {},
   "source": [
    "### Static Kalman Filter"
   ]
  },
  {
   "cell_type": "code",
   "execution_count": 55,
   "id": "d1d5f4ea-da92-43c1-8b86-ee4053ad3fda",
   "metadata": {},
   "outputs": [],
   "source": [
    "kf_static_OLS = Kalman_Filter(GAM=False,total_mat=False, params=params)\n",
    "kf_static_OLS.fit(St_train, train_set['diff_336'])\n",
    "std_static_OLS_grouped = np.std(kf_static_OLS.theta_mat[1000:],axis=0)"
   ]
  },
  {
   "cell_type": "code",
   "execution_count": 56,
   "id": "e5d05062-b3e5-45e1-b723-4c7383f35354",
   "metadata": {},
   "outputs": [],
   "source": [
    "St_test = regression_feature_matrix(test_set)\n",
    "y_static_mean, y_static_std = kf_static_OLS.predict(St_test, test_set[[\"targetTime\", \"diff_336\"]], delay=True)\n",
    "\n",
    "y_static_mean += test_set[\"y0_336\"]"
   ]
  },
  {
   "cell_type": "code",
   "execution_count": 57,
   "id": "b69ea486-3f85-4a3b-be74-2e14e104e87a",
   "metadata": {},
   "outputs": [
    {
     "name": "stdout",
     "output_type": "stream",
     "text": [
      "Static Kalman Filter on Linear Regression\n",
      "RMSE:  74.32902425016431\n",
      "MAE:  52.84716985689811\n",
      "MAPE:  0.037963722562989057\n"
     ]
    }
   ],
   "source": [
    "print(\"Static Kalman Filter on Linear Regression\")\n",
    "print(\"RMSE: \", RMSE(test_set[\"node\"], y_static_mean))\n",
    "print(\"MAE: \", MAE(np.array(test_set['node']), y_static_mean))\n",
    "print(\"MAPE: \", MAPE(np.array(test_set['node']), y_static_mean))"
   ]
  },
  {
   "cell_type": "markdown",
   "id": "d8da1205-6d13-45b3-bcdd-642de293ecf2",
   "metadata": {},
   "source": [
    "### Dynamic Kalman Filter"
   ]
  },
  {
   "cell_type": "code",
   "execution_count": 58,
   "id": "3407c92b-2239-4f50-8e8d-8a4d1d62f20a",
   "metadata": {},
   "outputs": [
    {
     "name": "stdout",
     "output_type": "stream",
     "text": [
      "1e-16\n",
      "-372639.7528611937\n",
      "1e-17\n",
      "-371087.0223570123\n",
      "Optimal values q and sigma:  4.9874417422681095e-14 70.62182199765246\n"
     ]
    }
   ],
   "source": [
    "#q_list = [1e-11, 1e-12, 1e-13,1e-14,1e-15,1e-16, 1e-17, 1e-18] #, 1e-19, 1e-20]\n",
    "q_list = [1e-16,1e-17]\n",
    "\n",
    "optim = Q_optimization(St_train, train_set[[\"targetTime\", \"diff_336\"]],total_mat=False, params=params)\n",
    "\n",
    "Q, sigma, P, theta1 = optim.grid_search_reduced_likelihood(q_list=q_list) #,std_static=std_static_OLS_grouped)"
   ]
  },
  {
   "cell_type": "code",
   "execution_count": 59,
   "id": "47432f27-0d18-4269-9ff4-eb51f28a9447",
   "metadata": {
    "tags": []
   },
   "outputs": [],
   "source": [
    "kf_dynamic_OLS = Kalman_Filter(GAM=False, Q=Q, sigma=sigma, P=P, theta1=theta1,total_mat=False, params=params)\n",
    "kf_dynamic_OLS.fit(St_train, train_set['diff_336'])"
   ]
  },
  {
   "cell_type": "code",
   "execution_count": 60,
   "id": "cd8ed89e-14a5-427b-9951-262bb407a7a2",
   "metadata": {},
   "outputs": [],
   "source": [
    "St_test = regression_feature_matrix(test_set)\n",
    "\n",
    "y_dynamic_mean, y_dynamic_std = kf_dynamic_OLS.predict(St_test, test_set[[\"targetTime\", \"diff_336\"]], delay=True)\n",
    "\n",
    "y_dynamic_mean += test_set[\"y0_336\"]"
   ]
  },
  {
   "cell_type": "code",
   "execution_count": 61,
   "id": "9da6e45a-b0f6-4c88-b719-9df3a6335736",
   "metadata": {},
   "outputs": [
    {
     "name": "stdout",
     "output_type": "stream",
     "text": [
      "Dynamic Kalman Filter on Linear Regression Model\n",
      "Matrix obtained by maximizing the reduced likelihood\n",
      "RMSE:  69.80184331146955\n",
      "MAE:  49.66491800640277\n",
      "MAPE:  0.036252111464298756\n"
     ]
    }
   ],
   "source": [
    "print(\"Dynamic Kalman Filter on Linear Regression Model\")\n",
    "print(\"Matrix obtained by likelihood maximization\")\n",
    "print(\"RMSE: \", RMSE(np.array(test_set['node']), y_dynamic_mean))\n",
    "print(\"MAE: \", MAE(np.array(test_set['node']), y_dynamic_mean))\n",
    "print(\"MAPE: \", MAPE(np.array(test_set['node']), y_dynamic_mean))"
   ]
  },
  {
   "cell_type": "code",
   "execution_count": null,
   "id": "b61ba8d3-8aa6-4838-a9fb-9e6104be389b",
   "metadata": {},
   "outputs": [],
   "source": []
  },
  {
   "cell_type": "code",
   "execution_count": null,
   "id": "82e11432-d067-4025-b4f5-af22cf093a4e",
   "metadata": {},
   "outputs": [],
   "source": []
  },
  {
   "cell_type": "code",
   "execution_count": null,
   "id": "c0c5e7f3-8ea4-4aec-ab56-9a3028d42eaa",
   "metadata": {},
   "outputs": [],
   "source": []
  },
  {
   "cell_type": "code",
   "execution_count": null,
   "id": "48cbd0b7-aa3a-42ad-87f3-8a786905674e",
   "metadata": {},
   "outputs": [],
   "source": []
  },
  {
   "cell_type": "code",
   "execution_count": null,
   "id": "63cccb83-fc09-416a-ad6d-c4da1b89b658",
   "metadata": {},
   "outputs": [],
   "source": []
  },
  {
   "cell_type": "code",
   "execution_count": null,
   "id": "e892e951-4662-41e2-8910-21c9852dc138",
   "metadata": {},
   "outputs": [],
   "source": []
  },
  {
   "cell_type": "markdown",
   "id": "67485e2e-2720-4d45-ab60-d87eb723aa69",
   "metadata": {},
   "source": [
    "## GAM obtained with the bam function of mgcv in R\n",
    "Target variable: Net-Load"
   ]
  },
  {
   "cell_type": "code",
   "execution_count": 62,
   "id": "35b87ea5-6aa5-4d9c-9553-7841899cc965",
   "metadata": {},
   "outputs": [
    {
     "name": "stdout",
     "output_type": "stream",
     "text": [
      "RMSE GAM:  173.97572935810558\n",
      "MAE GAM:  132.66877068774966\n",
      "MAPE GAM:  0.09446425358690326\n"
     ]
    }
   ],
   "source": [
    "y_R = pyreadr.read_r(home + '\\\\Other_data\\\\Results R\\\\GroupC_GAM_R_bam.rda')\n",
    "y_R = pd.DataFrame(list(y_R.values())[0])\n",
    "y_R_test_set = np.array(y_R).flatten()\n",
    "\n",
    "print(\"RMSE GAM: \", RMSE(np.array(test_set['node']), y_R_test_set))\n",
    "print(\"MAE GAM: \", MAE(np.array(test_set['node']), y_R_test_set))\n",
    "print(\"MAPE GAM: \", MAPE(np.array(test_set['node']), y_R_test_set))"
   ]
  },
  {
   "cell_type": "markdown",
   "id": "2b7e2676-9fc2-4eb4-aa91-ab9b9dca46d6",
   "metadata": {},
   "source": [
    "## Static Kalman Filter on GAM in R\n",
    "48h delay"
   ]
  },
  {
   "cell_type": "code",
   "execution_count": 63,
   "id": "9c8bf008-e3dd-43bd-b0c7-e1300b3f6dfa",
   "metadata": {},
   "outputs": [],
   "source": [
    "GroupC_KF = pyreadr.read_r(home + '\\\\Other_data\\\\KF R\\\\GroupC_KF_static_delay.rda')\n",
    "y_kf_static = pd.DataFrame(list(GroupC_KF.values())[0])\n",
    "y_kf_static_delay_R = np.array(y_kf_static).flatten()"
   ]
  },
  {
   "cell_type": "code",
   "execution_count": 64,
   "id": "abb869b4-88cb-4769-a554-e71300cbfd28",
   "metadata": {},
   "outputs": [
    {
     "name": "stdout",
     "output_type": "stream",
     "text": [
      "RMSE GAM:  105.79991764110355\n",
      "MAE GAM:  78.7631509462475\n",
      "MAPE GAM:  0.05893768500862024\n"
     ]
    }
   ],
   "source": [
    "print(\"RMSE GAM: \", RMSE(np.array(test_set['node']), y_kf_static_delay_R))\n",
    "print(\"MAE GAM: \", MAE(np.array(test_set['node']), y_kf_static_delay_R))\n",
    "print(\"MAPE GAM: \", MAPE(np.array(test_set['node']), y_kf_static_delay_R))"
   ]
  },
  {
   "cell_type": "markdown",
   "id": "46f2ab59-fcec-4bd3-97ca-db3c37dec3c7",
   "metadata": {},
   "source": [
    "## Dynamic Kalman Filter on GAM in R\n",
    "48h delay"
   ]
  },
  {
   "cell_type": "code",
   "execution_count": 65,
   "id": "2c09503f-c75e-4f41-8a4e-6b2fa6b9fb3c",
   "metadata": {},
   "outputs": [],
   "source": [
    "GroupC_KF = pyreadr.read_r(home + '\\\\Other_data\\\\KF R\\\\GroupC_KF_dynamic_delay.rda')\n",
    "y_kf_dynamic = pd.DataFrame(list(GroupC_KF.values())[0])\n",
    "y_kf_dynamic_delay_R = np.array(y_kf_dynamic).flatten()"
   ]
  },
  {
   "cell_type": "code",
   "execution_count": 66,
   "id": "94ccb908-7335-40da-be99-92705bdb0b8a",
   "metadata": {},
   "outputs": [
    {
     "name": "stdout",
     "output_type": "stream",
     "text": [
      "RMSE GAM:  88.09308615235737\n",
      "MAE GAM:  63.15172302458444\n",
      "MAPE GAM:  0.04606043128354481\n"
     ]
    }
   ],
   "source": [
    "print(\"RMSE GAM: \", RMSE(np.array(test_set['node']), y_kf_dynamic_delay_R))\n",
    "print(\"MAE GAM: \", MAE(np.array(test_set['node']), y_kf_dynamic_delay_R))\n",
    "print(\"MAPE GAM: \", MAPE(np.array(test_set['node']), y_kf_dynamic_delay_R))"
   ]
  }
 ],
 "metadata": {
  "kernelspec": {
   "display_name": "Python 3 (ipykernel)",
   "language": "python",
   "name": "python3"
  },
  "language_info": {
   "codemirror_mode": {
    "name": "ipython",
    "version": 3
   },
   "file_extension": ".py",
   "mimetype": "text/x-python",
   "name": "python",
   "nbconvert_exporter": "python",
   "pygments_lexer": "ipython3",
   "version": "3.9.18"
  }
 },
 "nbformat": 4,
 "nbformat_minor": 5
}
