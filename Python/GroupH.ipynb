{
 "cells": [
  {
   "cell_type": "code",
   "execution_count": 68,
   "id": "80bfa55b-32e4-417d-b649-9cebd6a8aa56",
   "metadata": {},
   "outputs": [],
   "source": [
    "import numpy as np\n",
    "import pandas as pd\n",
    "import matplotlib.pyplot as plt\n",
    "import seaborn as sns\n",
    "import statsmodels.api as sm\n",
    "from statsmodels.tsa.stattools import pacf, acf\n",
    "import statsmodels.tsa.api as smt\n",
    "from statsmodels.tsa.stattools import adfuller\n",
    "from scipy.optimize import minimize\n",
    "import cvxopt\n",
    "import pyreadr\n",
    "import os\n",
    "import time\n",
    "from datetime import timedelta\n",
    "from scipy.stats import norm\n",
    "import copy\n",
    "import warnings\n",
    "import utils\n",
    "import regression_fit\n",
    "import pickle\n",
    "from importlib import reload\n",
    "reload(utils)\n",
    "reload(regression_fit)\n",
    "from utils import *\n",
    "from regression_fit import *\n",
    "\n",
    "home = os.getcwd()"
   ]
  },
  {
   "cell_type": "markdown",
   "id": "328305dc-44d9-4736-aab2-efcf3153aee6",
   "metadata": {},
   "source": [
    "## Dataset preprocessing\n",
    "Train set: from 2014 to 2018. Test set: from 2019 to 2021"
   ]
  },
  {
   "cell_type": "code",
   "execution_count": 70,
   "id": "a7757262-6ca4-4027-8583-fc0d7cb80ae3",
   "metadata": {},
   "outputs": [],
   "source": [
    "# Import dataset of group H\n",
    "GroupH = pyreadr.read_r(home + '\\\\Other_data\\\\GroupH.rda')\n",
    "GroupH_df = pd.DataFrame(list(GroupH.values())[0])\n",
    "\n",
    "# Add lagged net-load values (columns y0_96, y0_336, diff_96, diff_336)\n",
    "GroupH_df = add_autoregressive_features(GroupH_df)\n",
    "\n",
    "# Split in train and test set \n",
    "train_set = GroupH_df[720:87440] \n",
    "test_set = GroupH_df[87440:]"
   ]
  },
  {
   "cell_type": "markdown",
   "id": "62bcc450-9f2e-461c-8e80-31a64cf7787f",
   "metadata": {},
   "source": [
    "## Persistence benchmark (7 days)"
   ]
  },
  {
   "cell_type": "code",
   "execution_count": 73,
   "id": "25d3bd22-bd36-41a0-9142-16b73b74d7d3",
   "metadata": {},
   "outputs": [],
   "source": [
    "pb_reg = Persistence_Benchmark(GroupH_df)\n",
    "y_pers_benchmark = pb_reg.predict(test_set['targetTime'],delay_days=7)"
   ]
  },
  {
   "cell_type": "code",
   "execution_count": 74,
   "id": "ec216c34-74f9-4ad8-985e-00871d0d9c9f",
   "metadata": {},
   "outputs": [
    {
     "name": "stdout",
     "output_type": "stream",
     "text": [
      "\n",
      "Persistence Benchmark (7 days)\n",
      "\n",
      "RMSE in 2019:  181.479578290863\n",
      "RMSE in 2020:  194.486372183224\n",
      "RMSE in 2021:  178.837525773709\n",
      "\n",
      "MAE in 2019:  123.70670244348022\n",
      "MAE in 2020:  122.85391136001819\n",
      "MAE in 2021:  122.86043040644171\n",
      "\n",
      "MAPE in 2019:  0.07962968817316203\n",
      "MAPE in 2020:  0.08681911004562255\n",
      "MAPE in 2021:  0.08199694524332946\n"
     ]
    }
   ],
   "source": [
    "idx_2020 = 17516\n",
    "idx_2021 = 35104\n",
    "\n",
    "print(\"\\nPersistence Benchmark (7 days)\")\n",
    "\n",
    "print(\"\\nRMSE in 2019: \", RMSE(np.array(test_set['node'][:idx_2020]), y_pers_benchmark[:idx_2020]))\n",
    "print(\"RMSE in 2020: \", RMSE(np.array(test_set['node'][idx_2020:idx_2021]), y_pers_benchmark[idx_2020:idx_2021]))\n",
    "print(\"RMSE in 2021: \", RMSE(np.array(test_set['node'][idx_2021:]), y_pers_benchmark[idx_2021:]))\n",
    "\n",
    "print(\"\\nMAE in 2019: \", MAE(np.array(test_set['node'][:idx_2020]), y_pers_benchmark[:idx_2020]))\n",
    "print(\"MAE in 2020: \", MAE(np.array(test_set['node'][idx_2020:idx_2021]), y_pers_benchmark[idx_2020:idx_2021]))\n",
    "print(\"MAE in 2021: \", MAE(np.array(test_set['node'][idx_2021:]), y_pers_benchmark[idx_2021:]))\n",
    "\n",
    "print(\"\\nMAPE in 2019: \", MAPE(np.array(test_set['node'][:idx_2020]), y_pers_benchmark[:idx_2020]))\n",
    "print(\"MAPE in 2020: \", MAPE(np.array(test_set['node'][idx_2020:idx_2021]), y_pers_benchmark[idx_2020:idx_2021]))\n",
    "print(\"MAPE in 2021: \", MAPE(np.array(test_set['node'][idx_2021:]), y_pers_benchmark[idx_2021:]))"
   ]
  },
  {
   "cell_type": "markdown",
   "id": "634d9645-ec6a-46bc-a6a5-603afefb03e2",
   "metadata": {},
   "source": [
    "## Persistence benchmark (2 days)"
   ]
  },
  {
   "cell_type": "code",
   "execution_count": 76,
   "id": "d78e0c75-6af5-4b96-a363-64ec683d7377",
   "metadata": {},
   "outputs": [],
   "source": [
    "pb_reg = Persistence_Benchmark(GroupH_df)\n",
    "y_pers_benchmark_2 = pb_reg.predict(test_set['targetTime'],delay_days=2)"
   ]
  },
  {
   "cell_type": "code",
   "execution_count": 77,
   "id": "336b6f21-44d1-4c35-9000-902a4bc44ac8",
   "metadata": {},
   "outputs": [
    {
     "name": "stdout",
     "output_type": "stream",
     "text": [
      "\n",
      "Persistence Benchmark (2 days)\n",
      "\n",
      "RMSE in 2019:  220.16040231886655\n",
      "RMSE in 2020:  203.561657112538\n",
      "RMSE in 2021:  189.04972687716034\n",
      "\n",
      "MAE in 2019:  151.80675256907972\n",
      "MAE in 2020:  133.33989623607005\n",
      "MAE in 2021:  130.96505272239264\n",
      "\n",
      "MAPE in 2019:  0.09733555424663555\n",
      "MAPE in 2020:  0.09194374476979111\n",
      "MAPE in 2021:  0.08767816394319017\n"
     ]
    }
   ],
   "source": [
    "print(\"\\nPersistence Benchmark (2 days)\")\n",
    "\n",
    "print(\"\\nRMSE in 2019: \", RMSE(np.array(test_set['node'][:idx_2020]), y_pers_benchmark_2[:idx_2020]))\n",
    "print(\"RMSE in 2020: \", RMSE(np.array(test_set['node'][idx_2020:idx_2021]), y_pers_benchmark_2[idx_2020:idx_2021]))\n",
    "print(\"RMSE in 2021: \", RMSE(np.array(test_set['node'][idx_2021:]), y_pers_benchmark_2[idx_2021:]))\n",
    "\n",
    "print(\"\\nMAE in 2019: \", MAE(np.array(test_set['node'][:idx_2020]), y_pers_benchmark_2[:idx_2020]))\n",
    "print(\"MAE in 2020: \", MAE(np.array(test_set['node'][idx_2020:idx_2021]), y_pers_benchmark_2[idx_2020:idx_2021]))\n",
    "print(\"MAE in 2021: \", MAE(np.array(test_set['node'][idx_2021:]), y_pers_benchmark_2[idx_2021:]))\n",
    "\n",
    "print(\"\\nMAPE in 2019: \", MAPE(np.array(test_set['node'][:idx_2020]), y_pers_benchmark_2[:idx_2020]))\n",
    "print(\"MAPE in 2020: \", MAPE(np.array(test_set['node'][idx_2020:idx_2021]), y_pers_benchmark_2[idx_2020:idx_2021]))\n",
    "print(\"MAPE in 2021: \", MAPE(np.array(test_set['node'][idx_2021:]), y_pers_benchmark_2[idx_2021:]))"
   ]
  },
  {
   "cell_type": "markdown",
   "id": "67485e2e-2720-4d45-ab60-d87eb723aa69",
   "metadata": {},
   "source": [
    "## GAM-Point model \n",
    "Forecasts obtained in R with the bam function of the mgcv package\n",
    "\n",
    "Target variable: Net-Load"
   ]
  },
  {
   "cell_type": "code",
   "execution_count": 79,
   "id": "35b87ea5-6aa5-4d9c-9553-7841899cc965",
   "metadata": {},
   "outputs": [],
   "source": [
    "y_R = pyreadr.read_r(home + '\\\\Other_data\\\\Results R\\\\GroupH_GAM_R_bam.rda')\n",
    "y_R = pd.DataFrame(list(y_R.values())[0])\n",
    "y_R_test_set = np.array(y_R).flatten()"
   ]
  },
  {
   "cell_type": "code",
   "execution_count": 80,
   "id": "f0b971da-28d5-4061-902b-aefc9433de01",
   "metadata": {},
   "outputs": [
    {
     "name": "stdout",
     "output_type": "stream",
     "text": [
      "GAM-Point model\n",
      "\n",
      "RMSE in 2019:  106.61893521380165\n",
      "RMSE in 2020:  116.0124461556075\n",
      "RMSE in 2021:  106.01161052295619\n",
      "\n",
      "MAE in 2019:  81.29382779313119\n",
      "MAE in 2020:  87.90709778782808\n",
      "MAE in 2021:  83.7235301622973\n",
      "\n",
      "MAPE in 2019:  0.053368960895191365\n",
      "MAPE in 2020:  0.06491147170429751\n",
      "MAPE in 2021:  0.057117468990631075\n"
     ]
    }
   ],
   "source": [
    "print(\"GAM-Point model\")\n",
    "print(\"\\nRMSE in 2019: \", RMSE(np.array(test_set['node'][:idx_2020]), y_R_test_set[:idx_2020]))\n",
    "print(\"RMSE in 2020: \", RMSE(np.array(test_set['node'][idx_2020:idx_2021]), y_R_test_set[idx_2020:idx_2021]))\n",
    "print(\"RMSE in 2021: \", RMSE(np.array(test_set['node'][idx_2021:]), y_R_test_set[idx_2021:]))\n",
    "\n",
    "print(\"\\nMAE in 2019: \", MAE(np.array(test_set['node'][:idx_2020]), y_R_test_set[:idx_2020]))\n",
    "print(\"MAE in 2020: \", MAE(np.array(test_set['node'][idx_2020:idx_2021]), y_R_test_set[idx_2020:idx_2021]))\n",
    "print(\"MAE in 2021: \", MAE(np.array(test_set['node'][idx_2021:]), y_R_test_set[idx_2021:]))\n",
    "\n",
    "print(\"\\nMAPE in 2019: \", MAPE(np.array(test_set['node'][:idx_2020]), y_R_test_set[:idx_2020]))\n",
    "print(\"MAPE in 2020: \", MAPE(np.array(test_set['node'][idx_2020:idx_2021]), y_R_test_set[idx_2020:idx_2021]))\n",
    "print(\"MAPE in 2021: \", MAPE(np.array(test_set['node'][idx_2021:]), y_R_test_set[idx_2021:]))"
   ]
  },
  {
   "cell_type": "markdown",
   "id": "2b7e2676-9fc2-4eb4-aa91-ab9b9dca46d6",
   "metadata": {},
   "source": [
    "## Static Kalman GAM\n",
    "Results obtained in R"
   ]
  },
  {
   "cell_type": "code",
   "execution_count": 82,
   "id": "9c8bf008-e3dd-43bd-b0c7-e1300b3f6dfa",
   "metadata": {},
   "outputs": [],
   "source": [
    "GroupH_KF = pyreadr.read_r(home + '\\\\Other_data\\\\KF R\\\\GroupH_KF_static_delay.rda')\n",
    "y_kf_static = pd.DataFrame(list(GroupH_KF.values())[0])\n",
    "y_kf_static_delay_R = np.array(y_kf_static).flatten()"
   ]
  },
  {
   "cell_type": "code",
   "execution_count": 83,
   "id": "7cc2c4dd-505a-4a41-999f-4bf477c512a3",
   "metadata": {},
   "outputs": [
    {
     "name": "stdout",
     "output_type": "stream",
     "text": [
      "Static Kalman GAM\n",
      "\n",
      "RMSE in 2019:  104.4420666339798\n",
      "RMSE in 2020:  113.6898510293945\n",
      "RMSE in 2021:  103.4757588891056\n",
      "\n",
      "MAE in 2019:  78.47536247978918\n",
      "MAE in 2020:  84.23939294363015\n",
      "MAE in 2021:  80.68828547978833\n",
      "\n",
      "MAPE in 2019:  0.0513161144125375\n",
      "MAPE in 2020:  0.062175320525447685\n",
      "MAPE in 2021:  0.05458901053826242\n"
     ]
    }
   ],
   "source": [
    "print(\"Static Kalman GAM\")\n",
    "print(\"\\nRMSE in 2019: \", RMSE(np.array(test_set['node'][:idx_2020]), y_kf_static_delay_R[:idx_2020]))\n",
    "print(\"RMSE in 2020: \", RMSE(np.array(test_set['node'][idx_2020:idx_2021]), y_kf_static_delay_R[idx_2020:idx_2021]))\n",
    "print(\"RMSE in 2021: \", RMSE(np.array(test_set['node'][idx_2021:]), y_kf_static_delay_R[idx_2021:]))\n",
    "\n",
    "print(\"\\nMAE in 2019: \", MAE(np.array(test_set['node'][:idx_2020]), y_kf_static_delay_R[:idx_2020]))\n",
    "print(\"MAE in 2020: \", MAE(np.array(test_set['node'][idx_2020:idx_2021]), y_kf_static_delay_R[idx_2020:idx_2021]))\n",
    "print(\"MAE in 2021: \", MAE(np.array(test_set['node'][idx_2021:]), y_kf_static_delay_R[idx_2021:]))\n",
    "\n",
    "print(\"\\nMAPE in 2019: \", MAPE(np.array(test_set['node'][:idx_2020]), y_kf_static_delay_R[:idx_2020]))\n",
    "print(\"MAPE in 2020: \", MAPE(np.array(test_set['node'][idx_2020:idx_2021]), y_kf_static_delay_R[idx_2020:idx_2021]))\n",
    "print(\"MAPE in 2021: \", MAPE(np.array(test_set['node'][idx_2021:]), y_kf_static_delay_R[idx_2021:]))"
   ]
  },
  {
   "cell_type": "markdown",
   "id": "46f2ab59-fcec-4bd3-97ca-db3c37dec3c7",
   "metadata": {},
   "source": [
    "## Dynamic Kalman GAM \n",
    "Hyperparameters obtained with the Reduced Grid Search (I) method, which uses the Identity Initialization Matrix"
   ]
  },
  {
   "cell_type": "code",
   "execution_count": 85,
   "id": "2c09503f-c75e-4f41-8a4e-6b2fa6b9fb3c",
   "metadata": {},
   "outputs": [],
   "source": [
    "GroupH_KF = pyreadr.read_r(home + '\\\\Other_data\\\\KF R\\\\GroupH_KF_dynamic_delay.rda')\n",
    "y_kf_dynamic = pd.DataFrame(list(GroupH_KF.values())[0])\n",
    "y_kf_dynamic_delay_R = np.array(y_kf_dynamic).flatten()"
   ]
  },
  {
   "cell_type": "code",
   "execution_count": 86,
   "id": "9b71a77f-3ea6-4d2e-82c7-e2cedd87b4fc",
   "metadata": {},
   "outputs": [
    {
     "name": "stdout",
     "output_type": "stream",
     "text": [
      "Dynamic Kalman GAM \n",
      "\n",
      "RMSE in 2019:  103.49325808707931\n",
      "RMSE in 2020:  106.13262901440243\n",
      "RMSE in 2021:  98.04103325650613\n",
      "\n",
      "MAE in 2019:  76.16515732083865\n",
      "MAE in 2020:  78.57499349269618\n",
      "MAE in 2021:  72.59925237508313\n",
      "\n",
      "MAPE in 2019:  0.04949959592166312\n",
      "MAPE in 2020:  0.0564069568637273\n",
      "MAPE in 2021:  0.04804592418166319\n"
     ]
    }
   ],
   "source": [
    "print(\"Dynamic Kalman GAM \")\n",
    "print(\"\\nRMSE in 2019: \", RMSE(np.array(test_set['node'][:idx_2020]), y_kf_dynamic_delay_R[:idx_2020]))\n",
    "print(\"RMSE in 2020: \", RMSE(np.array(test_set['node'][idx_2020:idx_2021]), y_kf_dynamic_delay_R[idx_2020:idx_2021]))\n",
    "print(\"RMSE in 2021: \", RMSE(np.array(test_set['node'][idx_2021:]), y_kf_dynamic_delay_R[idx_2021:]))\n",
    "\n",
    "print(\"\\nMAE in 2019: \", MAE(np.array(test_set['node'][:idx_2020]), y_kf_dynamic_delay_R[:idx_2020]))\n",
    "print(\"MAE in 2020: \", MAE(np.array(test_set['node'][idx_2020:idx_2021]), y_kf_dynamic_delay_R[idx_2020:idx_2021]))\n",
    "print(\"MAE in 2021: \", MAE(np.array(test_set['node'][idx_2021:]), y_kf_dynamic_delay_R[idx_2021:]))\n",
    "\n",
    "print(\"\\nMAPE in 2019: \", MAPE(np.array(test_set['node'][:idx_2020]), y_kf_dynamic_delay_R[:idx_2020]))\n",
    "print(\"MAPE in 2020: \", MAPE(np.array(test_set['node'][idx_2020:idx_2021]), y_kf_dynamic_delay_R[idx_2020:idx_2021]))\n",
    "print(\"MAPE in 2021: \", MAPE(np.array(test_set['node'][idx_2021:]), y_kf_dynamic_delay_R[idx_2021:]))"
   ]
  },
  {
   "cell_type": "markdown",
   "id": "2ee2ece1-bb4d-43dc-a1e4-9ccd4e1c2ab4",
   "metadata": {},
   "source": [
    "# LM-Point model\n",
    "Linear Regression model \n",
    "\n",
    "Response variable: 7-days differenced net-load"
   ]
  },
  {
   "cell_type": "code",
   "execution_count": 88,
   "id": "a2e8c896-9911-4f48-9a15-b62cabdaa87b",
   "metadata": {},
   "outputs": [],
   "source": [
    "St_train = regression_feature_matrix(train_set)\n",
    "\n",
    "# Target variable is the 7-days differenced net-load\n",
    "model = sm.OLS(train_set[\"diff_336\"], St_train)\n",
    "results = model.fit()             \n",
    "params = results.params\n",
    "\n",
    "St_test = regression_feature_matrix(test_set)\n",
    "\n",
    "# The net-load value of 7 days prior is added back to the differenced net-load forecast \n",
    "y_lin = np.array(test_set['y0_336']) + St_test@params"
   ]
  },
  {
   "cell_type": "code",
   "execution_count": 89,
   "id": "92473f36-aa4d-4d8a-a340-2294edcd7200",
   "metadata": {},
   "outputs": [
    {
     "name": "stdout",
     "output_type": "stream",
     "text": [
      "LM-Point model\n",
      "\n",
      "RMSE in 2019 test set:  96.60328239011804\n",
      "RMSE in 2020 test set:  104.09345692540458\n",
      "RMSE in 2021 test set:  97.60986621971585\n",
      "\n",
      "MAE in 2019 test set:  70.29332605322017\n",
      "MAE in 2020 test set:  77.1688325335597\n",
      "MAE in 2021 test set:  71.63022459785049\n",
      "\n",
      "MAPE in 2019 test set:  0.045065404895781626\n",
      "MAPE in 2020 test set:  0.05535781565926888\n",
      "MAPE in 2021 test set:  0.04767382634979983\n"
     ]
    }
   ],
   "source": [
    "idx_2020 = 17516 #Index of the first data point in 2020\n",
    "idx_2021 = 35104 #Index of the first data point in 2021\n",
    "\n",
    "print(\"LM-Point model\")\n",
    "\n",
    "print(\"\\nRMSE in 2019 test set: \", RMSE(np.array(test_set['node'][:idx_2020]), y_lin[:idx_2020]))\n",
    "print(\"RMSE in 2020 test set: \", RMSE(np.array(test_set['node'][idx_2020:idx_2021]), y_lin[idx_2020:idx_2021]))\n",
    "print(\"RMSE in 2021 test set: \", RMSE(np.array(test_set['node'][idx_2021:]), y_lin[idx_2021:]))\n",
    "\n",
    "print(\"\\nMAE in 2019 test set: \", MAE(np.array(test_set['node'][:idx_2020]), y_lin[:idx_2020]))\n",
    "print(\"MAE in 2020 test set: \", MAE(np.array(test_set['node'][idx_2020:idx_2021]), y_lin[idx_2020:idx_2021]))\n",
    "print(\"MAE in 2021 test set: \", MAE(np.array(test_set['node'][idx_2021:]), y_lin[idx_2021:]))\n",
    "\n",
    "print(\"\\nMAPE in 2019 test set: \", MAPE(np.array(test_set['node'][:idx_2020]), y_lin[:idx_2020]))\n",
    "print(\"MAPE in 2020 test set: \", MAPE(np.array(test_set['node'][idx_2020:idx_2021]), y_lin[idx_2020:idx_2021]))\n",
    "print(\"MAPE in 2021 test set: \", MAPE(np.array(test_set['node'][idx_2021:]), y_lin[idx_2021:]))"
   ]
  },
  {
   "cell_type": "markdown",
   "id": "e4f44b5e-2074-4f85-8bd8-85724c117f76",
   "metadata": {},
   "source": [
    "# Static Kalman LM"
   ]
  },
  {
   "cell_type": "code",
   "execution_count": 91,
   "id": "8a2adbf2-8a13-4f2b-8eab-d6172d46594f",
   "metadata": {},
   "outputs": [],
   "source": [
    "kf_static_OLS = Kalman_Filter(GAM=False,params=params)\n",
    "kf_static_OLS.fit(St_train, train_set['diff_336'])\n",
    "# Computation of the standard deviation of the components of the state vector (required for the Reduced Grid Search (II) method)\n",
    "std_static_OLS = np.std(kf_static_OLS.theta_mat[15000:],axis=0)\n",
    "\n",
    "St_test = regression_feature_matrix(test_set)\n",
    "y_static_mean, _ = kf_static_OLS.predict(St_test, test_set[[\"targetTime\", \"diff_336\"]], delay=True) \n",
    "\n",
    "# The net-load value of 7 days prior is added back to the differenced net-load forecast \n",
    "y_static_mean += test_set[\"y0_336\"]"
   ]
  },
  {
   "cell_type": "code",
   "execution_count": 92,
   "id": "fb787b9f-5e5f-4e88-92f2-d4d99b81ef4b",
   "metadata": {},
   "outputs": [
    {
     "name": "stdout",
     "output_type": "stream",
     "text": [
      "Static Kalman GAM\n",
      "\n",
      "RMSE in 2019:  95.28851719866422\n",
      "RMSE in 2020:  100.74829602630595\n",
      "RMSE in 2021:  95.77172009342382\n",
      "\n",
      "MAE in 2019:  68.92433090360008\n",
      "MAE in 2020:  73.8628658202332\n",
      "MAE in 2021:  69.61375847701808\n",
      "\n",
      "MAPE in 2019:  0.044203363776452544\n",
      "MAPE in 2020:  0.053029564934247896\n",
      "MAPE in 2021:  0.0461792229979768\n"
     ]
    }
   ],
   "source": [
    "print(\"Static Kalman GAM\")\n",
    "\n",
    "print(\"\\nRMSE in 2019: \", RMSE(np.array(test_set['node'][:idx_2020]), y_static_mean[:idx_2020]))\n",
    "print(\"RMSE in 2020: \", RMSE(np.array(test_set['node'][idx_2020:idx_2021]), y_static_mean[idx_2020:idx_2021]))\n",
    "print(\"RMSE in 2021: \", RMSE(np.array(test_set['node'][idx_2021:]), y_static_mean[idx_2021:]))\n",
    "\n",
    "print(\"\\nMAE in 2019: \", MAE(np.array(test_set['node'][:idx_2020]), y_static_mean[:idx_2020]))\n",
    "print(\"MAE in 2020: \", MAE(np.array(test_set['node'][idx_2020:idx_2021]), y_static_mean[idx_2020:idx_2021]))\n",
    "print(\"MAE in 2021: \", MAE(np.array(test_set['node'][idx_2021:]), y_static_mean[idx_2021:]))\n",
    "\n",
    "print(\"\\nMAPE in 2019: \", MAPE(np.array(test_set['node'][:idx_2020]), y_static_mean[:idx_2020]))\n",
    "print(\"MAPE in 2020: \", MAPE(np.array(test_set['node'][idx_2020:idx_2021]), y_static_mean[idx_2020:idx_2021]))\n",
    "print(\"MAPE in 2021: \", MAPE(np.array(test_set['node'][idx_2021:]), y_static_mean[idx_2021:]))"
   ]
  },
  {
   "cell_type": "markdown",
   "id": "d8ce695f-3bfd-4524-a7da-560b3bbcca5e",
   "metadata": {},
   "source": [
    "# Dynamic Kalman LM"
   ]
  },
  {
   "cell_type": "markdown",
   "id": "a37101f9-1b16-4e42-8371-e4da2223be85",
   "metadata": {},
   "source": [
    "Hyperparameters optimization with the Reduced Grid Search (II) method, which uses the State Variance Optimization method \n"
   ]
  },
  {
   "cell_type": "code",
   "execution_count": 95,
   "id": "a72e04f6-5b3a-40df-869a-373d2d27896d",
   "metadata": {},
   "outputs": [
    {
     "name": "stdout",
     "output_type": "stream",
     "text": [
      "1e-10\n",
      "-542159.7934466202\n",
      "1e-11\n",
      "-532596.5543116047\n",
      "1e-12\n",
      "-1135876.2049659952\n",
      "1e-13\n",
      "-535433.3719251675\n",
      "1e-14\n",
      "-525295.1600923741\n",
      "1e-15\n",
      "-525114.7228136403\n",
      "1e-16\n",
      "-525159.9836922858\n",
      "1e-17\n",
      "-525244.3670362837\n",
      "1e-18\n",
      "-525236.3715870035\n",
      "1e-19\n",
      "-525295.5102590172\n",
      "Optimal q:  9.41630407301045e-12\n",
      "Optimal sigma:  97.03764255695029\n",
      "Maximum likelihood achieved:  -525114.7228136403\n"
     ]
    }
   ],
   "source": [
    "q_list = [1e-10,1e-11, 1e-12, 1e-13,1e-14,1e-15,1e-16, 1e-17, 1e-18, 1e-19]\n",
    "optim = Q_optimization(St_train, train_set[[\"targetTime\", \"diff_336\"]],GAM=False,params=params)\n",
    "Q, sigma, P, theta1 = optim.grid_search_reduced_likelihood(q_list=q_list, std_static=std_static_OLS) "
   ]
  },
  {
   "cell_type": "code",
   "execution_count": 96,
   "id": "809fce2e-2636-4592-8605-ca5585aa5324",
   "metadata": {
    "tags": []
   },
   "outputs": [],
   "source": [
    "kf_dynamic_OLS = Kalman_Filter(GAM=False, Q=Q, sigma=sigma, P=P, theta1=theta1, params=params)\n",
    "kf_dynamic_OLS.fit(St_train, train_set['diff_336'])\n",
    "\n",
    "St_test = regression_feature_matrix(test_set)\n",
    "\n",
    "y_dynamic_mean, _ = kf_dynamic_OLS.predict(St_test, test_set[[\"targetTime\", \"diff_336\"]], delay=True)\n",
    "\n",
    "# The net-load value of 7 days prior is added back to the differenced net-load forecast \n",
    "y_dynamic_mean += test_set[\"y0_336\"]"
   ]
  },
  {
   "cell_type": "code",
   "execution_count": 97,
   "id": "2b3a434d-3aed-457c-a011-705be02cc6f0",
   "metadata": {},
   "outputs": [
    {
     "name": "stdout",
     "output_type": "stream",
     "text": [
      "Dynamic Kalman LM\n",
      "\n",
      "RMSE in 2019:  94.0424228970837\n",
      "RMSE in 2020:  96.21955447374991\n",
      "RMSE in 2021:  94.1786141086088\n",
      "\n",
      "MAE in 2019:  67.60337927254251\n",
      "MAE in 2020:  70.1672143965029\n",
      "MAE in 2021:  68.18018338962975\n",
      "\n",
      "MAPE in 2019:  0.04347423510950895\n",
      "MAPE in 2020:  0.04958275088161171\n",
      "MAPE in 2021:  0.04524038552223662\n"
     ]
    }
   ],
   "source": [
    "print(\"Dynamic Kalman LM\")\n",
    "\n",
    "print(\"\\nRMSE in 2019: \", RMSE(np.array(test_set['node'][:idx_2020]), y_dynamic_mean[:idx_2020]))\n",
    "print(\"RMSE in 2020: \", RMSE(np.array(test_set['node'][idx_2020:idx_2021]), y_dynamic_mean[idx_2020:idx_2021]))\n",
    "print(\"RMSE in 2021: \", RMSE(np.array(test_set['node'][idx_2021:]), y_dynamic_mean[idx_2021:]))\n",
    "\n",
    "print(\"\\nMAE in 2019: \", MAE(np.array(test_set['node'][:idx_2020]), y_dynamic_mean[:idx_2020]))\n",
    "print(\"MAE in 2020: \", MAE(np.array(test_set['node'][idx_2020:idx_2021]), y_dynamic_mean[idx_2020:idx_2021]))\n",
    "print(\"MAE in 2021: \", MAE(np.array(test_set['node'][idx_2021:]), y_dynamic_mean[idx_2021:]))\n",
    "\n",
    "print(\"\\nMAPE in 2019: \", MAPE(np.array(test_set['node'][:idx_2020]), y_dynamic_mean[:idx_2020]))\n",
    "print(\"MAPE in 2020: \", MAPE(np.array(test_set['node'][idx_2020:idx_2021]), y_dynamic_mean[idx_2020:idx_2021]))\n",
    "print(\"MAPE in 2021: \", MAPE(np.array(test_set['node'][idx_2021:]), y_dynamic_mean[idx_2021:]))"
   ]
  },
  {
   "cell_type": "code",
   "execution_count": null,
   "id": "08cc8cc2-aabf-4898-b160-0f49dc18049a",
   "metadata": {},
   "outputs": [],
   "source": []
  },
  {
   "cell_type": "code",
   "execution_count": null,
   "id": "3aa4ab62-f2bf-4555-922e-abb912e90848",
   "metadata": {},
   "outputs": [],
   "source": []
  },
  {
   "cell_type": "markdown",
   "id": "82ff08b8-f8ac-4df5-a513-1485c1145895",
   "metadata": {},
   "source": [
    "## Comparison among target variables for Dynamic Kalman GAM by using Iterative Grid Search"
   ]
  },
  {
   "cell_type": "markdown",
   "id": "d29ec325-15b4-48e9-8118-83bc5538cc09",
   "metadata": {},
   "source": [
    "### Target variable: Normalized net-load\n",
    "\n",
    "List: [1, 2^-1, 2^-2, 2^-3, 2^-4, 2^-5, 2^-6, 2^-7, 2^-8, 2^-9, 2^-10, \n",
    "         2^-11, 2^-12, 2^-13, 2^-14, 2^-15, 2^-16, 2^-17, 2^-18, 2^-19,2^-20, \n",
    "         2^-21, 2^-22, 2^-23, 2^-24, 2^-25, 2^-26, 2^-27, 2^-28, 2^-29,2^-30]"
   ]
  },
  {
   "cell_type": "code",
   "execution_count": 100,
   "id": "3ff0bcd2-a777-4a87-a8f5-bde874256fae",
   "metadata": {},
   "outputs": [],
   "source": [
    "GroupH_KF = pyreadr.read_r(home + '\\\\Other_data\\\\KF R\\\\GroupH_KF_dynamic_delay_node_n.rda')\n",
    "y_kf_dynamic = pd.DataFrame(list(GroupH_KF.values())[0])\n",
    "y_kf_dynamic_delay_R_n = np.array(y_kf_dynamic).flatten()"
   ]
  },
  {
   "cell_type": "code",
   "execution_count": 101,
   "id": "afbd2dcc-4659-47db-908c-76c4e766ab61",
   "metadata": {},
   "outputs": [
    {
     "name": "stdout",
     "output_type": "stream",
     "text": [
      "Dynamic Kalman GAM - Normalized net-load\n",
      "\n",
      "RMSE in 2019:  105.51009323861815\n",
      "RMSE in 2020:  113.11692027105288\n",
      "RMSE in 2021:  101.30868149135145\n",
      "\n",
      "MAE in 2019:  78.7350628756044\n",
      "MAE in 2020:  86.69605550065232\n",
      "MAE in 2021:  75.39267303333975\n",
      "\n",
      "MAPE in 2019:  0.05210814669965793\n",
      "MAPE in 2020:  0.06264185223499273\n",
      "MAPE in 2021:  0.05138719835115927\n"
     ]
    }
   ],
   "source": [
    "print(\"Dynamic Kalman GAM - Normalized net-load\")\n",
    "print(\"\\nRMSE in 2019: \", RMSE(np.array(test_set['node'][:idx_2020]), y_kf_dynamic_delay_R_n[:idx_2020]))\n",
    "print(\"RMSE in 2020: \", RMSE(np.array(test_set['node'][idx_2020:idx_2021]), y_kf_dynamic_delay_R_n[idx_2020:idx_2021]))\n",
    "print(\"RMSE in 2021: \", RMSE(np.array(test_set['node'][idx_2021:]), y_kf_dynamic_delay_R_n[idx_2021:]))\n",
    "\n",
    "print(\"\\nMAE in 2019: \", MAE(np.array(test_set['node'][:idx_2020]), y_kf_dynamic_delay_R_n[:idx_2020]))\n",
    "print(\"MAE in 2020: \", MAE(np.array(test_set['node'][idx_2020:idx_2021]), y_kf_dynamic_delay_R_n[idx_2020:idx_2021]))\n",
    "print(\"MAE in 2021: \", MAE(np.array(test_set['node'][idx_2021:]), y_kf_dynamic_delay_R_n[idx_2021:]))\n",
    "\n",
    "print(\"\\nMAPE in 2019: \", MAPE(np.array(test_set['node'][:idx_2020]), y_kf_dynamic_delay_R_n[:idx_2020]))\n",
    "print(\"MAPE in 2020: \", MAPE(np.array(test_set['node'][idx_2020:idx_2021]), y_kf_dynamic_delay_R_n[idx_2020:idx_2021]))\n",
    "print(\"MAPE in 2021: \", MAPE(np.array(test_set['node'][idx_2021:]), y_kf_dynamic_delay_R_n[idx_2021:]))"
   ]
  },
  {
   "cell_type": "markdown",
   "id": "ce5ba06f-0c0c-4f35-a27e-df2ff30b9f15",
   "metadata": {},
   "source": [
    "### Target variable: Net-load\n",
    "\n",
    "List: [2^-15,2^-20,2^-25,2^-28,2^-30,2^-32,2^-34,2^-36,2^-38,2^-40,2^-45,2^-50]"
   ]
  },
  {
   "cell_type": "code",
   "execution_count": 103,
   "id": "5701d20e-ce8e-4653-9d7e-90525f1e51b3",
   "metadata": {},
   "outputs": [],
   "source": [
    "GroupH_KF = pyreadr.read_r(home + '\\\\Other_data\\\\KF R\\\\GroupH_KF_dynamic_delay_node.rda')\n",
    "y_kf_dynamic = pd.DataFrame(list(GroupH_KF.values())[0])\n",
    "y_kf_dynamic_delay_R = np.array(y_kf_dynamic).flatten()"
   ]
  },
  {
   "cell_type": "code",
   "execution_count": 104,
   "id": "be10f48c-23c2-4d43-b6a4-ef6ddedc3615",
   "metadata": {},
   "outputs": [
    {
     "name": "stdout",
     "output_type": "stream",
     "text": [
      "Dynamic Kalman GAM - Net-load\n",
      "\n",
      "RMSE in 2019 test set:  101.8352043361874\n",
      "RMSE in 2020 test set:  102.87521626879193\n",
      "RMSE in 2021 test set:  97.0009123257151\n",
      "\n",
      "MAE in 2019 test set:  74.93466830353752\n",
      "MAE in 2020 test set:  76.66047253478315\n",
      "MAE in 2021 test set:  70.66913800071227\n",
      "\n",
      "MAPE in 2019 test set:  0.04864816815397028\n",
      "MAPE in 2020 test set:  0.05415622932216368\n",
      "MAPE in 2021 test set:  0.04711334781275538\n"
     ]
    }
   ],
   "source": [
    "print(\"Dynamic Kalman GAM - Net-load\")\n",
    "print(\"\\nRMSE in 2019 test set: \", RMSE(np.array(test_set['node'][:idx_2020]), y_kf_dynamic_delay_R[:idx_2020]))\n",
    "print(\"RMSE in 2020 test set: \", RMSE(np.array(test_set['node'][idx_2020:idx_2021]), y_kf_dynamic_delay_R[idx_2020:idx_2021]))\n",
    "print(\"RMSE in 2021 test set: \", RMSE(np.array(test_set['node'][idx_2021:]), y_kf_dynamic_delay_R[idx_2021:]))\n",
    "\n",
    "print(\"\\nMAE in 2019 test set: \", MAE(np.array(test_set['node'][:idx_2020]), y_kf_dynamic_delay_R[:idx_2020]))\n",
    "print(\"MAE in 2020 test set: \", MAE(np.array(test_set['node'][idx_2020:idx_2021]), y_kf_dynamic_delay_R[idx_2020:idx_2021]))\n",
    "print(\"MAE in 2021 test set: \", MAE(np.array(test_set['node'][idx_2021:]), y_kf_dynamic_delay_R[idx_2021:]))\n",
    "\n",
    "print(\"\\nMAPE in 2019 test set: \", MAPE(np.array(test_set['node'][:idx_2020]), y_kf_dynamic_delay_R[:idx_2020]))\n",
    "print(\"MAPE in 2020 test set: \", MAPE(np.array(test_set['node'][idx_2020:idx_2021]), y_kf_dynamic_delay_R[idx_2020:idx_2021]))\n",
    "print(\"MAPE in 2021 test set: \", MAPE(np.array(test_set['node'][idx_2021:]), y_kf_dynamic_delay_R[idx_2021:]))"
   ]
  },
  {
   "cell_type": "code",
   "execution_count": null,
   "id": "55fc41ca-8d3a-4658-bb2b-4b79ea5be68e",
   "metadata": {},
   "outputs": [],
   "source": []
  },
  {
   "cell_type": "code",
   "execution_count": null,
   "id": "e018915e-cc65-4cee-9b31-dba8287466da",
   "metadata": {},
   "outputs": [],
   "source": []
  },
  {
   "cell_type": "code",
   "execution_count": null,
   "id": "b40ec95f-d777-4682-a288-8317ffa91203",
   "metadata": {},
   "outputs": [],
   "source": []
  },
  {
   "cell_type": "code",
   "execution_count": null,
   "id": "54f888f1-119f-4234-bb41-8f020726dd0f",
   "metadata": {},
   "outputs": [],
   "source": []
  },
  {
   "cell_type": "code",
   "execution_count": null,
   "id": "b047ed0c-1ff0-44db-9ab0-542cb29be74c",
   "metadata": {},
   "outputs": [],
   "source": []
  },
  {
   "cell_type": "code",
   "execution_count": null,
   "id": "fd4d2a60-0503-4d0b-9f85-9e248182385c",
   "metadata": {},
   "outputs": [],
   "source": []
  },
  {
   "cell_type": "markdown",
   "id": "cd043675-3bbe-4063-af26-de593f779df3",
   "metadata": {},
   "source": [
    "# Kalman LM Dynamic - Likelihood comparison "
   ]
  },
  {
   "cell_type": "markdown",
   "id": "55612b74-8930-47b0-bb49-f338e32776a9",
   "metadata": {},
   "source": [
    "### Hyperparameter Selection - Reduced Likelihood (I)"
   ]
  },
  {
   "cell_type": "code",
   "execution_count": 108,
   "id": "bb148703-6889-43b8-8dc7-02d3cc2db245",
   "metadata": {},
   "outputs": [
    {
     "name": "stdout",
     "output_type": "stream",
     "text": [
      "1e-10\n",
      "-889194.8115960334\n",
      "1e-11\n",
      "-889011.0094138125\n",
      "1e-12\n",
      "-888139.0463266638\n",
      "1e-13\n",
      "-888845.6661388713\n",
      "1e-14\n",
      "-912618.5820219181\n",
      "1e-15\n",
      "-932729.7302932166\n",
      "1e-16\n",
      "-864005.8438412691\n",
      "1e-17\n",
      "-827219.8053207162\n",
      "1e-18\n",
      "-784422.9227173165\n",
      "1e-19\n",
      "-885904.309617551\n",
      "Optimal q:  1.2473722243376765e-16\n",
      "Optimal sigma:  11.168581934774336\n",
      "Maximum likelihood achieved:  -784422.9227173165\n"
     ]
    }
   ],
   "source": [
    "q_list = [1e-10,1e-11, 1e-12, 1e-13,1e-14,1e-15,1e-16, 1e-17, 1e-18,1e-19]\n",
    "\n",
    "optim = Q_optimization(St_train, train_set[[\"targetTime\", \"diff_336\"]],GAM=False,params=params)\n",
    "Q, sigma, P, theta1 = optim.grid_search_reduced_likelihood(q_list=q_list) "
   ]
  },
  {
   "cell_type": "markdown",
   "id": "e306fc21-a119-44ed-bb4c-23242113ffdf",
   "metadata": {},
   "source": [
    "### Hyperparameter selection - Reduced Likelihood (II)"
   ]
  },
  {
   "cell_type": "code",
   "execution_count": 110,
   "id": "861e34b6-1eb5-4534-871a-fca6c87acbe2",
   "metadata": {},
   "outputs": [
    {
     "name": "stdout",
     "output_type": "stream",
     "text": [
      "1e-10\n",
      "-542159.7934466202\n",
      "1e-11\n",
      "-532596.5543116047\n",
      "1e-12\n",
      "-1135876.2049659952\n",
      "1e-13\n",
      "-535433.3719251675\n",
      "1e-14\n",
      "-525295.1600923741\n",
      "1e-15\n",
      "-525114.7228136403\n",
      "1e-16\n",
      "-525159.9836922858\n",
      "1e-17\n",
      "-525244.3670362837\n",
      "1e-18\n",
      "-525236.3715870035\n",
      "1e-19\n",
      "-525295.5102590172\n",
      "Optimal q:  9.41630407301045e-12\n",
      "Optimal sigma:  97.03764255695029\n",
      "Maximum likelihood achieved:  -525114.7228136403\n"
     ]
    }
   ],
   "source": [
    "q_list = [1e-10,1e-11, 1e-12, 1e-13,1e-14,1e-15,1e-16, 1e-17, 1e-18,1e-19]\n",
    "\n",
    "optim = Q_optimization(St_train, train_set[[\"targetTime\", \"diff_336\"]],GAM=False,params=params)\n",
    "Q, sigma, P, theta1 = optim.grid_search_reduced_likelihood(q_list=q_list, std_static=std_static_OLS) "
   ]
  },
  {
   "cell_type": "code",
   "execution_count": null,
   "id": "2f4bbf5e-73b5-45c6-9cd5-09066b491fde",
   "metadata": {},
   "outputs": [],
   "source": []
  }
 ],
 "metadata": {
  "kernelspec": {
   "display_name": "Python 3 (ipykernel)",
   "language": "python",
   "name": "python3"
  },
  "language_info": {
   "codemirror_mode": {
    "name": "ipython",
    "version": 3
   },
   "file_extension": ".py",
   "mimetype": "text/x-python",
   "name": "python",
   "nbconvert_exporter": "python",
   "pygments_lexer": "ipython3",
   "version": "3.9.18"
  }
 },
 "nbformat": 4,
 "nbformat_minor": 5
}
